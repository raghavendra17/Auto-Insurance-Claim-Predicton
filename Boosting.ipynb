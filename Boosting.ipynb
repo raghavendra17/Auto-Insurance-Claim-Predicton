{
 "cells": [
  {
   "cell_type": "code",
   "execution_count": 1,
   "id": "b6f9406c",
   "metadata": {},
   "outputs": [],
   "source": [
    "#pip install xgboost\n",
    "import pandas as pd\n",
    "import numpy as np\n",
    "from sklearn.model_selection import train_test_split,cross_val_score,GridSearchCV,RandomizedSearchCV\n",
    "from sklearn.preprocessing import StandardScaler\n",
    "from sklearn.tree import DecisionTreeClassifier\n",
    "from sklearn.ensemble import RandomForestClassifier\n",
    "from sklearn.ensemble import AdaBoostClassifier\n",
    "import timeit\n",
    "import seaborn as sns\n",
    "from sklearn.metrics import confusion_matrix,classification_report,accuracy_score,f1_score,precision_score,recall_score"
   ]
  },
  {
   "cell_type": "code",
   "execution_count": 2,
   "id": "e7553693",
   "metadata": {},
   "outputs": [],
   "source": [
    "x_resampled=pd.read_csv('resampled_without_encoding.csv')\n",
    "x_resampled_encoding=pd.read_csv('resampled_with_encoding.csv')\n",
    "y_resampled=pd.read_csv('y_resampled.csv')"
   ]
  },
  {
   "cell_type": "markdown",
   "id": "06c1d3f2",
   "metadata": {},
   "source": [
    "### Data with Resampling and without OneHotEncoding"
   ]
  },
  {
   "cell_type": "markdown",
   "id": "8190de1d",
   "metadata": {},
   "source": [
    "### Adaboost with base model as RandomForestClassifier"
   ]
  },
  {
   "cell_type": "code",
   "execution_count": 3,
   "id": "a247c5ef",
   "metadata": {},
   "outputs": [],
   "source": [
    "X = x_resampled.values\n",
    "Y = np.squeeze(y_resampled.values)\n",
    "X_train,X_test,y_train,y_test=train_test_split(X,Y,test_size=0.2,random_state=10)"
   ]
  },
  {
   "cell_type": "code",
   "execution_count": 4,
   "id": "13232a54",
   "metadata": {},
   "outputs": [],
   "source": [
    "scaler = StandardScaler().fit(X_train)\n",
    "train_sc = scaler.transform(X_train)\n",
    "test_sc = scaler.transform(X_test)"
   ]
  },
  {
   "cell_type": "code",
   "execution_count": 5,
   "id": "17ab301c",
   "metadata": {},
   "outputs": [
    {
     "name": "stdout",
     "output_type": "stream",
     "text": [
      "Time taken to fit the model in sec is  1317.0476422000002\n"
     ]
    }
   ],
   "source": [
    "clf = RandomForestClassifier(random_state=48)\n",
    "abc = AdaBoostClassifier(base_estimator=clf,n_estimators=50,learning_rate=1,random_state=48)\n",
    "# Train Adaboost Classifer\n",
    "start_time = timeit.default_timer()\n",
    "model = abc.fit(train_sc, y_train)\n",
    "elapsed = timeit.default_timer() - start_time\n",
    "print(\"Time taken to fit the model in sec is \",elapsed)\n",
    "y_pred = model.predict(test_sc)"
   ]
  },
  {
   "cell_type": "code",
   "execution_count": 6,
   "id": "683e68dd",
   "metadata": {},
   "outputs": [
    {
     "name": "stdout",
     "output_type": "stream",
     "text": [
      "Accuracy score: 0.9811\n",
      "F1 score : 0.9808\n",
      "Recall score : 0.9627\n",
      "Precision score : 0.9996\n"
     ]
    }
   ],
   "source": [
    "print(f\"Accuracy score: {accuracy_score(y_test, y_pred):.4f}\")\n",
    "print(f\"F1 score : {f1_score(y_test, y_pred):.4f}\")\n",
    "print(f\"Recall score : {recall_score(y_test, y_pred):.4f}\")\n",
    "print(f\"Precision score : {precision_score(y_test, y_pred):.4f}\")"
   ]
  },
  {
   "cell_type": "code",
   "execution_count": 7,
   "id": "a2d99a5e",
   "metadata": {},
   "outputs": [
    {
     "data": {
      "text/plain": [
       "<AxesSubplot:>"
      ]
     },
     "execution_count": 7,
     "metadata": {},
     "output_type": "execute_result"
    },
    {
     "data": {
      "image/png": "[encoded data removed]",
      "text/plain": [
       "<Figure size 432x288 with 2 Axes>"
      ]
     },
     "metadata": {
      "needs_background": "light"
     },
     "output_type": "display_data"
    }
   ],
   "source": [
    "sns.heatmap(confusion_matrix(y_test,y_pred),annot=True, cmap='Blues')"
   ]
  },
  {
   "cell_type": "code",
   "execution_count": 8,
   "id": "ae2352f1",
   "metadata": {},
   "outputs": [
    {
     "name": "stdout",
     "output_type": "stream",
     "text": [
      "              precision    recall  f1-score   support\n",
      "\n",
      "           0       0.96      1.00      0.98    114386\n",
      "           1       1.00      0.96      0.98    115022\n",
      "\n",
      "    accuracy                           0.98    229408\n",
      "   macro avg       0.98      0.98      0.98    229408\n",
      "weighted avg       0.98      0.98      0.98    229408\n",
      "\n"
     ]
    }
   ],
   "source": [
    "print(classification_report(y_test, y_pred))"
   ]
  },
  {
   "cell_type": "markdown",
   "id": "6806927d",
   "metadata": {},
   "source": [
    "### Adaboost with base model as DecisionTreeClassifier"
   ]
  },
  {
   "cell_type": "code",
   "execution_count": 13,
   "id": "bddbd4c8",
   "metadata": {},
   "outputs": [
    {
     "name": "stdout",
     "output_type": "stream",
     "text": [
      "Time taken to fit the model in sec is  25.89680260000023\n"
     ]
    }
   ],
   "source": [
    "clf = DecisionTreeClassifier(random_state=23)\n",
    "abc = AdaBoostClassifier(base_estimator=clf,n_estimators=50,learning_rate=1,random_state=48)\n",
    "# Train Adaboost Classifer\n",
    "start_time = timeit.default_timer()\n",
    "model = abc.fit(train_sc, y_train)\n",
    "elapsed = timeit.default_timer() - start_time\n",
    "print(\"Time taken to fit the model in sec is \",elapsed)\n",
    "y_pred = model.predict(test_sc)"
   ]
  },
  {
   "cell_type": "code",
   "execution_count": 14,
   "id": "cffb07f3",
   "metadata": {},
   "outputs": [
    {
     "name": "stdout",
     "output_type": "stream",
     "text": [
      "Accuracy score: 0.9448\n",
      "F1 score : 0.9456\n",
      "Recall score : 0.9579\n",
      "Precision score : 0.9337\n"
     ]
    }
   ],
   "source": [
    "print(f\"Accuracy score: {accuracy_score(y_test, y_pred):.4f}\")\n",
    "print(f\"F1 score : {f1_score(y_test, y_pred):.4f}\")\n",
    "print(f\"Recall score : {recall_score(y_test, y_pred):.4f}\")\n",
    "print(f\"Precision score : {precision_score(y_test, y_pred):.4f}\")"
   ]
  },
  {
   "cell_type": "code",
   "execution_count": 15,
   "id": "aac26d13",
   "metadata": {},
   "outputs": [
    {
     "data": {
      "text/plain": [
       "<AxesSubplot:>"
      ]
     },
     "execution_count": 15,
     "metadata": {},
     "output_type": "execute_result"
    },
    {
     "data": {
      "image/png": "[encoded data removed]",
      "text/plain": [
       "<Figure size 432x288 with 2 Axes>"
      ]
     },
     "metadata": {
      "needs_background": "light"
     },
     "output_type": "display_data"
    }
   ],
   "source": [
    "sns.heatmap(confusion_matrix(y_test,y_pred),annot=True, cmap='Blues')"
   ]
  },
  {
   "cell_type": "code",
   "execution_count": 16,
   "id": "e1c7ee74",
   "metadata": {},
   "outputs": [
    {
     "name": "stdout",
     "output_type": "stream",
     "text": [
      "Time taken to fit the model in sec is  26.307148799999595\n"
     ]
    }
   ],
   "source": [
    "clf = DecisionTreeClassifier(random_state=23)\n",
    "abc = AdaBoostClassifier(base_estimator=clf,n_estimators=100,learning_rate=1,random_state=48)\n",
    "# Train Adaboost Classifer\n",
    "start_time = timeit.default_timer()\n",
    "model = abc.fit(X_train, y_train)\n",
    "elapsed = timeit.default_timer() - start_time\n",
    "print(\"Time taken to fit the model in sec is \",elapsed)\n",
    "y_pred = model.predict(X_test)"
   ]
  },
  {
   "cell_type": "code",
   "execution_count": 17,
   "id": "71125c88",
   "metadata": {},
   "outputs": [
    {
     "name": "stdout",
     "output_type": "stream",
     "text": [
      "Accuracy score: 0.9448\n",
      "F1 score : 0.9456\n",
      "Recall score : 0.9579\n",
      "Precision score : 0.9337\n"
     ]
    }
   ],
   "source": [
    "print(f\"Accuracy score: {accuracy_score(y_test, y_pred):.4f}\")\n",
    "print(f\"F1 score : {f1_score(y_test, y_pred):.4f}\")\n",
    "print(f\"Recall score : {recall_score(y_test, y_pred):.4f}\")\n",
    "print(f\"Precision score : {precision_score(y_test, y_pred):.4f}\")"
   ]
  },
  {
   "cell_type": "markdown",
   "id": "0dab314c",
   "metadata": {},
   "source": [
    "### Data with Resampling and with OneHotEncoding"
   ]
  },
  {
   "cell_type": "markdown",
   "id": "2eee9e39",
   "metadata": {},
   "source": [
    "### Adaboost with base model as RandomForestClassifier"
   ]
  },
  {
   "cell_type": "code",
   "execution_count": 19,
   "id": "0169ced7",
   "metadata": {},
   "outputs": [],
   "source": [
    "X = x_resampled_encoding.values\n",
    "Y = np.squeeze(y_resampled.values)\n",
    "X_train,X_test,y_train,y_test=train_test_split(X,Y,test_size=0.2,random_state=10)"
   ]
  },
  {
   "cell_type": "code",
   "execution_count": 20,
   "id": "95e10c15",
   "metadata": {},
   "outputs": [],
   "source": [
    "scaler = StandardScaler().fit(X_train)\n",
    "train_sc = scaler.transform(X_train)\n",
    "test_sc = scaler.transform(X_test)"
   ]
  },
  {
   "cell_type": "code",
   "execution_count": 23,
   "id": "5b9729db",
   "metadata": {},
   "outputs": [
    {
     "name": "stdout",
     "output_type": "stream",
     "text": [
      "Time taken to fit the model in sec is  1409.2733274999991\n"
     ]
    }
   ],
   "source": [
    "clf = RandomForestClassifier(random_state=48)\n",
    "abc = AdaBoostClassifier(base_estimator=clf,n_estimators=50,learning_rate=1)\n",
    "# Train Adaboost Classifer\n",
    "start_time = timeit.default_timer()\n",
    "model = abc.fit(train_sc, y_train)\n",
    "elapsed = timeit.default_timer() - start_time\n",
    "print(\"Time taken to fit the model in sec is \",elapsed)\n",
    "y_pred = model.predict(test_sc)"
   ]
  },
  {
   "cell_type": "code",
   "execution_count": 24,
   "id": "eb972ac3",
   "metadata": {},
   "outputs": [
    {
     "name": "stdout",
     "output_type": "stream",
     "text": [
      "Accuracy score: 0.9803\n",
      "F1 score : 0.9800\n",
      "Recall score : 0.9620\n",
      "Precision score : 0.9987\n"
     ]
    }
   ],
   "source": [
    "print(f\"Accuracy score: {accuracy_score(y_test, y_pred):.4f}\")\n",
    "print(f\"F1 score : {f1_score(y_test, y_pred):.4f}\")\n",
    "print(f\"Recall score : {recall_score(y_test, y_pred):.4f}\")\n",
    "print(f\"Precision score : {precision_score(y_test, y_pred):.4f}\")"
   ]
  },
  {
   "cell_type": "code",
   "execution_count": 25,
   "id": "be614964",
   "metadata": {},
   "outputs": [
    {
     "data": {
      "text/plain": [
       "<AxesSubplot:>"
      ]
     },
     "execution_count": 25,
     "metadata": {},
     "output_type": "execute_result"
    },
    {
     "data": {
      "image/png": "[encoded data removed]",
      "text/plain": [
       "<Figure size 432x288 with 2 Axes>"
      ]
     },
     "metadata": {
      "needs_background": "light"
     },
     "output_type": "display_data"
    }
   ],
   "source": [
    "sns.heatmap(confusion_matrix(y_test,y_pred),annot=True, cmap='Blues')"
   ]
  },
  {
   "cell_type": "code",
   "execution_count": 26,
   "id": "cef78929",
   "metadata": {},
   "outputs": [
    {
     "name": "stdout",
     "output_type": "stream",
     "text": [
      "              precision    recall  f1-score   support\n",
      "\n",
      "           0       0.96      1.00      0.98    114386\n",
      "           1       1.00      0.96      0.98    115022\n",
      "\n",
      "    accuracy                           0.98    229408\n",
      "   macro avg       0.98      0.98      0.98    229408\n",
      "weighted avg       0.98      0.98      0.98    229408\n",
      "\n"
     ]
    }
   ],
   "source": [
    "print(classification_report(y_test, y_pred))"
   ]
  },
  {
   "cell_type": "markdown",
   "id": "e2638f93",
   "metadata": {},
   "source": [
    "### Adaboost with base model as DecisionTreeClassifier"
   ]
  },
  {
   "cell_type": "code",
   "execution_count": 27,
   "id": "1a30cfef",
   "metadata": {},
   "outputs": [
    {
     "name": "stdout",
     "output_type": "stream",
     "text": [
      "Time taken to fit the model in sec is  62.984180900000865\n"
     ]
    }
   ],
   "source": [
    "clf = DecisionTreeClassifier(random_state=23)\n",
    "abc = AdaBoostClassifier(base_estimator=clf,n_estimators=50,learning_rate=1,random_state=48)\n",
    "# Train Adaboost Classifer\n",
    "start_time = timeit.default_timer()\n",
    "model = abc.fit(train_sc, y_train)\n",
    "elapsed = timeit.default_timer() - start_time\n",
    "print(\"Time taken to fit the model in sec is \",elapsed)\n",
    "y_pred = model.predict(test_sc)"
   ]
  },
  {
   "cell_type": "code",
   "execution_count": 28,
   "id": "42c8bd1d",
   "metadata": {},
   "outputs": [
    {
     "name": "stdout",
     "output_type": "stream",
     "text": [
      "Accuracy score: 0.9464\n",
      "F1 score : 0.9471\n",
      "Recall score : 0.9567\n",
      "Precision score : 0.9376\n"
     ]
    }
   ],
   "source": [
    "print(f\"Accuracy score: {accuracy_score(y_test, y_pred):.4f}\")\n",
    "print(f\"F1 score : {f1_score(y_test, y_pred):.4f}\")\n",
    "print(f\"Recall score : {recall_score(y_test, y_pred):.4f}\")\n",
    "print(f\"Precision score : {precision_score(y_test, y_pred):.4f}\")"
   ]
  },
  {
   "cell_type": "markdown",
   "id": "3dfee2fa",
   "metadata": {},
   "source": [
    "### GradientBoostClassifier"
   ]
  },
  {
   "cell_type": "code",
   "execution_count": 37,
   "id": "928e9b6c",
   "metadata": {},
   "outputs": [
    {
     "name": "stdout",
     "output_type": "stream",
     "text": [
      "Time taken to fit the model in sec is  1326.3653578000012\n"
     ]
    }
   ],
   "source": [
    "from sklearn.ensemble import GradientBoostingClassifier\n",
    "gbc=GradientBoostingClassifier(random_state=48)\n",
    "start_time = timeit.default_timer()\n",
    "gbc.fit(train_sc, y_train)\n",
    "elapsed = timeit.default_timer() - start_time\n",
    "print(\"Time taken to fit the model in sec is \",elapsed)\n",
    "y_pred = gbc.predict(test_sc)"
   ]
  },
  {
   "cell_type": "code",
   "execution_count": 38,
   "id": "ac1cdee7",
   "metadata": {},
   "outputs": [
    {
     "data": {
      "text/plain": [
       "0.957346735946436"
      ]
     },
     "execution_count": 38,
     "metadata": {},
     "output_type": "execute_result"
    }
   ],
   "source": [
    "gbc.score(test_sc,y_test)"
   ]
  },
  {
   "cell_type": "code",
   "execution_count": 39,
   "id": "704272b8",
   "metadata": {},
   "outputs": [
    {
     "name": "stdout",
     "output_type": "stream",
     "text": [
      "Accuracy score: 0.9573\n",
      "F1 score : 0.9564\n",
      "Recall score : 0.9320\n",
      "Precision score : 0.9820\n"
     ]
    }
   ],
   "source": [
    "print(f\"Accuracy score: {accuracy_score(y_test, y_pred):.4f}\")\n",
    "print(f\"F1 score : {f1_score(y_test, y_pred):.4f}\")\n",
    "print(f\"Recall score : {recall_score(y_test, y_pred):.4f}\")\n",
    "print(f\"Precision score : {precision_score(y_test, y_pred):.4f}\")"
   ]
  },
  {
   "cell_type": "code",
   "execution_count": 40,
   "id": "a7fbc393",
   "metadata": {},
   "outputs": [
    {
     "data": {
      "text/plain": [
       "<AxesSubplot:>"
      ]
     },
     "execution_count": 40,
     "metadata": {},
     "output_type": "execute_result"
    },
    {
     "data": {
      "image/png": "[encoded data removed]",
      "text/plain": [
       "<Figure size 432x288 with 2 Axes>"
      ]
     },
     "metadata": {
      "needs_background": "light"
     },
     "output_type": "display_data"
    }
   ],
   "source": [
    "sns.heatmap(confusion_matrix(y_test,y_pred),annot=True,cmap='Blues')"
   ]
  },
  {
   "cell_type": "code",
   "execution_count": 41,
   "id": "4740b3a6",
   "metadata": {},
   "outputs": [
    {
     "name": "stdout",
     "output_type": "stream",
     "text": [
      "              precision    recall  f1-score   support\n",
      "\n",
      "           0       0.93      0.98      0.96    114386\n",
      "           1       0.98      0.93      0.96    115022\n",
      "\n",
      "    accuracy                           0.96    229408\n",
      "   macro avg       0.96      0.96      0.96    229408\n",
      "weighted avg       0.96      0.96      0.96    229408\n",
      "\n"
     ]
    }
   ],
   "source": [
    "print(classification_report(y_test, y_pred))"
   ]
  },
  {
   "cell_type": "code",
   "execution_count": null,
   "id": "1410c15d",
   "metadata": {},
   "outputs": [],
   "source": []
  }
 ],
 "metadata": {
  "kernelspec": {
   "display_name": "Python 3 (ipykernel)",
   "language": "python",
   "name": "python3"
  },
  "language_info": {
   "codemirror_mode": {
    "name": "ipython",
    "version": 3
   },
   "file_extension": ".py",
   "mimetype": "text/x-python",
   "name": "python",
   "nbconvert_exporter": "python",
   "pygments_lexer": "ipython3",
   "version": "3.9.7"
  }
 },
 "nbformat": 4,
 "nbformat_minor": 5
}
