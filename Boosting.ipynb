{
 "cells": [
  {
   "cell_type": "code",
   "execution_count": 1,
   "id": "b6f9406c",
   "metadata": {},
   "outputs": [],
   "source": [
    "#pip install xgboost\n",
    "import pandas as pd\n",
    "import numpy as np\n",
    "from sklearn.model_selection import train_test_split,cross_val_score,GridSearchCV,RandomizedSearchCV\n",
    "from sklearn.tree import DecisionTreeClassifier\n",
    "from sklearn.ensemble import RandomForestClassifier\n",
    "from sklearn.ensemble import AdaBoostClassifier\n",
    "import xgboost as xgb\n",
    "import timeit\n",
    "import seaborn as sns\n",
    "from sklearn.metrics import confusion_matrix,classification_report,accuracy_score,f1_score,precision_score,recall_score"
   ]
  },
  {
   "cell_type": "code",
   "execution_count": 2,
   "id": "e7553693",
   "metadata": {},
   "outputs": [],
   "source": [
    "x_resampled=pd.read_csv('resampled_without_encoding.csv')\n",
    "y_resampled=pd.read_csv('y_resampled.csv')\n",
    "min_max_scale_data=pd.read_csv('min_max_resampled_with_encoding.csv')"
   ]
  },
  {
   "cell_type": "markdown",
   "id": "06c1d3f2",
   "metadata": {},
   "source": [
    "### Data with Resampling and without OneHotEncoding"
   ]
  },
  {
   "cell_type": "markdown",
   "id": "8190de1d",
   "metadata": {},
   "source": [
    "### Adaboost with base model as RandomForestClassifier"
   ]
  },
  {
   "cell_type": "code",
   "execution_count": 3,
   "id": "a247c5ef",
   "metadata": {},
   "outputs": [],
   "source": [
    "X = x_resampled.values\n",
    "Y = np.squeeze(y_resampled.values)\n",
    "X_train,X_test,y_train,y_test=train_test_split(X,Y,test_size=0.2,random_state=10)"
   ]
  },
  {
   "cell_type": "code",
   "execution_count": 5,
   "id": "17ab301c",
   "metadata": {},
   "outputs": [
    {
     "name": "stdout",
     "output_type": "stream",
     "text": [
      "Time taken to fit the model in sec is  1317.0476422000002\n"
     ]
    }
   ],
   "source": [
    "clf = RandomForestClassifier(random_state=48)\n",
    "abc = AdaBoostClassifier(base_estimator=clf,n_estimators=50,learning_rate=1,random_state=48)\n",
    "# Train Adaboost Classifer\n",
    "start_time = timeit.default_timer()\n",
    "model = abc.fit(X_train, y_train)\n",
    "elapsed = timeit.default_timer() - start_time\n",
    "print(\"Time taken to fit the model in sec is \",elapsed)\n",
    "y_pred = model.predict(X_test)"
   ]
  },
  {
   "cell_type": "code",
   "execution_count": 6,
   "id": "683e68dd",
   "metadata": {},
   "outputs": [
    {
     "name": "stdout",
     "output_type": "stream",
     "text": [
      "Accuracy score: 0.9811\n",
      "F1 score : 0.9808\n",
      "Recall score : 0.9627\n",
      "Precision score : 0.9996\n"
     ]
    }
   ],
   "source": [
    "print(f\"Accuracy score: {accuracy_score(y_test, y_pred):.4f}\")\n",
    "print(f\"F1 score : {f1_score(y_test, y_pred):.4f}\")\n",
    "print(f\"Recall score : {recall_score(y_test, y_pred):.4f}\")\n",
    "print(f\"Precision score : {precision_score(y_test, y_pred):.4f}\")"
   ]
  },
  {
   "cell_type": "code",
   "execution_count": 7,
   "id": "a2d99a5e",
   "metadata": {},
   "outputs": [
    {
     "data": {
      "text/plain": [
       "<AxesSubplot:>"
      ]
     },
     "execution_count": 7,
     "metadata": {},
     "output_type": "execute_result"
    },
    {
     "data": {
      "image/png": "[encoded data removed]",
      "text/plain": [
       "<Figure size 432x288 with 2 Axes>"
      ]
     },
     "metadata": {
      "needs_background": "light"
     },
     "output_type": "display_data"
    }
   ],
   "source": [
    "sns.heatmap(confusion_matrix(y_test,y_pred),annot=True, cmap='Blues')"
   ]
  },
  {
   "cell_type": "code",
   "execution_count": 8,
   "id": "ae2352f1",
   "metadata": {},
   "outputs": [
    {
     "name": "stdout",
     "output_type": "stream",
     "text": [
      "              precision    recall  f1-score   support\n",
      "\n",
      "           0       0.96      1.00      0.98    114386\n",
      "           1       1.00      0.96      0.98    115022\n",
      "\n",
      "    accuracy                           0.98    229408\n",
      "   macro avg       0.98      0.98      0.98    229408\n",
      "weighted avg       0.98      0.98      0.98    229408\n",
      "\n"
     ]
    }
   ],
   "source": [
    "print(classification_report(y_test, y_pred))"
   ]
  },
  {
   "cell_type": "markdown",
   "id": "6806927d",
   "metadata": {},
   "source": [
    "### Adaboost with base model as DecisionTreeClassifier"
   ]
  },
  {
   "cell_type": "code",
   "execution_count": 12,
   "id": "3ae9ac80",
   "metadata": {},
   "outputs": [],
   "source": [
    "X = x_resampled.values\n",
    "Y = np.squeeze(y_resampled.values)\n",
    "X_train,X_test,y_train,y_test=train_test_split(X,Y,test_size=0.2,random_state=10)"
   ]
  },
  {
   "cell_type": "code",
   "execution_count": 13,
   "id": "bddbd4c8",
   "metadata": {},
   "outputs": [
    {
     "name": "stdout",
     "output_type": "stream",
     "text": [
      "Time taken to fit the model in sec is  25.89680260000023\n"
     ]
    }
   ],
   "source": [
    "clf = DecisionTreeClassifier(random_state=23)\n",
    "abc = AdaBoostClassifier(base_estimator=clf,n_estimators=50,learning_rate=1,random_state=48)\n",
    "# Train Adaboost Classifer\n",
    "start_time = timeit.default_timer()\n",
    "model = abc.fit(X_train, y_train)\n",
    "elapsed = timeit.default_timer() - start_time\n",
    "print(\"Time taken to fit the model in sec is \",elapsed)\n",
    "y_pred = model.predict(X_test)"
   ]
  },
  {
   "cell_type": "code",
   "execution_count": 14,
   "id": "cffb07f3",
   "metadata": {},
   "outputs": [
    {
     "name": "stdout",
     "output_type": "stream",
     "text": [
      "Accuracy score: 0.9448\n",
      "F1 score : 0.9456\n",
      "Recall score : 0.9579\n",
      "Precision score : 0.9337\n"
     ]
    }
   ],
   "source": [
    "print(f\"Accuracy score: {accuracy_score(y_test, y_pred):.4f}\")\n",
    "print(f\"F1 score : {f1_score(y_test, y_pred):.4f}\")\n",
    "print(f\"Recall score : {recall_score(y_test, y_pred):.4f}\")\n",
    "print(f\"Precision score : {precision_score(y_test, y_pred):.4f}\")"
   ]
  },
  {
   "cell_type": "code",
   "execution_count": 15,
   "id": "aac26d13",
   "metadata": {},
   "outputs": [
    {
     "data": {
      "text/plain": [
       "<AxesSubplot:>"
      ]
     },
     "execution_count": 15,
     "metadata": {},
     "output_type": "execute_result"
    },
    {
     "data": {
      "image/png": "[encoded data removed]",
      "text/plain": [
       "<Figure size 432x288 with 2 Axes>"
      ]
     },
     "metadata": {
      "needs_background": "light"
     },
     "output_type": "display_data"
    }
   ],
   "source": [
    "sns.heatmap(confusion_matrix(y_test,y_pred),annot=True, cmap='Blues')"
   ]
  },
  {
   "cell_type": "code",
   "execution_count": 16,
   "id": "e1c7ee74",
   "metadata": {},
   "outputs": [
    {
     "name": "stdout",
     "output_type": "stream",
     "text": [
      "Time taken to fit the model in sec is  26.307148799999595\n"
     ]
    }
   ],
   "source": [
    "clf = DecisionTreeClassifier(random_state=23)\n",
    "abc = AdaBoostClassifier(base_estimator=clf,n_estimators=100,learning_rate=1,random_state=48)\n",
    "# Train Adaboost Classifer\n",
    "start_time = timeit.default_timer()\n",
    "model = abc.fit(X_train, y_train)\n",
    "elapsed = timeit.default_timer() - start_time\n",
    "print(\"Time taken to fit the model in sec is \",elapsed)\n",
    "y_pred = model.predict(X_test)"
   ]
  },
  {
   "cell_type": "code",
   "execution_count": 17,
   "id": "71125c88",
   "metadata": {},
   "outputs": [
    {
     "name": "stdout",
     "output_type": "stream",
     "text": [
      "Accuracy score: 0.9448\n",
      "F1 score : 0.9456\n",
      "Recall score : 0.9579\n",
      "Precision score : 0.9337\n"
     ]
    }
   ],
   "source": [
    "print(f\"Accuracy score: {accuracy_score(y_test, y_pred):.4f}\")\n",
    "print(f\"F1 score : {f1_score(y_test, y_pred):.4f}\")\n",
    "print(f\"Recall score : {recall_score(y_test, y_pred):.4f}\")\n",
    "print(f\"Precision score : {precision_score(y_test, y_pred):.4f}\")"
   ]
  },
  {
   "cell_type": "markdown",
   "id": "42ce00aa",
   "metadata": {},
   "source": [
    "### XGBoost Classifier"
   ]
  },
  {
   "cell_type": "code",
   "execution_count": 18,
   "id": "774d1b8a",
   "metadata": {},
   "outputs": [],
   "source": [
    "model1 =xgb.XGBClassifier( \n",
    "                      learning_rate=0.06,  \n",
    "                      colsample_bytree = 0.6,\n",
    "                      subsample = 0.8, \n",
    "                      n_estimators=200,                       \n",
    "                      max_depth=3, \n",
    "                      gamma=0)\n",
    "model1.fit(X_train, y_train)\n",
    "y_pred1 = model1.predict(X_test)"
   ]
  },
  {
   "cell_type": "code",
   "execution_count": 19,
   "id": "7830fb69",
   "metadata": {},
   "outputs": [
    {
     "name": "stdout",
     "output_type": "stream",
     "text": [
      "Accuracy score: 0.9684\n",
      "F1 score : 0.9678\n",
      "Recall score : 0.9454\n",
      "Precision score : 0.9912\n"
     ]
    }
   ],
   "source": [
    "print(f\"Accuracy score: {accuracy_score(y_test, y_pred1):.4f}\")\n",
    "print(f\"F1 score : {f1_score(y_test, y_pred1):.4f}\")\n",
    "print(f\"Recall score : {recall_score(y_test, y_pred1):.4f}\")\n",
    "print(f\"Precision score : {precision_score(y_test, y_pred1):.4f}\")"
   ]
  },
  {
   "cell_type": "code",
   "execution_count": 20,
   "id": "ac276b44",
   "metadata": {},
   "outputs": [
    {
     "data": {
      "text/plain": [
       "<AxesSubplot:>"
      ]
     },
     "execution_count": 20,
     "metadata": {},
     "output_type": "execute_result"
    },
    {
     "data": {
      "image/png": "[encoded data removed]",
      "text/plain": [
       "<Figure size 432x288 with 2 Axes>"
      ]
     },
     "metadata": {
      "needs_background": "light"
     },
     "output_type": "display_data"
    }
   ],
   "source": [
    "sns.heatmap(confusion_matrix(y_test,y_pred1),annot=True, cmap='Blues')"
   ]
  },
  {
   "cell_type": "code",
   "execution_count": 21,
   "id": "86f94710",
   "metadata": {},
   "outputs": [
    {
     "name": "stdout",
     "output_type": "stream",
     "text": [
      "              precision    recall  f1-score   support\n",
      "\n",
      "           0       0.95      0.99      0.97    114386\n",
      "           1       0.99      0.95      0.97    115022\n",
      "\n",
      "    accuracy                           0.97    229408\n",
      "   macro avg       0.97      0.97      0.97    229408\n",
      "weighted avg       0.97      0.97      0.97    229408\n",
      "\n"
     ]
    }
   ],
   "source": [
    "print(classification_report(y_test, y_pred1))"
   ]
  },
  {
   "cell_type": "markdown",
   "id": "0dab314c",
   "metadata": {},
   "source": [
    "### Data with Resampling and with OneHotEncoding"
   ]
  },
  {
   "cell_type": "markdown",
   "id": "2eee9e39",
   "metadata": {},
   "source": [
    "### Adaboost with base model as RandomForestClassifier"
   ]
  },
  {
   "cell_type": "code",
   "execution_count": 3,
   "id": "45030e38",
   "metadata": {},
   "outputs": [],
   "source": [
    "X = min_max_scale_data.values\n",
    "Y = np.squeeze(y_resampled.values)\n",
    "X_train,X_test,y_train,y_test=train_test_split(X,Y,test_size=0.2,random_state=10)"
   ]
  },
  {
   "cell_type": "code",
   "execution_count": 23,
   "id": "5b9729db",
   "metadata": {},
   "outputs": [
    {
     "name": "stdout",
     "output_type": "stream",
     "text": [
      "Time taken to fit the model in sec is  1409.2733274999991\n"
     ]
    }
   ],
   "source": [
    "clf = RandomForestClassifier(random_state=48)\n",
    "abc = AdaBoostClassifier(base_estimator=clf,n_estimators=50,learning_rate=1)\n",
    "# Train Adaboost Classifer\n",
    "start_time = timeit.default_timer()\n",
    "model = abc.fit(X_train, y_train)\n",
    "elapsed = timeit.default_timer() - start_time\n",
    "print(\"Time taken to fit the model in sec is \",elapsed)\n",
    "y_pred = model.predict(X_test)"
   ]
  },
  {
   "cell_type": "code",
   "execution_count": 24,
   "id": "eb972ac3",
   "metadata": {},
   "outputs": [
    {
     "name": "stdout",
     "output_type": "stream",
     "text": [
      "Accuracy score: 0.9803\n",
      "F1 score : 0.9800\n",
      "Recall score : 0.9620\n",
      "Precision score : 0.9987\n"
     ]
    }
   ],
   "source": [
    "print(f\"Accuracy score: {accuracy_score(y_test, y_pred):.4f}\")\n",
    "print(f\"F1 score : {f1_score(y_test, y_pred):.4f}\")\n",
    "print(f\"Recall score : {recall_score(y_test, y_pred):.4f}\")\n",
    "print(f\"Precision score : {precision_score(y_test, y_pred):.4f}\")"
   ]
  },
  {
   "cell_type": "code",
   "execution_count": 25,
   "id": "be614964",
   "metadata": {},
   "outputs": [
    {
     "data": {
      "text/plain": [
       "<AxesSubplot:>"
      ]
     },
     "execution_count": 25,
     "metadata": {},
     "output_type": "execute_result"
    },
    {
     "data": {
      "image/png": "[encoded data removed]",
      "text/plain": [
       "<Figure size 432x288 with 2 Axes>"
      ]
     },
     "metadata": {
      "needs_background": "light"
     },
     "output_type": "display_data"
    }
   ],
   "source": [
    "sns.heatmap(confusion_matrix(y_test,y_pred),annot=True, cmap='Blues')"
   ]
  },
  {
   "cell_type": "code",
   "execution_count": 26,
   "id": "cef78929",
   "metadata": {},
   "outputs": [
    {
     "name": "stdout",
     "output_type": "stream",
     "text": [
      "              precision    recall  f1-score   support\n",
      "\n",
      "           0       0.96      1.00      0.98    114386\n",
      "           1       1.00      0.96      0.98    115022\n",
      "\n",
      "    accuracy                           0.98    229408\n",
      "   macro avg       0.98      0.98      0.98    229408\n",
      "weighted avg       0.98      0.98      0.98    229408\n",
      "\n"
     ]
    }
   ],
   "source": [
    "print(classification_report(y_test, y_pred))"
   ]
  },
  {
   "cell_type": "markdown",
   "id": "e2638f93",
   "metadata": {},
   "source": [
    "### Adaboost with base model as DecisionTreeClassifier"
   ]
  },
  {
   "cell_type": "code",
   "execution_count": 27,
   "id": "1a30cfef",
   "metadata": {},
   "outputs": [
    {
     "name": "stdout",
     "output_type": "stream",
     "text": [
      "Time taken to fit the model in sec is  62.984180900000865\n"
     ]
    }
   ],
   "source": [
    "clf = DecisionTreeClassifier(random_state=23)\n",
    "abc = AdaBoostClassifier(base_estimator=clf,n_estimators=50,learning_rate=1,random_state=48)\n",
    "# Train Adaboost Classifer\n",
    "start_time = timeit.default_timer()\n",
    "model = abc.fit(X_train, y_train)\n",
    "elapsed = timeit.default_timer() - start_time\n",
    "print(\"Time taken to fit the model in sec is \",elapsed)\n",
    "y_pred = model.predict(X_test)"
   ]
  },
  {
   "cell_type": "code",
   "execution_count": 28,
   "id": "42c8bd1d",
   "metadata": {},
   "outputs": [
    {
     "name": "stdout",
     "output_type": "stream",
     "text": [
      "Accuracy score: 0.9464\n",
      "F1 score : 0.9471\n",
      "Recall score : 0.9567\n",
      "Precision score : 0.9376\n"
     ]
    }
   ],
   "source": [
    "print(f\"Accuracy score: {accuracy_score(y_test, y_pred):.4f}\")\n",
    "print(f\"F1 score : {f1_score(y_test, y_pred):.4f}\")\n",
    "print(f\"Recall score : {recall_score(y_test, y_pred):.4f}\")\n",
    "print(f\"Precision score : {precision_score(y_test, y_pred):.4f}\")"
   ]
  },
  {
   "cell_type": "markdown",
   "id": "8d179ddc",
   "metadata": {},
   "source": [
    "### XGB Classifier"
   ]
  },
  {
   "cell_type": "code",
   "execution_count": 30,
   "id": "0a75f97c",
   "metadata": {},
   "outputs": [],
   "source": [
    "model1 =xgb.XGBClassifier( \n",
    "                      learning_rate=0.06,  \n",
    "                      colsample_bytree = 0.6,\n",
    "                      subsample = 0.8, \n",
    "                      n_estimators=200,                       \n",
    "                      max_depth=3, \n",
    "                      gamma=0)\n",
    "start_time = timeit.default_timer()\n",
    "model1.fit(X_train, y_train)\n",
    "elapsed = timeit.default_timer() - start_time\n",
    "y_pred1 = model1.predict(X_test)"
   ]
  },
  {
   "cell_type": "code",
   "execution_count": 31,
   "id": "1b719290",
   "metadata": {},
   "outputs": [
    {
     "name": "stdout",
     "output_type": "stream",
     "text": [
      "Accuracy score: 0.9674\n",
      "F1 score : 0.9667\n",
      "Recall score : 0.9444\n",
      "Precision score : 0.9901\n"
     ]
    }
   ],
   "source": [
    "print(f\"Accuracy score: {accuracy_score(y_test, y_pred1):.4f}\")\n",
    "print(f\"F1 score : {f1_score(y_test, y_pred1):.4f}\")\n",
    "print(f\"Recall score : {recall_score(y_test, y_pred1):.4f}\")\n",
    "print(f\"Precision score : {precision_score(y_test, y_pred1):.4f}\")"
   ]
  },
  {
   "cell_type": "code",
   "execution_count": 32,
   "id": "573c81db",
   "metadata": {},
   "outputs": [
    {
     "data": {
      "text/plain": [
       "<AxesSubplot:>"
      ]
     },
     "execution_count": 32,
     "metadata": {},
     "output_type": "execute_result"
    },
    {
     "data": {
      "image/png": "[encoded data removed]",
      "text/plain": [
       "<Figure size 432x288 with 2 Axes>"
      ]
     },
     "metadata": {
      "needs_background": "light"
     },
     "output_type": "display_data"
    }
   ],
   "source": [
    "sns.heatmap(confusion_matrix(y_test,y_pred1),annot=True,cmap='Blues')"
   ]
  },
  {
   "cell_type": "code",
   "execution_count": 33,
   "id": "cee6313f",
   "metadata": {},
   "outputs": [
    {
     "name": "stdout",
     "output_type": "stream",
     "text": [
      "              precision    recall  f1-score   support\n",
      "\n",
      "           0       0.95      0.99      0.97    114386\n",
      "           1       0.99      0.94      0.97    115022\n",
      "\n",
      "    accuracy                           0.97    229408\n",
      "   macro avg       0.97      0.97      0.97    229408\n",
      "weighted avg       0.97      0.97      0.97    229408\n",
      "\n"
     ]
    }
   ],
   "source": [
    "print(classification_report(y_test, y_pred1))"
   ]
  },
  {
   "cell_type": "markdown",
   "id": "3dfee2fa",
   "metadata": {},
   "source": [
    "### GradientBoostClassifier"
   ]
  },
  {
   "cell_type": "code",
   "execution_count": 37,
   "id": "928e9b6c",
   "metadata": {},
   "outputs": [
    {
     "name": "stdout",
     "output_type": "stream",
     "text": [
      "Time taken to fit the model in sec is  1326.3653578000012\n"
     ]
    }
   ],
   "source": [
    "from sklearn.ensemble import GradientBoostingClassifier\n",
    "gbc=GradientBoostingClassifier(random_state=48)\n",
    "start_time = timeit.default_timer()\n",
    "gbc.fit(X_train, y_train)\n",
    "elapsed = timeit.default_timer() - start_time\n",
    "print(\"Time taken to fit the model in sec is \",elapsed)\n",
    "y_pred = gbc.predict(X_test)"
   ]
  },
  {
   "cell_type": "code",
   "execution_count": 38,
   "id": "ac1cdee7",
   "metadata": {},
   "outputs": [
    {
     "data": {
      "text/plain": [
       "0.957346735946436"
      ]
     },
     "execution_count": 38,
     "metadata": {},
     "output_type": "execute_result"
    }
   ],
   "source": [
    "gbc.score(X_test,y_test)"
   ]
  },
  {
   "cell_type": "code",
   "execution_count": 39,
   "id": "704272b8",
   "metadata": {},
   "outputs": [
    {
     "name": "stdout",
     "output_type": "stream",
     "text": [
      "Accuracy score: 0.9573\n",
      "F1 score : 0.9564\n",
      "Recall score : 0.9320\n",
      "Precision score : 0.9820\n"
     ]
    }
   ],
   "source": [
    "print(f\"Accuracy score: {accuracy_score(y_test, y_pred):.4f}\")\n",
    "print(f\"F1 score : {f1_score(y_test, y_pred):.4f}\")\n",
    "print(f\"Recall score : {recall_score(y_test, y_pred):.4f}\")\n",
    "print(f\"Precision score : {precision_score(y_test, y_pred):.4f}\")"
   ]
  },
  {
   "cell_type": "code",
   "execution_count": 40,
   "id": "a7fbc393",
   "metadata": {},
   "outputs": [
    {
     "data": {
      "text/plain": [
       "<AxesSubplot:>"
      ]
     },
     "execution_count": 40,
     "metadata": {},
     "output_type": "execute_result"
    },
    {
     "data": {
      "image/png": "[encoded data removed]",
      "text/plain": [
       "<Figure size 432x288 with 2 Axes>"
      ]
     },
     "metadata": {
      "needs_background": "light"
     },
     "output_type": "display_data"
    }
   ],
   "source": [
    "sns.heatmap(confusion_matrix(y_test,y_pred),annot=True,cmap='Blues')"
   ]
  },
  {
   "cell_type": "code",
   "execution_count": 41,
   "id": "4740b3a6",
   "metadata": {},
   "outputs": [
    {
     "name": "stdout",
     "output_type": "stream",
     "text": [
      "              precision    recall  f1-score   support\n",
      "\n",
      "           0       0.93      0.98      0.96    114386\n",
      "           1       0.98      0.93      0.96    115022\n",
      "\n",
      "    accuracy                           0.96    229408\n",
      "   macro avg       0.96      0.96      0.96    229408\n",
      "weighted avg       0.96      0.96      0.96    229408\n",
      "\n"
     ]
    }
   ],
   "source": [
    "print(classification_report(y_test, y_pred))"
   ]
  },
  {
   "cell_type": "code",
   "execution_count": null,
   "id": "1410c15d",
   "metadata": {},
   "outputs": [],
   "source": []
  }
 ],
 "metadata": {
  "kernelspec": {
   "display_name": "Python 3 (ipykernel)",
   "language": "python",
   "name": "python3"
  },
  "language_info": {
   "codemirror_mode": {
    "name": "ipython",
    "version": 3
   },
   "file_extension": ".py",
   "mimetype": "text/x-python",
   "name": "python",
   "nbconvert_exporter": "python",
   "pygments_lexer": "ipython3",
   "version": "3.9.7"
  }
 },
 "nbformat": 4,
 "nbformat_minor": 5
}
