{
 "cells": [
  {
   "cell_type": "code",
   "execution_count": 1,
   "metadata": {},
   "outputs": [],
   "source": [
    "import pandas as pd\n",
    "import numpy as np\n",
    "from sklearn.preprocessing import StandardScaler\n",
    "from sklearn.model_selection import train_test_split,cross_val_score,GridSearchCV,RandomizedSearchCV\n",
    "from sklearn.neural_network import MLPClassifier\n",
    "import timeit\n",
    "import seaborn as sns\n",
    "from sklearn.metrics import confusion_matrix,classification_report,accuracy_score,f1_score,precision_score,recall_score,RocCurveDisplay\n",
    "from matplotlib import pyplot"
   ]
  },
  {
   "cell_type": "code",
   "execution_count": 2,
   "metadata": {},
   "outputs": [],
   "source": [
    "x_resampled=pd.read_csv('resampled_without_encoding.csv')\n",
    "x_resampled_encoding=pd.read_csv('resampled_with_encoding.csv')\n",
    "y_resampled=pd.read_csv('y_resampled.csv')"
   ]
  },
  {
   "cell_type": "markdown",
   "metadata": {
    "id": "P2U4AUV_JMmP"
   },
   "source": [
    "## Modelling"
   ]
  },
  {
   "cell_type": "markdown",
   "metadata": {},
   "source": [
    "### Data with Resampling and without OneHotEncoding"
   ]
  },
  {
   "cell_type": "code",
   "execution_count": 3,
   "metadata": {},
   "outputs": [],
   "source": [
    "X = x_resampled.values\n",
    "Y = np.squeeze(y_resampled.values)\n",
    "X_train,X_test1,y_train,y_test1=train_test_split(X,Y,test_size=0.2,random_state=10)\n",
    "\n",
    "scaler = StandardScaler().fit(X_train)\n",
    "train_sc = scaler.transform(X_train)\n",
    "test_sc = scaler.transform(X_test1)"
   ]
  },
  {
   "cell_type": "code",
   "execution_count": 4,
   "metadata": {},
   "outputs": [
    {
     "name": "stdout",
     "output_type": "stream",
     "text": [
      "Time taken to fit the model in sec is  36.67739280000001\n",
      "Hidden Layer size  3\n",
      "Accuracy score:0.9005\n",
      "F1 score : 0.8975\n",
      "Recall score : 0.8688\n",
      "Precision score : 0.9281\n",
      "Precision score : [[106644   7742]\n",
      " [ 15086  99936]]\n",
      "              precision    recall  f1-score   support\n",
      "\n",
      "           0       0.88      0.93      0.90    114386\n",
      "           1       0.93      0.87      0.90    115022\n",
      "\n",
      "    accuracy                           0.90    229408\n",
      "   macro avg       0.90      0.90      0.90    229408\n",
      "weighted avg       0.90      0.90      0.90    229408\n",
      "\n",
      "\n",
      "Time taken to fit the model in sec is  29.288966800000026\n",
      "Hidden Layer size  4\n",
      "Accuracy score:0.8986\n",
      "F1 score : 0.8951\n",
      "Recall score : 0.8630\n",
      "Precision score : 0.9297\n",
      "Precision score : [[106880   7506]\n",
      " [ 15755  99267]]\n",
      "              precision    recall  f1-score   support\n",
      "\n",
      "           0       0.87      0.93      0.90    114386\n",
      "           1       0.93      0.86      0.90    115022\n",
      "\n",
      "    accuracy                           0.90    229408\n",
      "   macro avg       0.90      0.90      0.90    229408\n",
      "weighted avg       0.90      0.90      0.90    229408\n",
      "\n",
      "\n",
      "Time taken to fit the model in sec is  34.994718900000066\n",
      "Hidden Layer size  5\n",
      "Accuracy score:0.8962\n",
      "F1 score : 0.8929\n",
      "Recall score : 0.8633\n",
      "Precision score : 0.9247\n",
      "Precision score : [[106295   8091]\n",
      " [ 15723  99299]]\n",
      "              precision    recall  f1-score   support\n",
      "\n",
      "           0       0.87      0.93      0.90    114386\n",
      "           1       0.92      0.86      0.89    115022\n",
      "\n",
      "    accuracy                           0.90    229408\n",
      "   macro avg       0.90      0.90      0.90    229408\n",
      "weighted avg       0.90      0.90      0.90    229408\n",
      "\n",
      "\n"
     ]
    }
   ],
   "source": [
    "for n in range(3,6):\n",
    "    model=MLPClassifier(hidden_layer_sizes=(n,),random_state=48)\n",
    "    start_time = timeit.default_timer()\n",
    "    model.fit(train_sc,y_train)\n",
    "    elapsed = timeit.default_timer() - start_time\n",
    "    y_pred1=model.predict(test_sc)\n",
    "    print(\"Time taken to fit the model in sec is \",elapsed)\n",
    "    print(\"Hidden Layer size \",n)\n",
    "    print(f\"Accuracy score:{accuracy_score(y_test1, y_pred1):.4f}\")\n",
    "    print(f\"F1 score : {f1_score(y_test1, y_pred1):.4f}\")\n",
    "    print(f\"Recall score : {recall_score(y_test1, y_pred1):.4f}\")\n",
    "    print(f\"Precision score : {precision_score(y_test1, y_pred1):.4f}\")\n",
    "    print(f\"Precision score : {confusion_matrix(y_test1,y_pred1)}\")\n",
    "    print(classification_report(y_test1, y_pred1))\n",
    "    print()"
   ]
  },
  {
   "cell_type": "markdown",
   "metadata": {},
   "source": [
    "### Data with Resampling and with OneHotEncoding"
   ]
  },
  {
   "cell_type": "code",
   "execution_count": 6,
   "metadata": {},
   "outputs": [
    {
     "name": "stdout",
     "output_type": "stream",
     "text": [
      "Time taken to fit the model in sec is  502.7337332000002\n"
     ]
    }
   ],
   "source": [
    "X = x_resampled_encoding.values\n",
    "Y = np.squeeze(y_resampled.values)\n",
    "X_train,X_test,y_train,y_test=train_test_split(X,Y,test_size=0.2,random_state=10)\n",
    "\n",
    "scaler = StandardScaler().fit(X_train)\n",
    "train_sc = scaler.transform(X_train)\n",
    "test_sc = scaler.transform(X_test)\n",
    "\n",
    "model=MLPClassifier(random_state=48)\n",
    "start_time = timeit.default_timer()\n",
    "model.fit(train_sc,y_train)\n",
    "elapsed = timeit.default_timer() - start_time\n",
    "y_pred1=model.predict(test_sc)\n",
    "print(\"Time taken to fit the model in sec is \",elapsed)"
   ]
  },
  {
   "cell_type": "code",
   "execution_count": 7,
   "metadata": {
    "scrolled": true
   },
   "outputs": [
    {
     "name": "stdout",
     "output_type": "stream",
     "text": [
      "Accuracy score:0.9492\n",
      "F1 score : 0.9485\n",
      "Recall score : 0.9323\n",
      "Precision score : 0.9652\n"
     ]
    }
   ],
   "source": [
    "print(f\"Accuracy score:{accuracy_score(y_test, y_pred1):.4f}\")\n",
    "print(f\"F1 score : {f1_score(y_test, y_pred1):.4f}\")\n",
    "print(f\"Recall score : {recall_score(y_test, y_pred1):.4f}\")\n",
    "print(f\"Precision score : {precision_score(y_test, y_pred1):.4f}\")"
   ]
  },
  {
   "cell_type": "code",
   "execution_count": 12,
   "metadata": {},
   "outputs": [
    {
     "data": {
      "text/plain": [
       "[array([[-0.83373115,  1.48606155, -0.27516723, ..., -0.43059017,\n",
       "          0.39000241,  0.92606778],\n",
       "        [ 0.40795694, -0.16576777,  1.19177271, ..., -0.44773126,\n",
       "          0.86375272,  1.73416758],\n",
       "        [-1.04797272,  1.18848347,  0.63377871, ..., -1.47238724,\n",
       "         -1.32643249, -0.01155294],\n",
       "        ...,\n",
       "        [-0.68324564,  0.51505089, -1.25616464, ..., -0.09529753,\n",
       "          1.51996268, -0.47470748],\n",
       "        [ 2.27755126,  0.43083093,  1.3706895 , ...,  1.15605779,\n",
       "          0.80451209, -1.00308006],\n",
       "        [-1.24584999,  0.74582651,  0.7101979 , ..., -1.874874  ,\n",
       "         -0.21993771, -0.49967329]]),\n",
       " array([[ 0.21887537],\n",
       "        [-0.14398815],\n",
       "        [-0.14701171],\n",
       "        [ 0.18692246],\n",
       "        [-0.13729299],\n",
       "        [-0.15004384],\n",
       "        [ 0.20278253],\n",
       "        [ 0.13179549],\n",
       "        [-0.1532489 ],\n",
       "        [-0.1578522 ],\n",
       "        [ 0.14161554],\n",
       "        [-0.12395291],\n",
       "        [-0.14107254],\n",
       "        [ 0.1215273 ],\n",
       "        [ 0.14648152],\n",
       "        [ 0.17337293],\n",
       "        [-0.16386371],\n",
       "        [ 0.13350779],\n",
       "        [ 0.14372187],\n",
       "        [-0.15516937],\n",
       "        [ 0.12855212],\n",
       "        [ 0.15006097],\n",
       "        [-0.28415694],\n",
       "        [-0.16652278],\n",
       "        [-0.14667719],\n",
       "        [ 0.12628945],\n",
       "        [-0.15176981],\n",
       "        [-0.16800544],\n",
       "        [-0.159915  ],\n",
       "        [ 0.15870441],\n",
       "        [-0.18382154],\n",
       "        [-0.14469301],\n",
       "        [-0.1523924 ],\n",
       "        [ 0.15126865],\n",
       "        [ 0.13800112],\n",
       "        [ 0.16474534],\n",
       "        [ 0.15006455],\n",
       "        [-0.15279188],\n",
       "        [-0.13715431],\n",
       "        [ 0.15562773],\n",
       "        [ 0.13962348],\n",
       "        [ 0.13878823],\n",
       "        [ 0.14056234],\n",
       "        [ 0.20166874],\n",
       "        [ 0.17390037],\n",
       "        [ 0.1999234 ],\n",
       "        [-0.18018081],\n",
       "        [-0.16807925],\n",
       "        [-0.14800701],\n",
       "        [-0.15192809],\n",
       "        [-0.1734534 ],\n",
       "        [-0.16150508],\n",
       "        [ 0.26475212],\n",
       "        [-0.13559789],\n",
       "        [-0.16516175],\n",
       "        [-0.15751635],\n",
       "        [-0.1748499 ],\n",
       "        [-0.25148788],\n",
       "        [ 0.1888146 ],\n",
       "        [ 0.14615473],\n",
       "        [ 0.15594396],\n",
       "        [ 0.24645223],\n",
       "        [-0.16035515],\n",
       "        [ 0.13843473],\n",
       "        [ 0.1716625 ],\n",
       "        [-0.16440503],\n",
       "        [-0.14183229],\n",
       "        [-0.16558373],\n",
       "        [-0.14806051],\n",
       "        [-0.16188741],\n",
       "        [ 0.15169729],\n",
       "        [-0.16271212],\n",
       "        [ 0.15388479],\n",
       "        [-0.15434527],\n",
       "        [ 0.13892858],\n",
       "        [ 0.1454795 ],\n",
       "        [-0.14123406],\n",
       "        [-0.19429071],\n",
       "        [-0.14190077],\n",
       "        [-0.15837039],\n",
       "        [-0.16198353],\n",
       "        [ 0.14463405],\n",
       "        [ 0.14855333],\n",
       "        [ 0.20821035],\n",
       "        [ 0.17424083],\n",
       "        [ 0.21513295],\n",
       "        [-0.14357281],\n",
       "        [-0.18096466],\n",
       "        [ 0.1385375 ],\n",
       "        [ 0.12232767],\n",
       "        [ 0.152853  ],\n",
       "        [ 0.2157956 ],\n",
       "        [ 0.18505379],\n",
       "        [-0.148502  ],\n",
       "        [-0.14519285],\n",
       "        [ 0.16049287],\n",
       "        [-0.14594123],\n",
       "        [ 0.23517784],\n",
       "        [ 0.18199029],\n",
       "        [ 0.12767276]])]"
      ]
     },
     "execution_count": 12,
     "metadata": {},
     "output_type": "execute_result"
    }
   ],
   "source": [
    "model.coefs_"
   ]
  },
  {
   "cell_type": "markdown",
   "metadata": {},
   "source": [
    "### Feature Selection"
   ]
  },
  {
   "cell_type": "markdown",
   "metadata": {},
   "source": [
    "* Get Absolute Weights\n",
    "* Group OneHotEncoing features\n",
    "* Scale Weights"
   ]
  },
  {
   "cell_type": "code",
   "execution_count": 160,
   "metadata": {},
   "outputs": [
    {
     "data": {
      "image/png": "[encoded data removed]",
      "text/plain": [
       "<Figure size 720x720 with 1 Axes>"
      ]
     },
     "metadata": {
      "needs_background": "light"
     },
     "output_type": "display_data"
    }
   ],
   "source": [
    "# Get Absolute Mean Weights\n",
    "mean_coefs: list[float] = [np.abs(i.mean()) for i in model.coefs_[0]]\n",
    "feat_imp = pd.DataFrame({\"Col\": x_resampled_encoding.columns})\n",
    "feat_imp[\"Coef\"] = mean_coefs\n",
    "\n",
    "#Group OneHotEncoded features\n",
    "feat_imp[\"Col\"] = feat_imp[\"Col\"].apply(lambda x: (x.split('cat')[0]+'cat') if 'cat' in x else x)\n",
    "feat_imp = feat_imp.groupby(\"Col\",as_index=False).sum().sort_values(\"Coef\", ascending=False)\n",
    "#Scale Weights\n",
    "feat_imp[\"FeatImp\"] = (\n",
    "        (feat_imp[\"Coef\"] - feat_imp[\"Coef\"].min())\n",
    "        / (feat_imp[\"Coef\"].max() - feat_imp[\"Coef\"].min())\n",
    "    ).round(4)\n",
    "\n",
    "# customized number \n",
    "num_features = 10 \n",
    "pyplot.figure(figsize=(10,10))\n",
    "pyplot.title('Feature Importances')\n",
    "# only plot the customized number of features\n",
    "pyplot.barh(range(num_features), feat_imp['FeatImp'][:num_features][::-1], color='b', align='center')\n",
    "pyplot.yticks(range(num_features), feat_imp['Col'][:num_features][::-1])\n",
    "pyplot.xlabel('Relative Importance')\n",
    "pyplot.show()"
   ]
  },
  {
   "cell_type": "code",
   "execution_count": 161,
   "metadata": {},
   "outputs": [
    {
     "data": {
      "text/plain": [
       "<sklearn.metrics._plot.roc_curve.RocCurveDisplay at 0x22f971add60>"
      ]
     },
     "execution_count": 161,
     "metadata": {},
     "output_type": "execute_result"
    },
    {
     "data": {
      "image/png": "[encoded data removed]",
      "text/plain": [
       "<Figure size 432x288 with 1 Axes>"
      ]
     },
     "metadata": {
      "needs_background": "light"
     },
     "output_type": "display_data"
    }
   ],
   "source": [
    "RocCurveDisplay.from_predictions(y_test, y_pred1)"
   ]
  },
  {
   "cell_type": "code",
   "execution_count": 163,
   "metadata": {},
   "outputs": [
    {
     "data": {
      "text/plain": [
       "<sklearn.metrics._plot.roc_curve.RocCurveDisplay at 0x22f98a65df0>"
      ]
     },
     "execution_count": 163,
     "metadata": {},
     "output_type": "execute_result"
    },
    {
     "data": {
      "image/png": "[encoded data removed]",
      "text/plain": [
       "<Figure size 432x288 with 1 Axes>"
      ]
     },
     "metadata": {
      "needs_background": "light"
     },
     "output_type": "display_data"
    }
   ],
   "source": [
    "RocCurveDisplay.from_estimator(model,test_sc,y_test)"
   ]
  },
  {
   "cell_type": "markdown",
   "metadata": {},
   "source": [
    "### OneHotEncoding improved accuracy"
   ]
  },
  {
   "cell_type": "code",
   "execution_count": null,
   "metadata": {},
   "outputs": [],
   "source": []
  }
 ],
 "metadata": {
  "colab": {
   "provenance": []
  },
  "kernelspec": {
   "display_name": "Python 3 (ipykernel)",
   "language": "python",
   "name": "python3"
  },
  "language_info": {
   "codemirror_mode": {
    "name": "ipython",
    "version": 3
   },
   "file_extension": ".py",
   "mimetype": "text/x-python",
   "name": "python",
   "nbconvert_exporter": "python",
   "pygments_lexer": "ipython3",
   "version": "3.9.7"
  }
 },
 "nbformat": 4,
 "nbformat_minor": 1
}
