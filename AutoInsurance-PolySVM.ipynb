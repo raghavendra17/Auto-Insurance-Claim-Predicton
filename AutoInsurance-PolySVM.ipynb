{
 "cells": [
  {
   "cell_type": "code",
   "execution_count": 1,
   "id": "e5bd4f92",
   "metadata": {},
   "outputs": [],
   "source": [
    "import pandas as pd\n",
    "import numpy as np\n",
    "from sklearn.model_selection import train_test_split,cross_val_score\n",
    "from sklearn.svm import LinearSVC,SVC\n",
    "import timeit\n",
    "import seaborn as sns\n",
    "from sklearn.metrics import confusion_matrix,classification_report,accuracy_score,f1_score,precision_score,recall_score"
   ]
  },
  {
   "cell_type": "code",
   "execution_count": 2,
   "id": "9be7977a",
   "metadata": {},
   "outputs": [],
   "source": [
    "x_resampled=pd.read_csv('resampled_without_encoding.csv')\n",
    "y_resampled=pd.read_csv('y_resampled.csv')\n",
    "min_max_scale_data=pd.read_csv('min_max_resampled_with_encoding.csv')"
   ]
  },
  {
   "cell_type": "code",
   "execution_count": 4,
   "id": "117a3a73",
   "metadata": {},
   "outputs": [],
   "source": [
    "X = min_max_scale_data.values\n",
    "Y = np.squeeze(y_resampled.values)\n",
    "X_train,X_test2,y_train,y_test2=train_test_split(X,Y,test_size=0.2,random_state=10)"
   ]
  },
  {
   "cell_type": "code",
   "execution_count": 7,
   "id": "8e079946",
   "metadata": {},
   "outputs": [
    {
     "name": "stdout",
     "output_type": "stream",
     "text": [
      "Time taken to fit the model in sec is  62353.18923\n"
     ]
    }
   ],
   "source": [
    "poly_svm_clf=SVC(kernel='poly',random_state=48)\n",
    "start_time=timeit.default_timer()\n",
    "poly_svm_clf.fit(X_train,y_train)\n",
    "print(\"Time taken to fit the model in sec is \",timeit.default_timer() - start_time)"
   ]
  },
  {
   "cell_type": "code",
   "execution_count": 9,
   "id": "e79c2d57",
   "metadata": {},
   "outputs": [],
   "source": [
    "y_pred=poly_svm_clf.predict(X_test2)"
   ]
  },
  {
   "cell_type": "code",
   "execution_count": 11,
   "id": "9a890a01",
   "metadata": {},
   "outputs": [
    {
     "name": "stdout",
     "output_type": "stream",
     "text": [
      "Accuracy score: 0.9421\n",
      "F1 score : 0.9406\n",
      "Recall score : 0.9139\n",
      "Precision score : 0.9689\n"
     ]
    }
   ],
   "source": [
    "print(f\"Accuracy score: {accuracy_score(y_test2, y_pred):.4f}\")\n",
    "print(f\"F1 score : {f1_score(y_test2, y_pred):.4f}\")\n",
    "print(f\"Recall score : {recall_score(y_test2, y_pred):.4f}\")\n",
    "print(f\"Precision score : {precision_score(y_test2, y_pred):.4f}\")"
   ]
  },
  {
   "cell_type": "markdown",
   "id": "a2f5454a",
   "metadata": {},
   "source": [
    "### PolynomialSVM has higher accuracy than LinearSVM"
   ]
  }
 ],
 "metadata": {
  "kernelspec": {
   "display_name": "Python 3 (ipykernel)",
   "language": "python",
   "name": "python3"
  },
  "language_info": {
   "codemirror_mode": {
    "name": "ipython",
    "version": 3
   },
   "file_extension": ".py",
   "mimetype": "text/x-python",
   "name": "python",
   "nbconvert_exporter": "python",
   "pygments_lexer": "ipython3",
   "version": "3.9.7"
  }
 },
 "nbformat": 4,
 "nbformat_minor": 5
}
