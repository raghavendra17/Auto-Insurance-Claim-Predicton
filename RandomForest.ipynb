{
 "cells": [
  {
   "cell_type": "code",
   "execution_count": 1,
   "metadata": {},
   "outputs": [],
   "source": [
    "import pandas as pd\n",
    "import numpy as np\n",
    "from sklearn.model_selection import train_test_split,cross_val_score,GridSearchCV,RandomizedSearchCV\n",
    "from sklearn.ensemble import RandomForestClassifier\n",
    "import timeit\n",
    "import seaborn as sns\n",
    "from sklearn.metrics import confusion_matrix,classification_report,accuracy_score,f1_score,precision_score,recall_score,RocCurveDisplay"
   ]
  },
  {
   "cell_type": "code",
   "execution_count": 2,
   "metadata": {},
   "outputs": [],
   "source": [
    "x_resampled=pd.read_csv('resampled_without_encoding.csv')\n",
    "y_resampled=pd.read_csv('y_resampled.csv')\n",
    "min_max_scale_data=pd.read_csv('min_max_resampled_with_encoding.csv')"
   ]
  },
  {
   "cell_type": "markdown",
   "metadata": {
    "id": "P2U4AUV_JMmP"
   },
   "source": [
    "## Modelling"
   ]
  },
  {
   "cell_type": "markdown",
   "metadata": {},
   "source": [
    "### Data with Resampling and without OneHotEncoding"
   ]
  },
  {
   "cell_type": "code",
   "execution_count": 3,
   "metadata": {},
   "outputs": [],
   "source": [
    "X = x_resampled.values\n",
    "Y = np.squeeze(y_resampled.values)\n",
    "X_train,X_test1,y_train,y_test1=train_test_split(X,Y,test_size=0.2,random_state=10)"
   ]
  },
  {
   "cell_type": "code",
   "execution_count": 4,
   "metadata": {},
   "outputs": [
    {
     "name": "stdout",
     "output_type": "stream",
     "text": [
      "Time taken to fit the model in sec is  379.667682\n"
     ]
    }
   ],
   "source": [
    "model=RandomForestClassifier(random_state=48)\n",
    "\n",
    "start_time = timeit.default_timer()\n",
    "model.fit(X_train,y_train)\n",
    "elapsed = timeit.default_timer() - start_time\n",
    "y_pred1=model.predict(X_test1)\n",
    "print(\"Time taken to fit the model in sec is \",elapsed)"
   ]
  },
  {
   "cell_type": "code",
   "execution_count": 6,
   "metadata": {},
   "outputs": [
    {
     "name": "stdout",
     "output_type": "stream",
     "text": [
      "Accuracy score:0.9779\n",
      "F1 score : 0.9775\n",
      "Recall score : 0.9598\n",
      "Precision score : 0.9959\n"
     ]
    }
   ],
   "source": [
    "print(f\"Accuracy score:{accuracy_score(y_test1, y_pred1):.4f}\")\n",
    "print(f\"F1 score : {f1_score(y_test1, y_pred1):.4f}\")\n",
    "print(f\"Recall score : {recall_score(y_test1, y_pred1):.4f}\")\n",
    "print(f\"Precision score : {precision_score(y_test1, y_pred1):.4f}\")"
   ]
  },
  {
   "cell_type": "code",
   "execution_count": 10,
   "metadata": {},
   "outputs": [
    {
     "data": {
      "text/plain": [
       "<AxesSubplot:>"
      ]
     },
     "execution_count": 10,
     "metadata": {},
     "output_type": "execute_result"
    },
    {
     "data": {
      "image/png": "[encoded data removed]",
      "text/plain": [
       "<Figure size 432x288 with 2 Axes>"
      ]
     },
     "metadata": {
      "needs_background": "light"
     },
     "output_type": "display_data"
    }
   ],
   "source": [
    "sns.heatmap(confusion_matrix(y_test1,y_pred1),annot=True,fmt='', cmap='Blues')"
   ]
  },
  {
   "cell_type": "code",
   "execution_count": 8,
   "metadata": {},
   "outputs": [
    {
     "name": "stdout",
     "output_type": "stream",
     "text": [
      "              precision    recall  f1-score   support\n",
      "\n",
      "           0       0.96      1.00      0.98    114386\n",
      "           1       1.00      0.96      0.98    115022\n",
      "\n",
      "    accuracy                           0.98    229408\n",
      "   macro avg       0.98      0.98      0.98    229408\n",
      "weighted avg       0.98      0.98      0.98    229408\n",
      "\n"
     ]
    }
   ],
   "source": [
    "print(classification_report(y_test1, y_pred1))"
   ]
  },
  {
   "cell_type": "markdown",
   "metadata": {},
   "source": [
    "### Data with Resampling and with OneHotEncoding"
   ]
  },
  {
   "cell_type": "code",
   "execution_count": 11,
   "metadata": {},
   "outputs": [],
   "source": [
    "X = min_max_scale_data.values\n",
    "Y = np.squeeze(y_resampled.values)\n",
    "X_train,X_test,y_train,y_test=train_test_split(X,Y,test_size=0.2,random_state=10)"
   ]
  },
  {
   "cell_type": "code",
   "execution_count": 12,
   "metadata": {},
   "outputs": [
    {
     "name": "stdout",
     "output_type": "stream",
     "text": [
      "Time taken to fit the model in sec is  431.1879317999999\n"
     ]
    }
   ],
   "source": [
    "model=RandomForestClassifier(random_state=48)\n",
    "start_time = timeit.default_timer()\n",
    "model.fit(X_train,y_train)\n",
    "elapsed = timeit.default_timer() - start_time\n",
    "y_pred1=model.predict(X_test)\n",
    "print(\"Time taken to fit the model in sec is \",elapsed)"
   ]
  },
  {
   "cell_type": "code",
   "execution_count": 13,
   "metadata": {},
   "outputs": [
    {
     "name": "stdout",
     "output_type": "stream",
     "text": [
      "Accuracy score:0.9773\n",
      "F1 score : 0.9769\n",
      "Recall score : 0.9599\n",
      "Precision score : 0.9945\n"
     ]
    }
   ],
   "source": [
    "print(f\"Accuracy score:{accuracy_score(y_test, y_pred1):.4f}\")\n",
    "print(f\"F1 score : {f1_score(y_test, y_pred1):.4f}\")\n",
    "print(f\"Recall score : {recall_score(y_test, y_pred1):.4f}\")\n",
    "print(f\"Precision score : {precision_score(y_test, y_pred1):.4f}\")"
   ]
  },
  {
   "cell_type": "code",
   "execution_count": 14,
   "metadata": {},
   "outputs": [
    {
     "data": {
      "text/plain": [
       "{'bootstrap': True,\n",
       " 'ccp_alpha': 0.0,\n",
       " 'class_weight': None,\n",
       " 'criterion': 'gini',\n",
       " 'max_depth': None,\n",
       " 'max_features': 'sqrt',\n",
       " 'max_leaf_nodes': None,\n",
       " 'max_samples': None,\n",
       " 'min_impurity_decrease': 0.0,\n",
       " 'min_samples_leaf': 1,\n",
       " 'min_samples_split': 2,\n",
       " 'min_weight_fraction_leaf': 0.0,\n",
       " 'n_estimators': 100,\n",
       " 'n_jobs': None,\n",
       " 'oob_score': False,\n",
       " 'random_state': 48,\n",
       " 'verbose': 0,\n",
       " 'warm_start': False}"
      ]
     },
     "execution_count": 14,
     "metadata": {},
     "output_type": "execute_result"
    }
   ],
   "source": [
    "model.get_params()"
   ]
  },
  {
   "cell_type": "code",
   "execution_count": 17,
   "metadata": {},
   "outputs": [
    {
     "data": {
      "text/plain": [
       "<sklearn.metrics._plot.roc_curve.RocCurveDisplay at 0x21b007e3f40>"
      ]
     },
     "execution_count": 17,
     "metadata": {},
     "output_type": "execute_result"
    },
    {
     "data": {
      "image/png": "[encoded data removed]",
      "text/plain": [
       "<Figure size 432x288 with 1 Axes>"
      ]
     },
     "metadata": {
      "needs_background": "light"
     },
     "output_type": "display_data"
    }
   ],
   "source": [
    "RocCurveDisplay.from_predictions(y_test, y_pred1)"
   ]
  },
  {
   "cell_type": "code",
   "execution_count": 19,
   "metadata": {},
   "outputs": [
    {
     "data": {
      "text/plain": [
       "<sklearn.metrics._plot.roc_curve.RocCurveDisplay at 0x21b0018c0d0>"
      ]
     },
     "execution_count": 19,
     "metadata": {},
     "output_type": "execute_result"
    },
    {
     "data": {
      "image/png": "[encoded data removed]",
      "text/plain": [
       "<Figure size 432x288 with 1 Axes>"
      ]
     },
     "metadata": {
      "needs_background": "light"
     },
     "output_type": "display_data"
    }
   ],
   "source": [
    "RocCurveDisplay.from_estimator(model,X_test,y_test)"
   ]
  },
  {
   "cell_type": "code",
   "execution_count": 32,
   "metadata": {},
   "outputs": [
    {
     "name": "stdout",
     "output_type": "stream",
     "text": [
      "[0.61727577 0.98066319 0.97996574 0.98088986 0.98001805]\n",
      "Mean 5-Fold R Squared: 0.9077625205193278\n",
      "2639.3376154\n"
     ]
    }
   ],
   "source": [
    "rf_reg = RandomForestClassifier(random_state=48)\n",
    "\n",
    "start_time = timeit.default_timer()\n",
    "rf_reg.fit(X_train,y_train)\n",
    "#perform k fold\n",
    "\n",
    "cv_r2_scores_rf = cross_val_score(rf_reg, X, Y, cv=5,scoring='r2')\n",
    "print(cv_r2_scores_rf)\n",
    "print(\"Mean 5-Fold R Squared: {}\".format(np.mean(cv_r2_scores_rf)))\n",
    "\n",
    "elapsed = timeit.default_timer() - start_time\n",
    "print(elapsed)"
   ]
  },
  {
   "cell_type": "markdown",
   "metadata": {},
   "source": [
    "* We see that the metrics for all folds in cross_val_score are uniform so it can be concluded that the model is able to generalise\n",
    "* As 4 subsets gave accuracy of 98 we can conside the above model result is not overfitting"
   ]
  },
  {
   "cell_type": "markdown",
   "metadata": {},
   "source": [
    "#### There is same accuracy with and without OneHotEncoding"
   ]
  },
  {
   "cell_type": "markdown",
   "metadata": {},
   "source": [
    "### Hyperparameter tuning"
   ]
  },
  {
   "cell_type": "markdown",
   "metadata": {},
   "source": [
    "* Hyperparameter tuning can be advantageous in creating a model that is better at classification. \n",
    "* In the case of a random forest, it may not be necessary, as random forests are already very good at classification. \n",
    "* Using exhaustive grid search to choose hyperparameter values can be very time consuming as well.\n",
    "* However, in cases where there are only a few potential values for your hyperparameters or when your initial classification model isn’t very accurate, it might be a good idea to at least investigate the effect of changing some of the hyperparameter values in your model."
   ]
  },
  {
   "cell_type": "markdown",
   "metadata": {},
   "source": [
    "### As there is high accuracy it may not necessary to do hyperparameter tuning"
   ]
  },
  {
   "cell_type": "markdown",
   "metadata": {},
   "source": [
    "https://towardsdatascience.com/optimizing-hyperparameters-in-random-forest-classification-ec7741f9d3f6#:~:text=Hyperparameter%20tuning%20can%20be%20advantageous%20in%20creating%20a,values%20can%20be%20very%20time%20consuming%20as%20well."
   ]
  },
  {
   "cell_type": "code",
   "execution_count": null,
   "metadata": {},
   "outputs": [],
   "source": []
  }
 ],
 "metadata": {
  "colab": {
   "provenance": []
  },
  "kernelspec": {
   "display_name": "Python 3 (ipykernel)",
   "language": "python",
   "name": "python3"
  },
  "language_info": {
   "codemirror_mode": {
    "name": "ipython",
    "version": 3
   },
   "file_extension": ".py",
   "mimetype": "text/x-python",
   "name": "python",
   "nbconvert_exporter": "python",
   "pygments_lexer": "ipython3",
   "version": "3.9.7"
  }
 },
 "nbformat": 4,
 "nbformat_minor": 1
}
