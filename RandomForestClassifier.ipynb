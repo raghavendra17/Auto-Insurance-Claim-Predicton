{
 "cells": [
  {
   "cell_type": "code",
   "execution_count": 1,
   "metadata": {},
   "outputs": [],
   "source": [
    "import pandas as pd\n",
    "import numpy as np\n",
    "from sklearn.preprocessing import StandardScaler\n",
    "from sklearn.model_selection import train_test_split,cross_val_score,GridSearchCV,RandomizedSearchCV\n",
    "from sklearn.ensemble import RandomForestClassifier\n",
    "import timeit\n",
    "import seaborn as sns\n",
    "from sklearn.metrics import confusion_matrix,classification_report,accuracy_score,f1_score,precision_score,recall_score,RocCurveDisplay\n",
    "from matplotlib import pyplot"
   ]
  },
  {
   "cell_type": "code",
   "execution_count": 2,
   "metadata": {},
   "outputs": [],
   "source": [
    "x_resampled=pd.read_csv('resampled_without_encoding.csv')\n",
    "x_resampled_encoding=pd.read_csv('resampled_with_encoding.csv')\n",
    "y_resampled=pd.read_csv('y_resampled.csv')"
   ]
  },
  {
   "cell_type": "markdown",
   "metadata": {
    "id": "P2U4AUV_JMmP"
   },
   "source": [
    "## Modelling"
   ]
  },
  {
   "cell_type": "markdown",
   "metadata": {},
   "source": [
    "### Data with Resampling and without OneHotEncoding"
   ]
  },
  {
   "cell_type": "code",
   "execution_count": 3,
   "metadata": {},
   "outputs": [
    {
     "name": "stdout",
     "output_type": "stream",
     "text": [
      "Time taken to fit the model in sec is  382.8573328\n",
      "Accuracy score:0.9779\n",
      "F1 score : 0.9776\n",
      "Recall score : 0.9599\n",
      "Precision score : 0.9960\n"
     ]
    }
   ],
   "source": [
    "X = x_resampled.values\n",
    "Y = np.squeeze(y_resampled.values)\n",
    "X_train,X_test1,y_train,y_test1=train_test_split(X,Y,test_size=0.2,random_state=10)\n",
    "\n",
    "scaler = StandardScaler().fit(X_train)\n",
    "train_sc = scaler.transform(X_train)\n",
    "test_sc = scaler.transform(X_test1)\n",
    "\n",
    "model=RandomForestClassifier(random_state=48)\n",
    "start_time = timeit.default_timer()\n",
    "model.fit(train_sc,y_train)\n",
    "elapsed = timeit.default_timer() - start_time\n",
    "y_pred1=model.predict(test_sc)\n",
    "print(\"Time taken to fit the model in sec is \",elapsed)\n",
    "print(f\"Accuracy score:{accuracy_score(y_test1, y_pred1):.4f}\")\n",
    "print(f\"F1 score : {f1_score(y_test1, y_pred1):.4f}\")\n",
    "print(f\"Recall score : {recall_score(y_test1, y_pred1):.4f}\")\n",
    "print(f\"Precision score : {precision_score(y_test1, y_pred1):.4f}\")"
   ]
  },
  {
   "cell_type": "code",
   "execution_count": 4,
   "metadata": {},
   "outputs": [
    {
     "data": {
      "text/plain": [
       "<AxesSubplot:>"
      ]
     },
     "execution_count": 4,
     "metadata": {},
     "output_type": "execute_result"
    },
    {
     "data": {
      "image/png": "[encoded data removed]",
      "text/plain": [
       "<Figure size 432x288 with 2 Axes>"
      ]
     },
     "metadata": {
      "needs_background": "light"
     },
     "output_type": "display_data"
    }
   ],
   "source": [
    "sns.heatmap(confusion_matrix(y_test1,y_pred1),annot=True,fmt='', cmap='Blues')"
   ]
  },
  {
   "cell_type": "code",
   "execution_count": 5,
   "metadata": {},
   "outputs": [
    {
     "name": "stdout",
     "output_type": "stream",
     "text": [
      "              precision    recall  f1-score   support\n",
      "\n",
      "           0       0.96      1.00      0.98    114386\n",
      "           1       1.00      0.96      0.98    115022\n",
      "\n",
      "    accuracy                           0.98    229408\n",
      "   macro avg       0.98      0.98      0.98    229408\n",
      "weighted avg       0.98      0.98      0.98    229408\n",
      "\n"
     ]
    }
   ],
   "source": [
    "print(classification_report(y_test1, y_pred1))"
   ]
  },
  {
   "cell_type": "markdown",
   "metadata": {},
   "source": [
    "### Feature Selection"
   ]
  },
  {
   "cell_type": "code",
   "execution_count": 6,
   "metadata": {},
   "outputs": [
    {
     "data": {
      "image/png": "[encoded data removed]",
      "text/plain": [
       "<Figure size 720x720 with 1 Axes>"
      ]
     },
     "metadata": {
      "needs_background": "light"
     },
     "output_type": "display_data"
    }
   ],
   "source": [
    "feat_imp = pd.DataFrame({\"Col\": x_resampled.columns})\n",
    "feat_imp[\"Coef\"] = model.feature_importances_\n",
    "feat_imp = feat_imp.sort_values(\"Coef\", ascending=False)\n",
    "#Scaling Weights\n",
    "feat_imp[\"FeatImp\"] = (\n",
    "        (feat_imp[\"Coef\"] - feat_imp[\"Coef\"].min())/ (feat_imp[\"Coef\"].max() - feat_imp[\"Coef\"].min())).round(4)\n",
    "\n",
    "# customized number \n",
    "num_features = 10 \n",
    "pyplot.figure(figsize=(10,10))\n",
    "pyplot.title('Feature Importances')\n",
    "# only plot the customized number of features\n",
    "pyplot.barh(range(num_features), feat_imp['FeatImp'][:num_features][::-1], color='b', align='center')\n",
    "pyplot.yticks(range(num_features), feat_imp['Col'][:num_features][::-1])\n",
    "pyplot.xlabel('Relative Importance')\n",
    "pyplot.show()"
   ]
  },
  {
   "cell_type": "markdown",
   "metadata": {},
   "source": [
    "### Data with Resampling and with OneHotEncoding"
   ]
  },
  {
   "cell_type": "code",
   "execution_count": null,
   "metadata": {},
   "outputs": [],
   "source": [
    "X = x_resampled_encoding.values\n",
    "Y = np.squeeze(y_resampled.values)\n",
    "X_train,X_test,y_train,y_test=train_test_split(X,Y,test_size=0.2,random_state=10)\n",
    "\n",
    "scaler = StandardScaler().fit(X_train)\n",
    "train_sc = scaler.transform(X_train)\n",
    "test_sc = scaler.transform(X_test)\n",
    "\n",
    "model=RandomForestClassifier(random_state=48)\n",
    "start_time = timeit.default_timer()\n",
    "model.fit(train_sc,y_train)\n",
    "elapsed = timeit.default_timer() - start_time\n",
    "y_pred1=model.predict(test_sc)\n",
    "print(\"Time taken to fit the model in sec is \",elapsed)\n",
    "print(f\"Accuracy score:{accuracy_score(y_test, y_pred1):.4f}\")\n",
    "print(f\"F1 score : {f1_score(y_test, y_pred1):.4f}\")\n",
    "print(f\"Recall score : {recall_score(y_test, y_pred1):.4f}\")\n",
    "print(f\"Precision score : {precision_score(y_test, y_pred1):.4f}\")"
   ]
  },
  {
   "cell_type": "code",
   "execution_count": null,
   "metadata": {},
   "outputs": [],
   "source": [
    "model.get_params()"
   ]
  },
  {
   "cell_type": "code",
   "execution_count": null,
   "metadata": {},
   "outputs": [],
   "source": [
    "RocCurveDisplay.from_predictions(y_test, y_pred1)"
   ]
  },
  {
   "cell_type": "code",
   "execution_count": null,
   "metadata": {},
   "outputs": [],
   "source": [
    "RocCurveDisplay.from_estimator(model,X_test,y_test)"
   ]
  },
  {
   "cell_type": "markdown",
   "metadata": {},
   "source": [
    "### Feature Selection"
   ]
  },
  {
   "cell_type": "code",
   "execution_count": 17,
   "metadata": {},
   "outputs": [
    {
     "data": {
      "image/png": "[encoded data removed]",
      "text/plain": [
       "<Figure size 720x720 with 1 Axes>"
      ]
     },
     "metadata": {
      "needs_background": "light"
     },
     "output_type": "display_data"
    }
   ],
   "source": [
    "feat_imp = pd.DataFrame({\"Col\": x_resampled_encoding.columns})\n",
    "feat_imp[\"Coef\"] = model.feature_importances_\n",
    "feat_imp[\"Col\"] = feat_imp[\"Col\"].apply(lambda x: (x.split('cat')[0]+'cat') if 'cat' in x else x)\n",
    "feat_imp = feat_imp.groupby(\"Col\",as_index=False).sum().sort_values(\"Coef\", ascending=False)\n",
    "feat_imp[\"FeatImp\"] = (\n",
    "        (feat_imp[\"Coef\"] - feat_imp[\"Coef\"].min())\n",
    "        / (feat_imp[\"Coef\"].max() - feat_imp[\"Coef\"].min())\n",
    "    ).round(4)\n",
    "\n",
    "# customized number \n",
    "num_features = 10 \n",
    "pyplot.figure(figsize=(10,10))\n",
    "pyplot.title('Feature Importances')\n",
    "# only plot the customized number of features\n",
    "pyplot.barh(range(num_features), feat_imp['FeatImp'][:num_features][::-1], color='b', align='center')\n",
    "pyplot.yticks(range(num_features), feat_imp['Col'][:num_features][::-1])\n",
    "pyplot.xlabel('Relative Importance')\n",
    "pyplot.show()"
   ]
  },
  {
   "cell_type": "markdown",
   "metadata": {},
   "source": [
    "### Cross Validation"
   ]
  },
  {
   "cell_type": "code",
   "execution_count": 32,
   "metadata": {},
   "outputs": [
    {
     "name": "stdout",
     "output_type": "stream",
     "text": [
      "[0.61727577 0.98066319 0.97996574 0.98088986 0.98001805]\n",
      "Mean 5-Fold R Squared: 0.9077625205193278\n",
      "2639.3376154\n"
     ]
    }
   ],
   "source": [
    "rf_reg = RandomForestClassifier(random_state=48)\n",
    "\n",
    "start_time = timeit.default_timer()\n",
    "rf_reg.fit(train_sc,y_train)\n",
    "#perform k fold\n",
    "\n",
    "cv_r2_scores_rf = cross_val_score(rf_reg, X, Y, cv=5,scoring='r2')\n",
    "print(cv_r2_scores_rf)\n",
    "print(\"Mean 5-Fold R Squared: {}\".format(np.mean(cv_r2_scores_rf)))\n",
    "\n",
    "elapsed = timeit.default_timer() - start_time\n",
    "print(elapsed)"
   ]
  },
  {
   "cell_type": "markdown",
   "metadata": {},
   "source": [
    "* We see that the metrics for all folds in cross_val_score are uniform so it can be concluded that the model is able to generalise\n",
    "* As 4 subsets gave accuracy of 98 we can conside the above model result is not overfitting"
   ]
  },
  {
   "cell_type": "markdown",
   "metadata": {},
   "source": [
    "#### There is same accuracy with and without OneHotEncoding"
   ]
  },
  {
   "cell_type": "markdown",
   "metadata": {},
   "source": [
    "### Hyperparameter tuning"
   ]
  },
  {
   "cell_type": "markdown",
   "metadata": {},
   "source": [
    "* Hyperparameter tuning can be advantageous in creating a model that is better at classification. \n",
    "* In the case of a random forest, it may not be necessary, as random forests are already very good at classification. \n",
    "* Using exhaustive grid search to choose hyperparameter values can be very time consuming as well.\n",
    "* However, in cases where there are only a few potential values for your hyperparameters or when your initial classification model isn’t very accurate, it might be a good idea to at least investigate the effect of changing some of the hyperparameter values in your model."
   ]
  },
  {
   "cell_type": "markdown",
   "metadata": {},
   "source": [
    "### As there is high accuracy it may not necessary to do hyperparameter tuning"
   ]
  },
  {
   "cell_type": "markdown",
   "metadata": {},
   "source": [
    "https://towardsdatascience.com/optimizing-hyperparameters-in-random-forest-classification-ec7741f9d3f6#:~:text=Hyperparameter%20tuning%20can%20be%20advantageous%20in%20creating%20a,values%20can%20be%20very%20time%20consuming%20as%20well."
   ]
  },
  {
   "cell_type": "code",
   "execution_count": null,
   "metadata": {},
   "outputs": [],
   "source": []
  }
 ],
 "metadata": {
  "colab": {
   "provenance": []
  },
  "kernelspec": {
   "display_name": "Python 3 (ipykernel)",
   "language": "python",
   "name": "python3"
  },
  "language_info": {
   "codemirror_mode": {
    "name": "ipython",
    "version": 3
   },
   "file_extension": ".py",
   "mimetype": "text/x-python",
   "name": "python",
   "nbconvert_exporter": "python",
   "pygments_lexer": "ipython3",
   "version": "3.9.7"
  }
 },
 "nbformat": 4,
 "nbformat_minor": 1
}
