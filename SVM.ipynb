{
 "cells": [
  {
   "cell_type": "code",
   "execution_count": 1,
   "metadata": {},
   "outputs": [],
   "source": [
    "import pandas as pd\n",
    "import numpy as np\n",
    "from sklearn.model_selection import train_test_split,cross_val_score\n",
    "from sklearn.svm import LinearSVC,SVC\n",
    "import timeit\n",
    "import seaborn as sns\n",
    "from sklearn.metrics import confusion_matrix,classification_report,accuracy_score,f1_score,precision_score,recall_score"
   ]
  },
  {
   "cell_type": "code",
   "execution_count": 2,
   "metadata": {},
   "outputs": [],
   "source": [
    "x_resampled=pd.read_csv('resampled_without_encoding.csv')\n",
    "y_resampled=pd.read_csv('y_resampled.csv')\n",
    "min_max_scale_data=pd.read_csv('min_max_resampled_with_encoding.csv')"
   ]
  },
  {
   "cell_type": "markdown",
   "metadata": {},
   "source": [
    "### Data with Resampling and without OneHotEncoding"
   ]
  },
  {
   "cell_type": "code",
   "execution_count": 3,
   "metadata": {},
   "outputs": [],
   "source": [
    "X = x_resampled.values\n",
    "Y = np.squeeze(y_resampled.values)\n",
    "X_train,X_test,y_train,y_test=train_test_split(X,Y,test_size=0.2,random_state=10)"
   ]
  },
  {
   "cell_type": "code",
   "execution_count": 4,
   "metadata": {},
   "outputs": [
    {
     "name": "stdout",
     "output_type": "stream",
     "text": [
      "Time taken to fit the model in sec is  465.2168809\n"
     ]
    },
    {
     "name": "stderr",
     "output_type": "stream",
     "text": [
      "C:\\Users\\Raghavendra Reddy\\AppData\\Roaming\\Python\\Python39\\site-packages\\sklearn\\svm\\_base.py:1225: ConvergenceWarning: Liblinear failed to converge, increase the number of iterations.\n",
      "  warnings.warn(\n"
     ]
    }
   ],
   "source": [
    "svm_clf = LinearSVC(random_state=48) \n",
    "start_time = timeit.default_timer()\n",
    "svm_clf.fit(X_train,y_train)\n",
    "elapsed = timeit.default_timer() - start_time\n",
    "print(\"Time taken to fit the model in sec is \",elapsed)"
   ]
  },
  {
   "cell_type": "code",
   "execution_count": 5,
   "metadata": {},
   "outputs": [],
   "source": [
    "y_pred=svm_clf.predict(X_test)"
   ]
  },
  {
   "cell_type": "code",
   "execution_count": 6,
   "metadata": {},
   "outputs": [
    {
     "name": "stdout",
     "output_type": "stream",
     "text": [
      "Accuracy score: 0.8213\n",
      "F1 score : 0.7868\n",
      "Recall score : 0.6579\n",
      "Precision score : 0.9785\n"
     ]
    }
   ],
   "source": [
    "print(f\"Accuracy score: {accuracy_score(y_test, y_pred):.4f}\")\n",
    "print(f\"F1 score : {f1_score(y_test, y_pred):.4f}\")\n",
    "print(f\"Recall score : {recall_score(y_test, y_pred):.4f}\")\n",
    "print(f\"Precision score : {precision_score(y_test, y_pred):.4f}\")"
   ]
  },
  {
   "cell_type": "code",
   "execution_count": 7,
   "metadata": {},
   "outputs": [
    {
     "data": {
      "text/plain": [
       "<AxesSubplot:>"
      ]
     },
     "execution_count": 7,
     "metadata": {},
     "output_type": "execute_result"
    },
    {
     "data": {
      "image/png": "[encoded data removed]",
      "text/plain": [
       "<Figure size 432x288 with 2 Axes>"
      ]
     },
     "metadata": {
      "needs_background": "light"
     },
     "output_type": "display_data"
    }
   ],
   "source": [
    "sns.heatmap(confusion_matrix(y_test,y_pred),annot=True,fmt='',cmap='Blues')"
   ]
  },
  {
   "cell_type": "code",
   "execution_count": 8,
   "metadata": {},
   "outputs": [
    {
     "name": "stdout",
     "output_type": "stream",
     "text": [
      "              precision    recall  f1-score   support\n",
      "\n",
      "           0       0.74      0.99      0.85    114386\n",
      "           1       0.98      0.66      0.79    115022\n",
      "\n",
      "    accuracy                           0.82    229408\n",
      "   macro avg       0.86      0.82      0.82    229408\n",
      "weighted avg       0.86      0.82      0.82    229408\n",
      "\n"
     ]
    }
   ],
   "source": [
    "print(classification_report(y_test, y_pred))"
   ]
  },
  {
   "cell_type": "markdown",
   "metadata": {},
   "source": [
    "### Data with Resampling and with OneHotEncoding"
   ]
  },
  {
   "cell_type": "code",
   "execution_count": 9,
   "metadata": {},
   "outputs": [],
   "source": [
    "X = min_max_scale_data.values\n",
    "Y = np.squeeze(y_resampled.values)\n",
    "X_train,X_test2,y_train,y_test2=train_test_split(X,Y,test_size=0.2,random_state=10)"
   ]
  },
  {
   "cell_type": "code",
   "execution_count": 10,
   "metadata": {},
   "outputs": [
    {
     "name": "stdout",
     "output_type": "stream",
     "text": [
      "Time taken to fit the model in sec is  188.78854190000004\n"
     ]
    }
   ],
   "source": [
    "svm_clf = LinearSVC(random_state=48) \n",
    "start_time = timeit.default_timer()\n",
    "svm_clf.fit(X_train,y_train)\n",
    "elapsed = timeit.default_timer() - start_time\n",
    "print(\"Time taken to fit the model in sec is \",elapsed)\n",
    "y_pred2=svm_clf.predict(X_test2)"
   ]
  },
  {
   "cell_type": "code",
   "execution_count": 12,
   "metadata": {},
   "outputs": [
    {
     "name": "stdout",
     "output_type": "stream",
     "text": [
      "Accuracy score: 0.9018\n",
      "F1 score : 0.8984\n",
      "Recall score : 0.8664\n",
      "Precision score : 0.9330\n"
     ]
    }
   ],
   "source": [
    "print(f\"Accuracy score: {accuracy_score(y_test2, y_pred2):.4f}\")\n",
    "print(f\"F1 score : {f1_score(y_test2, y_pred2):.4f}\")\n",
    "print(f\"Recall score : {recall_score(y_test2, y_pred2):.4f}\")\n",
    "print(f\"Precision score : {precision_score(y_test2, y_pred2):.4f}\")"
   ]
  },
  {
   "cell_type": "code",
   "execution_count": 13,
   "metadata": {},
   "outputs": [
    {
     "data": {
      "text/plain": [
       "<AxesSubplot:>"
      ]
     },
     "execution_count": 13,
     "metadata": {},
     "output_type": "execute_result"
    },
    {
     "data": {
      "image/png": "[encoded data removed]",
      "text/plain": [
       "<Figure size 432x288 with 2 Axes>"
      ]
     },
     "metadata": {
      "needs_background": "light"
     },
     "output_type": "display_data"
    }
   ],
   "source": [
    "sns.heatmap(confusion_matrix(y_test2,y_pred2),annot=True,fmt='', cmap='Blues')"
   ]
  },
  {
   "cell_type": "code",
   "execution_count": 14,
   "metadata": {},
   "outputs": [
    {
     "name": "stdout",
     "output_type": "stream",
     "text": [
      "              precision    recall  f1-score   support\n",
      "\n",
      "           0       0.87      0.94      0.90    114386\n",
      "           1       0.93      0.87      0.90    115022\n",
      "\n",
      "    accuracy                           0.90    229408\n",
      "   macro avg       0.90      0.90      0.90    229408\n",
      "weighted avg       0.90      0.90      0.90    229408\n",
      "\n"
     ]
    }
   ],
   "source": [
    "print(classification_report(y_test2, y_pred2))"
   ]
  },
  {
   "cell_type": "markdown",
   "metadata": {},
   "source": [
    "### OneHotEncoding improved accuracy"
   ]
  },
  {
   "cell_type": "code",
   "execution_count": 15,
   "metadata": {},
   "outputs": [
    {
     "name": "stdout",
     "output_type": "stream",
     "text": [
      "Time taken to fit the model in sec is  64.24129019999998\n"
     ]
    }
   ],
   "source": [
    "svm_clf = LinearSVC(random_state=48,dual=False) \n",
    "start_time = timeit.default_timer()\n",
    "svm_clf.fit(X_train,y_train)\n",
    "elapsed = timeit.default_timer() - start_time\n",
    "print(\"Time taken to fit the model in sec is \",elapsed)\n",
    "y_pred2=svm_clf.predict(X_test2)"
   ]
  },
  {
   "cell_type": "code",
   "execution_count": 17,
   "metadata": {},
   "outputs": [
    {
     "name": "stdout",
     "output_type": "stream",
     "text": [
      "Accuracy score: 0.9018\n",
      "F1 score : 0.8984\n",
      "Recall score : 0.8664\n",
      "Precision score : 0.9330\n"
     ]
    }
   ],
   "source": [
    "print(f\"Accuracy score: {accuracy_score(y_test2, y_pred2):.4f}\")\n",
    "print(f\"F1 score : {f1_score(y_test2, y_pred2):.4f}\")\n",
    "print(f\"Recall score : {recall_score(y_test2, y_pred2):.4f}\")\n",
    "print(f\"Precision score : {precision_score(y_test2, y_pred2):.4f}\")"
   ]
  },
  {
   "cell_type": "code",
   "execution_count": 18,
   "metadata": {},
   "outputs": [
    {
     "name": "stdout",
     "output_type": "stream",
     "text": [
      "Time taken to fit the model in sec is  64.47007959999996\n"
     ]
    }
   ],
   "source": [
    "svm_clf = LinearSVC(random_state=48,dual=False,max_iter=3000) \n",
    "start_time = timeit.default_timer()\n",
    "svm_clf.fit(X_train,y_train)\n",
    "elapsed = timeit.default_timer() - start_time\n",
    "print(\"Time taken to fit the model in sec is \",elapsed)\n",
    "y_pred2=svm_clf.predict(X_test2)"
   ]
  },
  {
   "cell_type": "code",
   "execution_count": 20,
   "metadata": {},
   "outputs": [
    {
     "name": "stdout",
     "output_type": "stream",
     "text": [
      "Accuracy score: 0.9018\n",
      "F1 score : 0.8984\n",
      "Recall score : 0.8664\n",
      "Precision score : 0.9330\n"
     ]
    }
   ],
   "source": [
    "print(f\"Accuracy score: {accuracy_score(y_test2, y_pred2):.4f}\")\n",
    "print(f\"F1 score : {f1_score(y_test2, y_pred2):.4f}\")\n",
    "print(f\"Recall score : {recall_score(y_test2, y_pred2):.4f}\")\n",
    "print(f\"Precision score : {precision_score(y_test2, y_pred2):.4f}\")"
   ]
  },
  {
   "cell_type": "markdown",
   "metadata": {},
   "source": [
    "* Changing dual and maxiter has no impact on accuracy score\n",
    "* Dual=False can resolve the convergence warning"
   ]
  },
  {
   "cell_type": "markdown",
   "metadata": {},
   "source": [
    "### Performing Cross Validation"
   ]
  },
  {
   "cell_type": "code",
   "execution_count": 21,
   "metadata": {},
   "outputs": [],
   "source": [
    "X = min_max_scale_data.values\n",
    "Y = np.squeeze(y_resampled.values)\n",
    "X_train,X_test2,y_train,y_test2=train_test_split(X,Y,test_size=0.2,random_state=10)"
   ]
  },
  {
   "cell_type": "code",
   "execution_count": 23,
   "metadata": {},
   "outputs": [
    {
     "name": "stdout",
     "output_type": "stream",
     "text": [
      "Time taken to fit the model in sec is  65.19228939999994\n",
      "Time taken to perform cv for the model in sec is  596.9197777000002\n",
      "Cv2 scores: [0.05488911 0.6682243  0.67090947 0.66442321 0.66982843 0.67007253\n",
      " 0.67017428 0.67027889 0.67383591 0.66982555]\n",
      "Mean 5-Fold R Squared: 0.6082461676167825\n"
     ]
    }
   ],
   "source": [
    "svm_clf = LinearSVC(random_state=48,dual=False) \n",
    "start_time = timeit.default_timer()\n",
    "svm_clf.fit(X_train,y_train)\n",
    "elapsed = timeit.default_timer() - start_time\n",
    "print(\"Time taken to fit the model in sec is \",elapsed)\n",
    "\n",
    "start_time = timeit.default_timer()\n",
    "#perform k fold\n",
    "cv_r2_scores_rf = cross_val_score(svm_clf, X, Y, cv=10,scoring='r2')\n",
    "elapsed = timeit.default_timer() - start_time\n",
    "print(\"Time taken to perform cv for the model in sec is \",elapsed)\n",
    "\n",
    "print(\"Cv2 scores:\",cv_r2_scores_rf)\n",
    "print(\"Mean 5-Fold R Squared: {}\".format(np.mean(cv_r2_scores_rf)))"
   ]
  },
  {
   "cell_type": "code",
   "execution_count": 29,
   "metadata": {},
   "outputs": [
    {
     "name": "stdout",
     "output_type": "stream",
     "text": [
      "Time taken to fit the model in sec is  66.21286610000243\n",
      "Time taken to perform cv for the model in sec is  257.3644861000066\n",
      "Cv2 scores: [0.36410239 0.66691513 0.66921672 0.66935621 0.67082086]\n",
      "Mean 5-Fold R Squared: 0.6080822606911251\n"
     ]
    }
   ],
   "source": [
    "svm_clf = LinearSVC(random_state=48,dual=False) \n",
    "start_time = timeit.default_timer()\n",
    "svm_clf.fit(X_train,y_train)\n",
    "elapsed = timeit.default_timer() - start_time\n",
    "print(\"Time taken to fit the model in sec is \",elapsed)\n",
    "\n",
    "start_time = timeit.default_timer()\n",
    "#perform k fold\n",
    "cv_r2_scores_rf = cross_val_score(svm_clf, X, Y, cv=5,scoring='r2')\n",
    "elapsed = timeit.default_timer() - start_time\n",
    "print(\"Time taken to perform cv for the model in sec is \",elapsed)\n",
    "\n",
    "print(\"Cv2 scores:\",cv_r2_scores_rf)\n",
    "print(\"Mean 5-Fold R Squared: {}\".format(np.mean(cv_r2_scores_rf)))"
   ]
  },
  {
   "cell_type": "markdown",
   "metadata": {},
   "source": [
    "* We see that the metrics for all folds in cross_val_score are uniform so it can be concluded that the model is able to generalise"
   ]
  },
  {
   "cell_type": "code",
   "execution_count": null,
   "metadata": {},
   "outputs": [],
   "source": []
  }
 ],
 "metadata": {
  "colab": {
   "provenance": []
  },
  "kernelspec": {
   "display_name": "Python 3 (ipykernel)",
   "language": "python",
   "name": "python3"
  },
  "language_info": {
   "codemirror_mode": {
    "name": "ipython",
    "version": 3
   },
   "file_extension": ".py",
   "mimetype": "text/x-python",
   "name": "python",
   "nbconvert_exporter": "python",
   "pygments_lexer": "ipython3",
   "version": "3.9.7"
  }
 },
 "nbformat": 4,
 "nbformat_minor": 1
}
