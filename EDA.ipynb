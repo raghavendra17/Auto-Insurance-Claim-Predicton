{
  "cells": [
    {
      "cell_type": "markdown",
      "metadata": {
        "id": "2GTpJUoq3t7b"
      },
      "source": [
        "## Exploratory Data Analysis"
      ]
    },
    {
      "cell_type": "code",
      "source": [
        "from google.colab import drive\n",
        "drive.mount('/content/drive/')\n",
        "!cp \"drive/MyDrive/Colab Notebooks/AutoInsurance.zip\" \"/content/AutoInsurance.zip\"\n",
        "\n",
        "!unzip AutoInsurance.zip\n",
        "!rm AutoInsurance.zip"
      ],
      "metadata": {
        "colab": {
          "base_uri": "https://localhost:8080/"
        },
        "id": "MU0VEi4dEsbl",
        "outputId": "2e35dd85-e812-4989-837c-44c0af761124"
      },
      "execution_count": 1,
      "outputs": [
        {
          "output_type": "stream",
          "name": "stdout",
          "text": [
            "Drive already mounted at /content/drive/; to attempt to forcibly remount, call drive.mount(\"/content/drive/\", force_remount=True).\n",
            "Archive:  AutoInsurance.zip\n",
            "replace train(1).csv? [y]es, [n]o, [A]ll, [N]one, [r]ename: n\n"
          ]
        }
      ]
    },
    {
      "cell_type": "code",
      "execution_count": 2,
      "metadata": {
        "id": "FVFLkSdKo0s_"
      },
      "outputs": [],
      "source": [
        "import pandas as pd\n",
        "import numpy as np\n",
        "import seaborn as sns\n",
        "import matplotlib.pyplot as plt\n",
        "import warnings\n",
        "warnings.filterwarnings('ignore')"
      ]
    },
    {
      "cell_type": "code",
      "execution_count": 3,
      "metadata": {
        "colab": {
          "base_uri": "https://localhost:8080/",
          "height": 300
        },
        "id": "LyyysPoComeX",
        "outputId": "61ec0545-426b-4d4f-ec2b-6d427b84d425"
      },
      "outputs": [
        {
          "output_type": "execute_result",
          "data": {
            "text/plain": [
              "   id  target  ps_ind_01  ps_ind_02_cat  ps_ind_03  ps_ind_04_cat  \\\n",
              "0   7       0          2              2          5              1   \n",
              "1   9       0          1              1          7              0   \n",
              "2  13       0          5              4          9              1   \n",
              "3  16       0          0              1          2              0   \n",
              "4  17       0          0              2          0              1   \n",
              "\n",
              "   ps_ind_05_cat  ps_ind_06_bin  ps_ind_07_bin  ps_ind_08_bin  ...  \\\n",
              "0              0              0              1              0  ...   \n",
              "1              0              0              0              1  ...   \n",
              "2              0              0              0              1  ...   \n",
              "3              0              1              0              0  ...   \n",
              "4              0              1              0              0  ...   \n",
              "\n",
              "   ps_calc_11  ps_calc_12  ps_calc_13  ps_calc_14  ps_calc_15_bin  \\\n",
              "0           9           1           5           8               0   \n",
              "1           3           1           1           9               0   \n",
              "2           4           2           7           7               0   \n",
              "3           2           2           4           9               0   \n",
              "4           3           1           1           3               0   \n",
              "\n",
              "   ps_calc_16_bin  ps_calc_17_bin  ps_calc_18_bin  ps_calc_19_bin  \\\n",
              "0               1               1               0               0   \n",
              "1               1               1               0               1   \n",
              "2               1               1               0               1   \n",
              "3               0               0               0               0   \n",
              "4               0               0               1               1   \n",
              "\n",
              "   ps_calc_20_bin  \n",
              "0               1  \n",
              "1               0  \n",
              "2               0  \n",
              "3               0  \n",
              "4               0  \n",
              "\n",
              "[5 rows x 59 columns]"
            ],
            "text/html": [
              "\n",
              "  <div id=\"df-e5f435c9-bf23-48cc-8eef-b17a24e454ec\">\n",
              "    <div class=\"colab-df-container\">\n",
              "      <div>\n",
              "<style scoped>\n",
              "    .dataframe tbody tr th:only-of-type {\n",
              "        vertical-align: middle;\n",
              "    }\n",
              "\n",
              "    .dataframe tbody tr th {\n",
              "        vertical-align: top;\n",
              "    }\n",
              "\n",
              "    .dataframe thead th {\n",
              "        text-align: right;\n",
              "    }\n",
              "</style>\n",
              "<table border=\"1\" class=\"dataframe\">\n",
              "  <thead>\n",
              "    <tr style=\"text-align: right;\">\n",
              "      <th></th>\n",
              "      <th>id</th>\n",
              "      <th>target</th>\n",
              "      <th>ps_ind_01</th>\n",
              "      <th>ps_ind_02_cat</th>\n",
              "      <th>ps_ind_03</th>\n",
              "      <th>ps_ind_04_cat</th>\n",
              "      <th>ps_ind_05_cat</th>\n",
              "      <th>ps_ind_06_bin</th>\n",
              "      <th>ps_ind_07_bin</th>\n",
              "      <th>ps_ind_08_bin</th>\n",
              "      <th>...</th>\n",
              "      <th>ps_calc_11</th>\n",
              "      <th>ps_calc_12</th>\n",
              "      <th>ps_calc_13</th>\n",
              "      <th>ps_calc_14</th>\n",
              "      <th>ps_calc_15_bin</th>\n",
              "      <th>ps_calc_16_bin</th>\n",
              "      <th>ps_calc_17_bin</th>\n",
              "      <th>ps_calc_18_bin</th>\n",
              "      <th>ps_calc_19_bin</th>\n",
              "      <th>ps_calc_20_bin</th>\n",
              "    </tr>\n",
              "  </thead>\n",
              "  <tbody>\n",
              "    <tr>\n",
              "      <th>0</th>\n",
              "      <td>7</td>\n",
              "      <td>0</td>\n",
              "      <td>2</td>\n",
              "      <td>2</td>\n",
              "      <td>5</td>\n",
              "      <td>1</td>\n",
              "      <td>0</td>\n",
              "      <td>0</td>\n",
              "      <td>1</td>\n",
              "      <td>0</td>\n",
              "      <td>...</td>\n",
              "      <td>9</td>\n",
              "      <td>1</td>\n",
              "      <td>5</td>\n",
              "      <td>8</td>\n",
              "      <td>0</td>\n",
              "      <td>1</td>\n",
              "      <td>1</td>\n",
              "      <td>0</td>\n",
              "      <td>0</td>\n",
              "      <td>1</td>\n",
              "    </tr>\n",
              "    <tr>\n",
              "      <th>1</th>\n",
              "      <td>9</td>\n",
              "      <td>0</td>\n",
              "      <td>1</td>\n",
              "      <td>1</td>\n",
              "      <td>7</td>\n",
              "      <td>0</td>\n",
              "      <td>0</td>\n",
              "      <td>0</td>\n",
              "      <td>0</td>\n",
              "      <td>1</td>\n",
              "      <td>...</td>\n",
              "      <td>3</td>\n",
              "      <td>1</td>\n",
              "      <td>1</td>\n",
              "      <td>9</td>\n",
              "      <td>0</td>\n",
              "      <td>1</td>\n",
              "      <td>1</td>\n",
              "      <td>0</td>\n",
              "      <td>1</td>\n",
              "      <td>0</td>\n",
              "    </tr>\n",
              "    <tr>\n",
              "      <th>2</th>\n",
              "      <td>13</td>\n",
              "      <td>0</td>\n",
              "      <td>5</td>\n",
              "      <td>4</td>\n",
              "      <td>9</td>\n",
              "      <td>1</td>\n",
              "      <td>0</td>\n",
              "      <td>0</td>\n",
              "      <td>0</td>\n",
              "      <td>1</td>\n",
              "      <td>...</td>\n",
              "      <td>4</td>\n",
              "      <td>2</td>\n",
              "      <td>7</td>\n",
              "      <td>7</td>\n",
              "      <td>0</td>\n",
              "      <td>1</td>\n",
              "      <td>1</td>\n",
              "      <td>0</td>\n",
              "      <td>1</td>\n",
              "      <td>0</td>\n",
              "    </tr>\n",
              "    <tr>\n",
              "      <th>3</th>\n",
              "      <td>16</td>\n",
              "      <td>0</td>\n",
              "      <td>0</td>\n",
              "      <td>1</td>\n",
              "      <td>2</td>\n",
              "      <td>0</td>\n",
              "      <td>0</td>\n",
              "      <td>1</td>\n",
              "      <td>0</td>\n",
              "      <td>0</td>\n",
              "      <td>...</td>\n",
              "      <td>2</td>\n",
              "      <td>2</td>\n",
              "      <td>4</td>\n",
              "      <td>9</td>\n",
              "      <td>0</td>\n",
              "      <td>0</td>\n",
              "      <td>0</td>\n",
              "      <td>0</td>\n",
              "      <td>0</td>\n",
              "      <td>0</td>\n",
              "    </tr>\n",
              "    <tr>\n",
              "      <th>4</th>\n",
              "      <td>17</td>\n",
              "      <td>0</td>\n",
              "      <td>0</td>\n",
              "      <td>2</td>\n",
              "      <td>0</td>\n",
              "      <td>1</td>\n",
              "      <td>0</td>\n",
              "      <td>1</td>\n",
              "      <td>0</td>\n",
              "      <td>0</td>\n",
              "      <td>...</td>\n",
              "      <td>3</td>\n",
              "      <td>1</td>\n",
              "      <td>1</td>\n",
              "      <td>3</td>\n",
              "      <td>0</td>\n",
              "      <td>0</td>\n",
              "      <td>0</td>\n",
              "      <td>1</td>\n",
              "      <td>1</td>\n",
              "      <td>0</td>\n",
              "    </tr>\n",
              "  </tbody>\n",
              "</table>\n",
              "<p>5 rows × 59 columns</p>\n",
              "</div>\n",
              "      <button class=\"colab-df-convert\" onclick=\"convertToInteractive('df-e5f435c9-bf23-48cc-8eef-b17a24e454ec')\"\n",
              "              title=\"Convert this dataframe to an interactive table.\"\n",
              "              style=\"display:none;\">\n",
              "        \n",
              "  <svg xmlns=\"http://www.w3.org/2000/svg\" height=\"24px\"viewBox=\"0 0 24 24\"\n",
              "       width=\"24px\">\n",
              "    <path d=\"M0 0h24v24H0V0z\" fill=\"none\"/>\n",
              "    <path d=\"M18.56 5.44l.94 2.06.94-2.06 2.06-.94-2.06-.94-.94-2.06-.94 2.06-2.06.94zm-11 1L8.5 8.5l.94-2.06 2.06-.94-2.06-.94L8.5 2.5l-.94 2.06-2.06.94zm10 10l.94 2.06.94-2.06 2.06-.94-2.06-.94-.94-2.06-.94 2.06-2.06.94z\"/><path d=\"M17.41 7.96l-1.37-1.37c-.4-.4-.92-.59-1.43-.59-.52 0-1.04.2-1.43.59L10.3 9.45l-7.72 7.72c-.78.78-.78 2.05 0 2.83L4 21.41c.39.39.9.59 1.41.59.51 0 1.02-.2 1.41-.59l7.78-7.78 2.81-2.81c.8-.78.8-2.07 0-2.86zM5.41 20L4 18.59l7.72-7.72 1.47 1.35L5.41 20z\"/>\n",
              "  </svg>\n",
              "      </button>\n",
              "      \n",
              "  <style>\n",
              "    .colab-df-container {\n",
              "      display:flex;\n",
              "      flex-wrap:wrap;\n",
              "      gap: 12px;\n",
              "    }\n",
              "\n",
              "    .colab-df-convert {\n",
              "      background-color: #E8F0FE;\n",
              "      border: none;\n",
              "      border-radius: 50%;\n",
              "      cursor: pointer;\n",
              "      display: none;\n",
              "      fill: #1967D2;\n",
              "      height: 32px;\n",
              "      padding: 0 0 0 0;\n",
              "      width: 32px;\n",
              "    }\n",
              "\n",
              "    .colab-df-convert:hover {\n",
              "      background-color: #E2EBFA;\n",
              "      box-shadow: 0px 1px 2px rgba(60, 64, 67, 0.3), 0px 1px 3px 1px rgba(60, 64, 67, 0.15);\n",
              "      fill: #174EA6;\n",
              "    }\n",
              "\n",
              "    [theme=dark] .colab-df-convert {\n",
              "      background-color: #3B4455;\n",
              "      fill: #D2E3FC;\n",
              "    }\n",
              "\n",
              "    [theme=dark] .colab-df-convert:hover {\n",
              "      background-color: #434B5C;\n",
              "      box-shadow: 0px 1px 3px 1px rgba(0, 0, 0, 0.15);\n",
              "      filter: drop-shadow(0px 1px 2px rgba(0, 0, 0, 0.3));\n",
              "      fill: #FFFFFF;\n",
              "    }\n",
              "  </style>\n",
              "\n",
              "      <script>\n",
              "        const buttonEl =\n",
              "          document.querySelector('#df-e5f435c9-bf23-48cc-8eef-b17a24e454ec button.colab-df-convert');\n",
              "        buttonEl.style.display =\n",
              "          google.colab.kernel.accessAllowed ? 'block' : 'none';\n",
              "\n",
              "        async function convertToInteractive(key) {\n",
              "          const element = document.querySelector('#df-e5f435c9-bf23-48cc-8eef-b17a24e454ec');\n",
              "          const dataTable =\n",
              "            await google.colab.kernel.invokeFunction('convertToInteractive',\n",
              "                                                     [key], {});\n",
              "          if (!dataTable) return;\n",
              "\n",
              "          const docLinkHtml = 'Like what you see? Visit the ' +\n",
              "            '<a target=\"_blank\" href=https://colab.research.google.com/notebooks/data_table.ipynb>data table notebook</a>'\n",
              "            + ' to learn more about interactive tables.';\n",
              "          element.innerHTML = '';\n",
              "          dataTable['output_type'] = 'display_data';\n",
              "          await google.colab.output.renderOutput(dataTable, element);\n",
              "          const docLink = document.createElement('div');\n",
              "          docLink.innerHTML = docLinkHtml;\n",
              "          element.appendChild(docLink);\n",
              "        }\n",
              "      </script>\n",
              "    </div>\n",
              "  </div>\n",
              "  "
            ]
          },
          "metadata": {},
          "execution_count": 3
        }
      ],
      "source": [
        "df=pd.read_csv('train(1).csv')\n",
        "df[:5]"
      ]
    },
    {
      "cell_type": "markdown",
      "metadata": {
        "id": "Vipctl3i7nBS"
      },
      "source": [
        "###  Inferences"
      ]
    },
    {
      "cell_type": "code",
      "execution_count": 4,
      "metadata": {
        "colab": {
          "base_uri": "https://localhost:8080/"
        },
        "id": "0rUeyd9Boyt6",
        "outputId": "c9cac60f-bc10-4f06-a33c-4f960672a54b"
      },
      "outputs": [
        {
          "output_type": "stream",
          "name": "stdout",
          "text": [
            "<class 'pandas.core.frame.DataFrame'>\n",
            "RangeIndex: 595212 entries, 0 to 595211\n",
            "Data columns (total 59 columns):\n",
            " #   Column          Non-Null Count   Dtype  \n",
            "---  ------          --------------   -----  \n",
            " 0   id              595212 non-null  int64  \n",
            " 1   target          595212 non-null  int64  \n",
            " 2   ps_ind_01       595212 non-null  int64  \n",
            " 3   ps_ind_02_cat   595212 non-null  int64  \n",
            " 4   ps_ind_03       595212 non-null  int64  \n",
            " 5   ps_ind_04_cat   595212 non-null  int64  \n",
            " 6   ps_ind_05_cat   595212 non-null  int64  \n",
            " 7   ps_ind_06_bin   595212 non-null  int64  \n",
            " 8   ps_ind_07_bin   595212 non-null  int64  \n",
            " 9   ps_ind_08_bin   595212 non-null  int64  \n",
            " 10  ps_ind_09_bin   595212 non-null  int64  \n",
            " 11  ps_ind_10_bin   595212 non-null  int64  \n",
            " 12  ps_ind_11_bin   595212 non-null  int64  \n",
            " 13  ps_ind_12_bin   595212 non-null  int64  \n",
            " 14  ps_ind_13_bin   595212 non-null  int64  \n",
            " 15  ps_ind_14       595212 non-null  int64  \n",
            " 16  ps_ind_15       595212 non-null  int64  \n",
            " 17  ps_ind_16_bin   595212 non-null  int64  \n",
            " 18  ps_ind_17_bin   595212 non-null  int64  \n",
            " 19  ps_ind_18_bin   595212 non-null  int64  \n",
            " 20  ps_reg_01       595212 non-null  float64\n",
            " 21  ps_reg_02       595212 non-null  float64\n",
            " 22  ps_reg_03       595212 non-null  float64\n",
            " 23  ps_car_01_cat   595212 non-null  int64  \n",
            " 24  ps_car_02_cat   595212 non-null  int64  \n",
            " 25  ps_car_03_cat   595212 non-null  int64  \n",
            " 26  ps_car_04_cat   595212 non-null  int64  \n",
            " 27  ps_car_05_cat   595212 non-null  int64  \n",
            " 28  ps_car_06_cat   595212 non-null  int64  \n",
            " 29  ps_car_07_cat   595212 non-null  int64  \n",
            " 30  ps_car_08_cat   595212 non-null  int64  \n",
            " 31  ps_car_09_cat   595212 non-null  int64  \n",
            " 32  ps_car_10_cat   595212 non-null  int64  \n",
            " 33  ps_car_11_cat   595212 non-null  int64  \n",
            " 34  ps_car_11       595212 non-null  int64  \n",
            " 35  ps_car_12       595212 non-null  float64\n",
            " 36  ps_car_13       595212 non-null  float64\n",
            " 37  ps_car_14       595212 non-null  float64\n",
            " 38  ps_car_15       595212 non-null  float64\n",
            " 39  ps_calc_01      595212 non-null  float64\n",
            " 40  ps_calc_02      595212 non-null  float64\n",
            " 41  ps_calc_03      595212 non-null  float64\n",
            " 42  ps_calc_04      595212 non-null  int64  \n",
            " 43  ps_calc_05      595212 non-null  int64  \n",
            " 44  ps_calc_06      595212 non-null  int64  \n",
            " 45  ps_calc_07      595212 non-null  int64  \n",
            " 46  ps_calc_08      595212 non-null  int64  \n",
            " 47  ps_calc_09      595212 non-null  int64  \n",
            " 48  ps_calc_10      595212 non-null  int64  \n",
            " 49  ps_calc_11      595212 non-null  int64  \n",
            " 50  ps_calc_12      595212 non-null  int64  \n",
            " 51  ps_calc_13      595212 non-null  int64  \n",
            " 52  ps_calc_14      595212 non-null  int64  \n",
            " 53  ps_calc_15_bin  595212 non-null  int64  \n",
            " 54  ps_calc_16_bin  595212 non-null  int64  \n",
            " 55  ps_calc_17_bin  595212 non-null  int64  \n",
            " 56  ps_calc_18_bin  595212 non-null  int64  \n",
            " 57  ps_calc_19_bin  595212 non-null  int64  \n",
            " 58  ps_calc_20_bin  595212 non-null  int64  \n",
            "dtypes: float64(10), int64(49)\n",
            "memory usage: 267.9 MB\n"
          ]
        }
      ],
      "source": [
        "df.info()"
      ]
    },
    {
      "cell_type": "code",
      "execution_count": 5,
      "metadata": {
        "colab": {
          "base_uri": "https://localhost:8080/"
        },
        "id": "gXOqBiU0SSrr",
        "outputId": "692e2103-5924-4fbd-d4eb-5a97e5c059af"
      },
      "outputs": [
        {
          "output_type": "execute_result",
          "data": {
            "text/plain": [
              "(595212, 59)"
            ]
          },
          "metadata": {},
          "execution_count": 5
        }
      ],
      "source": [
        "df.drop_duplicates()\n",
        "df.shape"
      ]
    },
    {
      "cell_type": "markdown",
      "metadata": {
        "id": "7c6-XiK_39C6"
      },
      "source": [
        "\n",
        "\n",
        "*   The dataset has 595212 rows and 59 columns\n",
        "*   All columns are of either int64(49 columns) or float64(10) datatype\n",
        "*   There are no null objects\n",
        "*   There are no duplicates\n",
        "\n",
        "\n"
      ]
    },
    {
      "cell_type": "markdown",
      "metadata": {
        "id": "xIZoLV6P7izT"
      },
      "source": [
        "### Checking the Data Balance or not (Target distribution)"
      ]
    },
    {
      "cell_type": "code",
      "execution_count": 6,
      "metadata": {
        "colab": {
          "base_uri": "https://localhost:8080/"
        },
        "id": "q1f9m_MW35wH",
        "outputId": "4cd35ec7-bab1-4678-99cc-549ffe80691a"
      },
      "outputs": [
        {
          "output_type": "execute_result",
          "data": {
            "text/plain": [
              "0    573518\n",
              "1     21694\n",
              "Name: target, dtype: int64"
            ]
          },
          "metadata": {},
          "execution_count": 6
        }
      ],
      "source": [
        "df['target'].value_counts()"
      ]
    },
    {
      "cell_type": "code",
      "execution_count": 7,
      "metadata": {
        "colab": {
          "base_uri": "https://localhost:8080/"
        },
        "id": "4EasNnqjo8n9",
        "outputId": "9ca6d0a4-59cf-4b6e-be0b-8237b3cbbf7c"
      },
      "outputs": [
        {
          "output_type": "execute_result",
          "data": {
            "text/plain": [
              "96.3552482140817"
            ]
          },
          "metadata": {},
          "execution_count": 7
        }
      ],
      "source": [
        "df['target'].value_counts()[0]/(df['target'].value_counts()[0]+df['target'].value_counts()[1]) *100"
      ]
    },
    {
      "cell_type": "markdown",
      "metadata": {
        "id": "xwhwE9Lo6g4l"
      },
      "source": [
        "\n",
        "\n",
        "*   The data is imbalanced as target data distribution is not balanced.\n",
        "*   96% of target data is of one class and only 4% data is of another class"
      ]
    },
    {
      "cell_type": "markdown",
      "metadata": {
        "id": "_jnqwAVv_X08"
      },
      "source": [
        "\n",
        "### Splitting Features and Handling Missing Values\n",
        "* Categorical Features \n",
        "* Binary Features \n",
        "* Handling Missing Values\n",
        "\n",
        "\n"
      ]
    },
    {
      "cell_type": "code",
      "execution_count": 8,
      "metadata": {
        "colab": {
          "base_uri": "https://localhost:8080/"
        },
        "id": "DynzZVg7ERlk",
        "outputId": "734c6f80-deb4-47a7-b1ba-072c75c2f549"
      },
      "outputs": [
        {
          "output_type": "stream",
          "name": "stdout",
          "text": [
            "No of Outliers for column ps_reg_02 is 36793 and Percentage is 6.181494996740657\n",
            "No of Outliers for column ps_reg_03 is 120865 and Percentage is 20.30621022425623\n",
            "No of Outliers for column ps_car_12 is 15356 and Percentage is 2.579921103741188\n",
            "No of Outliers for column ps_car_13 is 26913 and Percentage is 4.521582226164795\n",
            "No of Outliers for column ps_car_14 is 58905 and Percentage is 9.896473861414085\n",
            "No of Outliers for column ps_car_15 is 27409 and Percentage is 4.604913879424474\n",
            "Binary features: 18\n",
            "Categorical features: 14\n",
            "Continuous featues: 10\n",
            "Ordinal_features: 17\n"
          ]
        }
      ],
      "source": [
        "bin_count=cat_count=continuous_count=ordinal_count=miss_count=0\n",
        "cat_cols=[]\n",
        "interval_cols=[]\n",
        "ordinal_cols=[]\n",
        "binary_cols=[]\n",
        "cols_to_be_dropped=[]\n",
        "outliers_indices=[]\n",
        "miss_count_dict=dict.fromkeys(df.columns,0)\n",
        "\n",
        "for i,column in enumerate(df.columns):\n",
        "  len=df[df[column]==-1].shape[0]\n",
        "  miss_count_dict[column]=len\n",
        "  last_3=column[-3:]\n",
        "  #Calculating Percentage of Missing values\n",
        "  Percent=round((len*100)/df.shape[0],2)\n",
        "  if last_3=='bin' or column == 'target':\n",
        "        bin_count+=1\n",
        "        binary_cols.append(column)\n",
        "        if Percent>40:\n",
        "            cols_to_be_dropped.append(column)\n",
        "        elif len>0:\n",
        "            df[column]=df[column].replace(-1,df[df[column]!=-1][column].mode()[0])\n",
        "  elif last_3=='cat':\n",
        "        cat_count+=1\n",
        "        cat_cols.append(column)\n",
        "        if Percent>40:\n",
        "            cols_to_be_dropped.append(column)\n",
        "        elif len>0: \n",
        "            df[column]=df[column].replace(-1,df[df[column]!=-1][column].mode()[0])\n",
        "  elif df[column].dtypes=='float64':\n",
        "        continuous_count+=1\n",
        "        interval_cols.append(column)\n",
        "        if Percent>40:\n",
        "            cols_to_be_dropped.append(column)\n",
        "        else:\n",
        "            Q1=df[column].quantile(0.25)\n",
        "            Q3=df[column].quantile(0.75)\n",
        "            IQR=Q3-Q1\n",
        "            outliers=df[column][(df[column] < (Q1-1.5*IQR))| (df[column] > (Q3 + 1.5 * IQR))]\n",
        "            if outliers.shape[0]>0:\n",
        "                outliers_indices.extend(outliers.index)\n",
        "                print(f\"No of Outliers for column {column} is {outliers.shape[0]} and Percentage is {(outliers.shape[0]*100)/df.shape[0]}\")#\\nOutliers Index: {outliers.index}\")\n",
        "                if len>0:\n",
        "                    #Replace outliers with median and rest with mean\n",
        "                    df[column]=df[column].replace(-1,round(df[column].median(),2))\n",
        "            elif len>0:\n",
        "                df[column]=df[column].replace(-1,round(df[column].mean(),2))\n",
        "  else:\n",
        "        ordinal_count+=1\n",
        "        ordinal_cols.append(column)\n",
        "        if Percent>40:\n",
        "            cols_to_be_dropped.append(column)\n",
        "        elif len>0:\n",
        "            df[column]=df[column].replace(-1,df[df[column]!=-1][column].mode()[0])\n",
        " \n",
        "print(f\"Binary features: {bin_count}\\nCategorical features: {cat_count}\\nContinuous featues: {continuous_count}\\n\\\n",
        "Ordinal_features: {ordinal_count}\")     \n"
      ]
    },
    {
      "cell_type": "markdown",
      "metadata": {
        "id": "Wm1KuCzlXaXZ"
      },
      "source": [
        "\n",
        "*   There are 18 binary features\n",
        "*   There are 14 categorical features,     27continuous/ordinal features \n",
        "*   Categorical,Ordinal and Binary features having missing values less than 40% are filled with mode \n",
        "*   Continuous features having missing values less than 40% are filled with mean if there are no outliers.filled with median if there are outliers\n",
        "\n"
      ]
    },
    {
      "cell_type": "markdown",
      "metadata": {
        "id": "QatMqKspHLd2"
      },
      "source": [
        "###  Missing Values"
      ]
    },
    {
      "cell_type": "code",
      "execution_count": 9,
      "metadata": {
        "colab": {
          "base_uri": "https://localhost:8080/"
        },
        "id": "dn7vUHxtHReP",
        "outputId": "fd25f5b7-3ff8-4a64-9f1a-222f345d471d"
      },
      "outputs": [
        {
          "output_type": "stream",
          "name": "stdout",
          "text": [
            "Missing Values count :0\n"
          ]
        }
      ],
      "source": [
        "print(f\"Missing Values count :{miss_count}\")"
      ]
    },
    {
      "cell_type": "code",
      "execution_count": 10,
      "metadata": {
        "colab": {
          "base_uri": "https://localhost:8080/"
        },
        "id": "0zxCJjKhYnGC",
        "outputId": "88237d68-20b3-4688-eee2-d1f23f0d6ed2"
      },
      "outputs": [
        {
          "output_type": "execute_result",
          "data": {
            "text/plain": [
              "{'id': 0,\n",
              " 'target': 0,\n",
              " 'ps_ind_01': 0,\n",
              " 'ps_ind_02_cat': 216,\n",
              " 'ps_ind_03': 0,\n",
              " 'ps_ind_04_cat': 83,\n",
              " 'ps_ind_05_cat': 5809,\n",
              " 'ps_ind_06_bin': 0,\n",
              " 'ps_ind_07_bin': 0,\n",
              " 'ps_ind_08_bin': 0,\n",
              " 'ps_ind_09_bin': 0,\n",
              " 'ps_ind_10_bin': 0,\n",
              " 'ps_ind_11_bin': 0,\n",
              " 'ps_ind_12_bin': 0,\n",
              " 'ps_ind_13_bin': 0,\n",
              " 'ps_ind_14': 0,\n",
              " 'ps_ind_15': 0,\n",
              " 'ps_ind_16_bin': 0,\n",
              " 'ps_ind_17_bin': 0,\n",
              " 'ps_ind_18_bin': 0,\n",
              " 'ps_reg_01': 0,\n",
              " 'ps_reg_02': 0,\n",
              " 'ps_reg_03': 107772,\n",
              " 'ps_car_01_cat': 107,\n",
              " 'ps_car_02_cat': 0,\n",
              " 'ps_car_03_cat': 411231,\n",
              " 'ps_car_04_cat': 0,\n",
              " 'ps_car_05_cat': 266551,\n",
              " 'ps_car_06_cat': 0,\n",
              " 'ps_car_07_cat': 11489,\n",
              " 'ps_car_08_cat': 0,\n",
              " 'ps_car_09_cat': 569,\n",
              " 'ps_car_10_cat': 0,\n",
              " 'ps_car_11_cat': 0,\n",
              " 'ps_car_11': 5,\n",
              " 'ps_car_12': 1,\n",
              " 'ps_car_13': 0,\n",
              " 'ps_car_14': 42620,\n",
              " 'ps_car_15': 0,\n",
              " 'ps_calc_01': 0,\n",
              " 'ps_calc_02': 0,\n",
              " 'ps_calc_03': 0,\n",
              " 'ps_calc_04': 0,\n",
              " 'ps_calc_05': 0,\n",
              " 'ps_calc_06': 0,\n",
              " 'ps_calc_07': 0,\n",
              " 'ps_calc_08': 0,\n",
              " 'ps_calc_09': 0,\n",
              " 'ps_calc_10': 0,\n",
              " 'ps_calc_11': 0,\n",
              " 'ps_calc_12': 0,\n",
              " 'ps_calc_13': 0,\n",
              " 'ps_calc_14': 0,\n",
              " 'ps_calc_15_bin': 0,\n",
              " 'ps_calc_16_bin': 0,\n",
              " 'ps_calc_17_bin': 0,\n",
              " 'ps_calc_18_bin': 0,\n",
              " 'ps_calc_19_bin': 0,\n",
              " 'ps_calc_20_bin': 0}"
            ]
          },
          "metadata": {},
          "execution_count": 10
        }
      ],
      "source": [
        "miss_count_dict # Missing values initially in dataset"
      ]
    },
    {
      "cell_type": "markdown",
      "metadata": {
        "id": "OZamJDynHPfR"
      },
      "source": [
        "*   12 features have missing values"
      ]
    },
    {
      "cell_type": "markdown",
      "metadata": {
        "id": "jY2NCfIPFhhi"
      },
      "source": [
        "#### Top Two features in terms of Missing values"
      ]
    },
    {
      "cell_type": "code",
      "execution_count": 11,
      "metadata": {
        "colab": {
          "base_uri": "https://localhost:8080/"
        },
        "id": "vFIfrup-ERlm",
        "outputId": "88d9bffe-83e5-46dc-a8d5-184ee44a061f"
      },
      "outputs": [
        {
          "output_type": "stream",
          "name": "stdout",
          "text": [
            "ps_car_03_cat : 411231\n",
            "ps_car_05_cat : 266551\n"
          ]
        }
      ],
      "source": [
        "x=list(miss_count_dict.values())\n",
        "x.sort(reverse=True)\n",
        "x=x[:2]\n",
        "for i in x:\n",
        "    for j in miss_count_dict.keys():\n",
        "        if(miss_count_dict[j]==i):\n",
        "            print(str(j)+\" : \"+str(miss_count_dict[j]))"
      ]
    },
    {
      "cell_type": "markdown",
      "metadata": {
        "id": "hz7725U6GrgN"
      },
      "source": [
        "*   ps_car_03_cat column,ps_car_05_cat are top 2 missing columns"
      ]
    },
    {
      "cell_type": "markdown",
      "metadata": {
        "id": "Q_z0NgfSUIUa"
      },
      "source": [
        "#### Handling Missing Values \n",
        "* Droping Unwanted columns"
      ]
    },
    {
      "cell_type": "code",
      "execution_count": 12,
      "metadata": {
        "colab": {
          "base_uri": "https://localhost:8080/"
        },
        "id": "r2PQxS75IDJe",
        "outputId": "ed668f95-cdad-4832-f595-439054e85faf"
      },
      "outputs": [
        {
          "output_type": "execute_result",
          "data": {
            "text/plain": [
              "['ps_car_03_cat', 'ps_car_05_cat']"
            ]
          },
          "metadata": {},
          "execution_count": 12
        }
      ],
      "source": [
        "cols_to_be_dropped"
      ]
    },
    {
      "cell_type": "code",
      "execution_count": 13,
      "metadata": {
        "colab": {
          "base_uri": "https://localhost:8080/"
        },
        "id": "GILcHCseiLxB",
        "outputId": "89c991ba-8f63-4184-8880-e4738cb20536"
      },
      "outputs": [
        {
          "output_type": "execute_result",
          "data": {
            "text/plain": [
              "(595212, 57)"
            ]
          },
          "metadata": {},
          "execution_count": 13
        }
      ],
      "source": [
        "df.drop(cols_to_be_dropped,axis=1,inplace=True)  \n",
        "cat_cols.remove('ps_car_03_cat')\n",
        "cat_cols.remove('ps_car_05_cat')\n",
        "df.shape"
      ]
    },
    {
      "cell_type": "markdown",
      "metadata": {
        "id": "WM5egKClJAjI"
      },
      "source": [
        "*   Columns having missing values more than 40% are 2 and they are dropped\n",
        "\n",
        "\n"
      ]
    },
    {
      "cell_type": "markdown",
      "metadata": {
        "id": "PPVXsv0WCqxJ"
      },
      "source": [
        "### Inference about Interval(Continuous) variables \n"
      ]
    },
    {
      "cell_type": "code",
      "execution_count": 14,
      "metadata": {
        "colab": {
          "base_uri": "https://localhost:8080/",
          "height": 364
        },
        "id": "x72mAnVuIq17",
        "outputId": "c4888844-f052-4de5-8469-ad0e1c182493"
      },
      "outputs": [
        {
          "output_type": "execute_result",
          "data": {
            "text/plain": [
              "           ps_reg_01      ps_reg_02      ps_reg_03      ps_car_12  \\\n",
              "count  595212.000000  595212.000000  595212.000000  595212.000000   \n",
              "mean        0.610991       0.439184       0.862533       0.379947   \n",
              "std         0.287643       0.404264       0.319686       0.058300   \n",
              "min         0.000000       0.000000       0.061237       0.100000   \n",
              "25%         0.400000       0.200000       0.666615       0.316228   \n",
              "50%         0.700000       0.300000       0.720677       0.374166   \n",
              "75%         0.900000       0.600000       1.000000       0.400000   \n",
              "max         0.900000       1.800000       4.037945       1.264911   \n",
              "\n",
              "           ps_car_13      ps_car_14      ps_car_15     ps_calc_01  \\\n",
              "count  595212.000000  595212.000000  595212.000000  595212.000000   \n",
              "mean        0.813265       0.374355       3.065899       0.449756   \n",
              "std         0.224588       0.043963       0.731366       0.287198   \n",
              "min         0.250619       0.109545       0.000000       0.000000   \n",
              "25%         0.670867       0.353553       2.828427       0.200000   \n",
              "50%         0.765811       0.370000       3.316625       0.500000   \n",
              "75%         0.906190       0.396485       3.605551       0.700000   \n",
              "max         3.720626       0.636396       3.741657       0.900000   \n",
              "\n",
              "          ps_calc_02     ps_calc_03  \n",
              "count  595212.000000  595212.000000  \n",
              "mean        0.449589       0.449849  \n",
              "std         0.286893       0.287153  \n",
              "min         0.000000       0.000000  \n",
              "25%         0.200000       0.200000  \n",
              "50%         0.400000       0.500000  \n",
              "75%         0.700000       0.700000  \n",
              "max         0.900000       0.900000  "
            ],
            "text/html": [
              "\n",
              "  <div id=\"df-46000a17-4835-491b-a446-86b9983d1e96\">\n",
              "    <div class=\"colab-df-container\">\n",
              "      <div>\n",
              "<style scoped>\n",
              "    .dataframe tbody tr th:only-of-type {\n",
              "        vertical-align: middle;\n",
              "    }\n",
              "\n",
              "    .dataframe tbody tr th {\n",
              "        vertical-align: top;\n",
              "    }\n",
              "\n",
              "    .dataframe thead th {\n",
              "        text-align: right;\n",
              "    }\n",
              "</style>\n",
              "<table border=\"1\" class=\"dataframe\">\n",
              "  <thead>\n",
              "    <tr style=\"text-align: right;\">\n",
              "      <th></th>\n",
              "      <th>ps_reg_01</th>\n",
              "      <th>ps_reg_02</th>\n",
              "      <th>ps_reg_03</th>\n",
              "      <th>ps_car_12</th>\n",
              "      <th>ps_car_13</th>\n",
              "      <th>ps_car_14</th>\n",
              "      <th>ps_car_15</th>\n",
              "      <th>ps_calc_01</th>\n",
              "      <th>ps_calc_02</th>\n",
              "      <th>ps_calc_03</th>\n",
              "    </tr>\n",
              "  </thead>\n",
              "  <tbody>\n",
              "    <tr>\n",
              "      <th>count</th>\n",
              "      <td>595212.000000</td>\n",
              "      <td>595212.000000</td>\n",
              "      <td>595212.000000</td>\n",
              "      <td>595212.000000</td>\n",
              "      <td>595212.000000</td>\n",
              "      <td>595212.000000</td>\n",
              "      <td>595212.000000</td>\n",
              "      <td>595212.000000</td>\n",
              "      <td>595212.000000</td>\n",
              "      <td>595212.000000</td>\n",
              "    </tr>\n",
              "    <tr>\n",
              "      <th>mean</th>\n",
              "      <td>0.610991</td>\n",
              "      <td>0.439184</td>\n",
              "      <td>0.862533</td>\n",
              "      <td>0.379947</td>\n",
              "      <td>0.813265</td>\n",
              "      <td>0.374355</td>\n",
              "      <td>3.065899</td>\n",
              "      <td>0.449756</td>\n",
              "      <td>0.449589</td>\n",
              "      <td>0.449849</td>\n",
              "    </tr>\n",
              "    <tr>\n",
              "      <th>std</th>\n",
              "      <td>0.287643</td>\n",
              "      <td>0.404264</td>\n",
              "      <td>0.319686</td>\n",
              "      <td>0.058300</td>\n",
              "      <td>0.224588</td>\n",
              "      <td>0.043963</td>\n",
              "      <td>0.731366</td>\n",
              "      <td>0.287198</td>\n",
              "      <td>0.286893</td>\n",
              "      <td>0.287153</td>\n",
              "    </tr>\n",
              "    <tr>\n",
              "      <th>min</th>\n",
              "      <td>0.000000</td>\n",
              "      <td>0.000000</td>\n",
              "      <td>0.061237</td>\n",
              "      <td>0.100000</td>\n",
              "      <td>0.250619</td>\n",
              "      <td>0.109545</td>\n",
              "      <td>0.000000</td>\n",
              "      <td>0.000000</td>\n",
              "      <td>0.000000</td>\n",
              "      <td>0.000000</td>\n",
              "    </tr>\n",
              "    <tr>\n",
              "      <th>25%</th>\n",
              "      <td>0.400000</td>\n",
              "      <td>0.200000</td>\n",
              "      <td>0.666615</td>\n",
              "      <td>0.316228</td>\n",
              "      <td>0.670867</td>\n",
              "      <td>0.353553</td>\n",
              "      <td>2.828427</td>\n",
              "      <td>0.200000</td>\n",
              "      <td>0.200000</td>\n",
              "      <td>0.200000</td>\n",
              "    </tr>\n",
              "    <tr>\n",
              "      <th>50%</th>\n",
              "      <td>0.700000</td>\n",
              "      <td>0.300000</td>\n",
              "      <td>0.720677</td>\n",
              "      <td>0.374166</td>\n",
              "      <td>0.765811</td>\n",
              "      <td>0.370000</td>\n",
              "      <td>3.316625</td>\n",
              "      <td>0.500000</td>\n",
              "      <td>0.400000</td>\n",
              "      <td>0.500000</td>\n",
              "    </tr>\n",
              "    <tr>\n",
              "      <th>75%</th>\n",
              "      <td>0.900000</td>\n",
              "      <td>0.600000</td>\n",
              "      <td>1.000000</td>\n",
              "      <td>0.400000</td>\n",
              "      <td>0.906190</td>\n",
              "      <td>0.396485</td>\n",
              "      <td>3.605551</td>\n",
              "      <td>0.700000</td>\n",
              "      <td>0.700000</td>\n",
              "      <td>0.700000</td>\n",
              "    </tr>\n",
              "    <tr>\n",
              "      <th>max</th>\n",
              "      <td>0.900000</td>\n",
              "      <td>1.800000</td>\n",
              "      <td>4.037945</td>\n",
              "      <td>1.264911</td>\n",
              "      <td>3.720626</td>\n",
              "      <td>0.636396</td>\n",
              "      <td>3.741657</td>\n",
              "      <td>0.900000</td>\n",
              "      <td>0.900000</td>\n",
              "      <td>0.900000</td>\n",
              "    </tr>\n",
              "  </tbody>\n",
              "</table>\n",
              "</div>\n",
              "      <button class=\"colab-df-convert\" onclick=\"convertToInteractive('df-46000a17-4835-491b-a446-86b9983d1e96')\"\n",
              "              title=\"Convert this dataframe to an interactive table.\"\n",
              "              style=\"display:none;\">\n",
              "        \n",
              "  <svg xmlns=\"http://www.w3.org/2000/svg\" height=\"24px\"viewBox=\"0 0 24 24\"\n",
              "       width=\"24px\">\n",
              "    <path d=\"M0 0h24v24H0V0z\" fill=\"none\"/>\n",
              "    <path d=\"M18.56 5.44l.94 2.06.94-2.06 2.06-.94-2.06-.94-.94-2.06-.94 2.06-2.06.94zm-11 1L8.5 8.5l.94-2.06 2.06-.94-2.06-.94L8.5 2.5l-.94 2.06-2.06.94zm10 10l.94 2.06.94-2.06 2.06-.94-2.06-.94-.94-2.06-.94 2.06-2.06.94z\"/><path d=\"M17.41 7.96l-1.37-1.37c-.4-.4-.92-.59-1.43-.59-.52 0-1.04.2-1.43.59L10.3 9.45l-7.72 7.72c-.78.78-.78 2.05 0 2.83L4 21.41c.39.39.9.59 1.41.59.51 0 1.02-.2 1.41-.59l7.78-7.78 2.81-2.81c.8-.78.8-2.07 0-2.86zM5.41 20L4 18.59l7.72-7.72 1.47 1.35L5.41 20z\"/>\n",
              "  </svg>\n",
              "      </button>\n",
              "      \n",
              "  <style>\n",
              "    .colab-df-container {\n",
              "      display:flex;\n",
              "      flex-wrap:wrap;\n",
              "      gap: 12px;\n",
              "    }\n",
              "\n",
              "    .colab-df-convert {\n",
              "      background-color: #E8F0FE;\n",
              "      border: none;\n",
              "      border-radius: 50%;\n",
              "      cursor: pointer;\n",
              "      display: none;\n",
              "      fill: #1967D2;\n",
              "      height: 32px;\n",
              "      padding: 0 0 0 0;\n",
              "      width: 32px;\n",
              "    }\n",
              "\n",
              "    .colab-df-convert:hover {\n",
              "      background-color: #E2EBFA;\n",
              "      box-shadow: 0px 1px 2px rgba(60, 64, 67, 0.3), 0px 1px 3px 1px rgba(60, 64, 67, 0.15);\n",
              "      fill: #174EA6;\n",
              "    }\n",
              "\n",
              "    [theme=dark] .colab-df-convert {\n",
              "      background-color: #3B4455;\n",
              "      fill: #D2E3FC;\n",
              "    }\n",
              "\n",
              "    [theme=dark] .colab-df-convert:hover {\n",
              "      background-color: #434B5C;\n",
              "      box-shadow: 0px 1px 3px 1px rgba(0, 0, 0, 0.15);\n",
              "      filter: drop-shadow(0px 1px 2px rgba(0, 0, 0, 0.3));\n",
              "      fill: #FFFFFF;\n",
              "    }\n",
              "  </style>\n",
              "\n",
              "      <script>\n",
              "        const buttonEl =\n",
              "          document.querySelector('#df-46000a17-4835-491b-a446-86b9983d1e96 button.colab-df-convert');\n",
              "        buttonEl.style.display =\n",
              "          google.colab.kernel.accessAllowed ? 'block' : 'none';\n",
              "\n",
              "        async function convertToInteractive(key) {\n",
              "          const element = document.querySelector('#df-46000a17-4835-491b-a446-86b9983d1e96');\n",
              "          const dataTable =\n",
              "            await google.colab.kernel.invokeFunction('convertToInteractive',\n",
              "                                                     [key], {});\n",
              "          if (!dataTable) return;\n",
              "\n",
              "          const docLinkHtml = 'Like what you see? Visit the ' +\n",
              "            '<a target=\"_blank\" href=https://colab.research.google.com/notebooks/data_table.ipynb>data table notebook</a>'\n",
              "            + ' to learn more about interactive tables.';\n",
              "          element.innerHTML = '';\n",
              "          dataTable['output_type'] = 'display_data';\n",
              "          await google.colab.output.renderOutput(dataTable, element);\n",
              "          const docLink = document.createElement('div');\n",
              "          docLink.innerHTML = docLinkHtml;\n",
              "          element.appendChild(docLink);\n",
              "        }\n",
              "      </script>\n",
              "    </div>\n",
              "  </div>\n",
              "  "
            ]
          },
          "metadata": {},
          "execution_count": 14
        }
      ],
      "source": [
        "df[interval_cols].describe()"
      ]
    },
    {
      "cell_type": "code",
      "source": [
        "df[interval_cols].hist(figsize=(10,10))"
      ],
      "metadata": {
        "colab": {
          "base_uri": "https://localhost:8080/",
          "height": 833
        },
        "id": "0Kjr4QNXFD_O",
        "outputId": "661464c8-98d1-4015-9658-57ad1192012c"
      },
      "execution_count": 15,
      "outputs": [
        {
          "output_type": "execute_result",
          "data": {
            "text/plain": [
              "array([[<matplotlib.axes._subplots.AxesSubplot object at 0x7f4dfef333d0>,\n",
              "        <matplotlib.axes._subplots.AxesSubplot object at 0x7f4dfeef8820>,\n",
              "        <matplotlib.axes._subplots.AxesSubplot object at 0x7f4dfeea9c40>],\n",
              "       [<matplotlib.axes._subplots.AxesSubplot object at 0x7f4dfee540d0>,\n",
              "        <matplotlib.axes._subplots.AxesSubplot object at 0x7f4dfee8a460>,\n",
              "        <matplotlib.axes._subplots.AxesSubplot object at 0x7f4dfee33790>],\n",
              "       [<matplotlib.axes._subplots.AxesSubplot object at 0x7f4dfee33880>,\n",
              "        <matplotlib.axes._subplots.AxesSubplot object at 0x7f4dfeddbcd0>,\n",
              "        <matplotlib.axes._subplots.AxesSubplot object at 0x7f4dfedbf4c0>],\n",
              "       [<matplotlib.axes._subplots.AxesSubplot object at 0x7f4dfed708b0>,\n",
              "        <matplotlib.axes._subplots.AxesSubplot object at 0x7f4dfed1bc10>,\n",
              "        <matplotlib.axes._subplots.AxesSubplot object at 0x7f4dfeccc340>]],\n",
              "      dtype=object)"
            ]
          },
          "metadata": {},
          "execution_count": 15
        },
        {
          "output_type": "display_data",
          "data": {
            "text/plain": [
              "<Figure size 720x720 with 12 Axes>"
            ],
            "image/png": "[encoded data removed]"
          },
          "metadata": {
            "needs_background": "light"
          }
        }
      ]
    },
    {
      "cell_type": "code",
      "source": [
        "plt.figure(figsize=[15,15])\n",
        "for i,col in enumerate(interval_cols):\n",
        "  plt.subplot(4,3,i+1) \n",
        "  sns.distplot(df[col])\n",
        "plt.show()"
      ],
      "metadata": {
        "colab": {
          "base_uri": "https://localhost:8080/",
          "height": 752
        },
        "id": "P8tQ8XaEGhkV",
        "outputId": "8ff63e3c-9caf-4417-c940-884e9a3b345c"
      },
      "execution_count": 16,
      "outputs": [
        {
          "output_type": "display_data",
          "data": {
            "text/plain": [
              "<Figure size 1080x1080 with 10 Axes>"
            ],
            "image/png": "[encoded data removed]"
          },
          "metadata": {
            "needs_background": "light"
          }
        }
      ]
    },
    {
      "cell_type": "code",
      "execution_count": 17,
      "metadata": {
        "colab": {
          "base_uri": "https://localhost:8080/",
          "height": 326
        },
        "id": "E2cXBGRSHzld",
        "outputId": "6ac8ba1c-9dd1-43aa-ed91-37d06f3ca012"
      },
      "outputs": [
        {
          "output_type": "execute_result",
          "data": {
            "text/plain": [
              "<matplotlib.axes._subplots.AxesSubplot at 0x7f4df9a9ea00>"
            ]
          },
          "metadata": {},
          "execution_count": 17
        },
        {
          "output_type": "display_data",
          "data": {
            "text/plain": [
              "<Figure size 432x288 with 1 Axes>"
            ],
            "image/png": "[encoded data removed]"
          },
          "metadata": {
            "needs_background": "light"
          }
        }
      ],
      "source": [
        "df[interval_cols].boxplot(rot=90)"
      ]
    },
    {
      "cell_type": "code",
      "execution_count": 18,
      "metadata": {
        "colab": {
          "base_uri": "https://localhost:8080/"
        },
        "id": "So0rv5ypERlo",
        "outputId": "e6e9991e-6644-49b0-f533-021933191069"
      },
      "outputs": [
        {
          "output_type": "stream",
          "name": "stdout",
          "text": [
            "No of Outliers for column ps_reg_02 is 36793 and Percentage is 6.181494996740657\n",
            "No of Outliers for column ps_reg_03 is 35514 and Percentage is 5.966613576339187\n",
            "No of Outliers for column ps_car_12 is 15355 and Percentage is 2.579753096375745\n",
            "No of Outliers for column ps_car_13 is 26913 and Percentage is 4.521582226164795\n",
            "No of Outliers for column ps_car_14 is 30420 and Percentage is 5.110784056773049\n",
            "No of Outliers for column ps_car_15 is 27409 and Percentage is 4.604913879424474\n"
          ]
        }
      ],
      "source": [
        "outliers_indices=[]    \n",
        "for column in interval_cols:\n",
        "    Q1=df[column].quantile(0.25)\n",
        "    Q3=df[column].quantile(0.75)\n",
        "    IQR=Q3-Q1\n",
        "    outliers=df[column][(df[column] < (Q1-1.5*IQR))| (df[column] > (Q3 + 1.5 * IQR))]\n",
        "    if outliers.shape[0]>0:\n",
        "        outliers_indices.extend(outliers.index)\n",
        "        print(f\"No of Outliers for column {column} is {outliers.shape[0]} and Percentage is {(outliers.shape[0]*100)/df.shape[0]}\")#\\nOutliers Index: {outliers.index}\")"
      ]
    },
    {
      "cell_type": "code",
      "execution_count": 19,
      "metadata": {
        "colab": {
          "base_uri": "https://localhost:8080/"
        },
        "id": "6pL5h76iIV9B",
        "outputId": "6a1040a2-8347-4b33-e6dc-75a0ebed28d0"
      },
      "outputs": [
        {
          "output_type": "stream",
          "name": "stdout",
          "text": [
            "117563\n"
          ]
        }
      ],
      "source": [
        "outliers_count=0\n",
        "for i in list(set(outliers_indices)):\n",
        "  outliers_count+=1\n",
        "print(outliers_count)"
      ]
    },
    {
      "cell_type": "markdown",
      "metadata": {
        "id": "0mH_waKs0A2l"
      },
      "source": [
        "*   All interval features values are in between 0 to 4\n",
        "*   All features having mean between 0 to 1 except for ps_car_15\n",
        "*   Standard Deviation lies between 0 to 0.7\n",
        "*   The data has outliers for 6 columns ps_reg_02 ,ps_reg_03,ps_car_12,\n",
        "pas_car_13,ps_car_14,ps_car_15\n",
        "*   117563 rows are outliers\n",
        "*   The columns not having outliers are in range of 0 to 1\n",
        "\n"
      ]
    },
    {
      "cell_type": "markdown",
      "metadata": {
        "id": "hS2wgVwwKs7g"
      },
      "source": [
        "### Inference about Ordinal Variables \n"
      ]
    },
    {
      "cell_type": "code",
      "execution_count": 20,
      "metadata": {
        "id": "S-I6BhAMpKH9"
      },
      "outputs": [],
      "source": [
        "# Dropping id column as too many ordinals to be handled and it assign higher rank for higher id.\n",
        "df.drop('id',axis=1,inplace=True)\n",
        "if 'id' in ordinal_cols:\n",
        "  ordinal_cols.remove('id')"
      ]
    },
    {
      "cell_type": "code",
      "execution_count": 21,
      "metadata": {
        "colab": {
          "base_uri": "https://localhost:8080/",
          "height": 656
        },
        "id": "iVaHsJ3NERlp",
        "outputId": "c6787273-32a8-4a57-f054-4a0f6a7354fd"
      },
      "outputs": [
        {
          "output_type": "display_data",
          "data": {
            "text/plain": [
              "<Figure size 864x720 with 15 Axes>"
            ],
            "image/png": "[encoded data removed]"
          },
          "metadata": {
            "needs_background": "light"
          }
        }
      ],
      "source": [
        "'''for column in ordinal_cols[1:]:\n",
        "    fig, ax = plt.subplots()\n",
        "    df[column].value_counts().plot(ax=ax, kind='bar',figsize=(3,3),title=  column+' VS Frquency')\n",
        "    plt.xticks(rotation='horizontal')\n",
        "    plt.xlabel(column)\n",
        "    plt.ylabel('Frquency')'''\n",
        "\n",
        "#https://stackoverflow.com/questions/64229894/how-to-fix-numpy-ndarray-object-has-no-attribute-get-figure-when-plotting-su\n",
        "fig,ax=plt.subplots(5,3)\n",
        "ax = ax.ravel()\n",
        "for i,column in enumerate(ordinal_cols[1:]):\n",
        "    df[column].value_counts().plot(ax=ax[i],kind='bar',figsize=(12,10),title=  column+' VS Frquency')\n",
        "    plt.xticks(rotation='horizontal')\n",
        "    plt.xlabel(column)\n",
        "    plt.ylabel('Frquency')\n",
        "plt.tight_layout()\n",
        "#As you can see, the axis labels in these subplots overlap one another. This is visually unappealing.\n",
        "#If you add the plt.tight_layout() statement to the end of this code block, this problem resolves itself."
      ]
    },
    {
      "cell_type": "markdown",
      "metadata": {
        "id": "LzUKuQTI0BiJ"
      },
      "source": [
        "\n",
        "\n",
        "* We can observe in all columns there is high to low range (rank wise) which indicates they are ordinal variables and in each column they are ranked \n",
        "* Since the values range between 0 to 24 we need to do scaling\n",
        " \n",
        "\n"
      ]
    },
    {
      "cell_type": "markdown",
      "metadata": {
        "id": "kjk98ypvKu7T"
      },
      "source": [
        "### Inference about Binary Variables"
      ]
    },
    {
      "cell_type": "code",
      "execution_count": 22,
      "metadata": {
        "colab": {
          "base_uri": "https://localhost:8080/",
          "height": 360
        },
        "id": "viYf9fCK3QHo",
        "outputId": "cde429f5-936c-4882-d2ba-a6704118a9b0"
      },
      "outputs": [
        {
          "output_type": "display_data",
          "data": {
            "text/plain": [
              "<Figure size 432x288 with 1 Axes>"
            ],
            "image/png": "[encoded data removed]"
          },
          "metadata": {
            "needs_background": "light"
          }
        }
      ],
      "source": [
        "\n",
        "no_of_ones=[]\n",
        "no_of_zeros=[]\n",
        "count=0\n",
        "for _ in binary_cols:\n",
        "  count+=1\n",
        "for column in binary_cols:\n",
        "  no_of_ones.append(df[df[column]==1].shape[0])\n",
        "  no_of_zeros.append(df[df[column]==0].shape[0])\n",
        "  \n",
        "X_axis = np.arange(count)\n",
        "  \n",
        "plt.bar(X_axis - 0.2, no_of_ones, 0.4, label = 'Ones')\n",
        "plt.bar(X_axis + 0.2, no_of_zeros, 0.4, label = 'Zeros')\n",
        "  \n",
        "plt.xticks(X_axis, binary_cols,rotation='vertical')\n",
        "plt.xlabel(\"Binary Features\")\n",
        "plt.ylabel(\"Count\")\n",
        "plt.title(\"Binary variables in each feature\")\n",
        "plt.legend()\n",
        "plt.show()"
      ]
    },
    {
      "cell_type": "markdown",
      "metadata": {
        "id": "p12LPyHW0Cf0"
      },
      "source": [
        "\n",
        "*   In ps_ind_10_bin,ps_ind_11_bin,ps_ind_12_bin,ps_ind_13_bin ones ratio is very less\n",
        "*   In most of Binary columns Zeros count is more\n",
        "*   Only in ps_ind_16_bin and ps_calc_16_bin,ps_calc_17_bin ones are more\n",
        "*   Mean is close to 0 and 75% is also 0 for most of columns.So we can conclude there are more zeros in majority of columns\n",
        "\n"
      ]
    },
    {
      "cell_type": "markdown",
      "metadata": {
        "id": "77McvFnCe1eS"
      },
      "source": [
        "### Which Interval Variables having strong correlation"
      ]
    },
    {
      "cell_type": "code",
      "execution_count": 23,
      "metadata": {
        "colab": {
          "base_uri": "https://localhost:8080/",
          "height": 554
        },
        "id": "5OUHwBKle1Ay",
        "outputId": "fb554e8c-20cf-442c-cb5d-3c014834bb4a"
      },
      "outputs": [
        {
          "output_type": "display_data",
          "data": {
            "text/plain": [
              "<Figure size 720x720 with 2 Axes>"
            ],
            "image/png": "[encoded data removed]"
          },
          "metadata": {
            "needs_background": "light"
          }
        }
      ],
      "source": [
        "#cmap = sns.diverging_palette(220, 10, as_cmap=True)\n",
        "'''fig, ax = plt.subplots(figsize=(10,10))\n",
        "sns.heatmap(df[interval_cols].corr(), cmap='YlGnBu', vmax=1.0, center=0, fmt='.2f',\n",
        "            square=True, linewidths=.5, annot=True, cbar_kws={\"shrink\": .80})\n",
        "plt.title(\"correlation of interval data types\")\n",
        "plt.show();'''\n",
        "corr_mat = df[interval_cols].corr() \n",
        "corr_mat_mask = np.array(corr_mat)\n",
        "corr_mat_mask[np.tril_indices_from(corr_mat)] = False \n",
        "fig, ax = plt.subplots(figsize=(10,10))\n",
        "sns.heatmap(corr_mat,mask=corr_mat_mask, cmap='YlGnBu', vmax=1.0, center=0, fmt='.2f',\n",
        "            square=True, linewidths=.5, annot=True, cbar_kws={\"shrink\": .80})\n",
        "plt.title(\"correlation of interval data types\")\n",
        "plt.show()\n"
      ]
    },
    {
      "cell_type": "code",
      "execution_count": 24,
      "metadata": {
        "id": "IDnshY1jmIsA"
      },
      "outputs": [],
      "source": [
        "df.drop(['ps_reg_03','ps_car_12'],axis=1,inplace=True)\n",
        "if 'ps_reg_03' in interval_cols:\n",
        "  interval_cols.remove('ps_reg_03')\n",
        "if 'ps_car_12' in interval_cols:\n",
        "  interval_cols.remove('ps_car_12')"
      ]
    },
    {
      "cell_type": "markdown",
      "metadata": {
        "id": "YzipmTMtgg_h"
      },
      "source": [
        "\n",
        "\n",
        "*   ps_reg_02 and ps_reg_03 are more correlated and slightly with ps_reg_01.Hence dropped ps_reg_03\n",
        "*   ps_car_12 ,pas_car_13 are highly correlated to each other and slightly with ps_car_15, ps_car_14.Hence dropped ps_car_12\n",
        "*   Rest has no good correlation\n",
        "*   Since ps_reg_02 and ps_reg_03 are highly correlated and both are having outliers and ps_reg_03 has 1lakh missing values.\n",
        "let's drop ps_reg_03 column\n",
        "*   Since ps_car_12,ps_car_13,ps_car_14,ps_car_15 are not highly correlated and though they are having outliers the outliers percentage is very less(2 to 4.5).So we are not dropping any column\n"
      ]
    },
    {
      "cell_type": "markdown",
      "metadata": {
        "id": "CsLG5D7pgjKD"
      },
      "source": [
        "###  Level Of Correlation among ordinal features\n"
      ]
    },
    {
      "cell_type": "code",
      "execution_count": 25,
      "metadata": {
        "colab": {
          "base_uri": "https://localhost:8080/",
          "height": 555
        },
        "id": "YYDF0ELfERlq",
        "outputId": "3b94edc8-da96-4645-ed11-aa4a7c4fcfd8"
      },
      "outputs": [
        {
          "output_type": "display_data",
          "data": {
            "text/plain": [
              "<Figure size 720x720 with 2 Axes>"
            ],
            "image/png": "[encoded data removed]"
          },
          "metadata": {
            "needs_background": "light"
          }
        }
      ],
      "source": [
        "'''fig, ax = plt.subplots(figsize=(10,10))\n",
        "sns.heatmap(df[ordinal_cols].corr(),cmap='RdYlGn',square=True,annot=True,fmt='.2f',cbar_kws={\"shrink\": .60})\n",
        "plt.title(\"correlation of interval data types\")\n",
        "plt.show();'''\n",
        "corr_mat = df[ordinal_cols].corr() \n",
        "corr_mat_mask = np.array(corr_mat)\n",
        "corr_mat_mask[np.tril_indices_from(corr_mat)] = False \n",
        "fig, ax = plt.subplots(figsize=(10,10))\n",
        "sns.heatmap(corr_mat,mask=corr_mat_mask, cmap='RdYlGn', square=True,annot=True,fmt='.2f',cbar_kws={\"shrink\": .60})\n",
        "plt.title(\"correlation of interval data types\")\n",
        "plt.show()"
      ]
    },
    {
      "cell_type": "markdown",
      "metadata": {
        "id": "TlY1OkvCh3PX"
      },
      "source": [
        "*   ps_ind_01 and ps_ind_03 has small correlation\n",
        "*   Rest has no good correlation"
      ]
    },
    {
      "cell_type": "markdown",
      "metadata": {
        "id": "QVD3mW5pcjfN"
      },
      "source": [
        "### Checking target data is proportionate or not?"
      ]
    },
    {
      "cell_type": "code",
      "execution_count": 26,
      "metadata": {
        "colab": {
          "base_uri": "https://localhost:8080/"
        },
        "id": "RwJVnCHGawVx",
        "outputId": "032a1763-5f13-4cb8-f5ad-3bc56364df24"
      },
      "outputs": [
        {
          "output_type": "execute_result",
          "data": {
            "text/plain": [
              "96.3552482140817"
            ]
          },
          "metadata": {},
          "execution_count": 26
        }
      ],
      "source": [
        "df['target'].value_counts()[0]/(df['target'].value_counts()[0]+df['target'].value_counts()[1]) *100"
      ]
    },
    {
      "cell_type": "markdown",
      "metadata": {
        "id": "rvaHvsGlctMO"
      },
      "source": [
        "\n",
        "*   96% of target data is of one class and only 4% data is of another class\n",
        "*   In binary data One class is below than 30%\n",
        "*   So the target data is not proportionate \n"
      ]
    },
    {
      "cell_type": "markdown",
      "metadata": {
        "id": "VEyl5miKenLy"
      },
      "source": [
        "###  Prefered way to balance the data is achieve balance of 12% using Undersampling or OverSampling."
      ]
    },
    {
      "cell_type": "markdown",
      "metadata": {
        "id": "rbV3k6dtnHGd"
      },
      "source": [
        "#### As there are less than millions of records in our data let's go with oversampling and also check undersampling\n"
      ]
    },
    {
      "cell_type": "code",
      "execution_count": 27,
      "metadata": {
        "id": "u1J4wydbNZbp"
      },
      "outputs": [],
      "source": [
        "#!pip install imblearn\n",
        "from imblearn.over_sampling import SMOTE\n",
        "smote_obj=SMOTE(random_state=23)\n",
        "x_b=df.drop(['target'],axis=1)\n",
        "y_b=df['target']\n",
        "x_resampled,y_resampled = smote_obj.fit_resample(x_b,y_b)"
      ]
    },
    {
      "cell_type": "code",
      "execution_count": 28,
      "metadata": {
        "colab": {
          "base_uri": "https://localhost:8080/"
        },
        "id": "QfdePYaNRVst",
        "outputId": "03c7c6e2-17ec-4283-e59f-2afc7ace3796"
      },
      "outputs": [
        {
          "output_type": "execute_result",
          "data": {
            "text/plain": [
              "0    573518\n",
              "1    573518\n",
              "Name: target, dtype: int64"
            ]
          },
          "metadata": {},
          "execution_count": 28
        }
      ],
      "source": [
        "y_resampled.value_counts()"
      ]
    },
    {
      "cell_type": "code",
      "execution_count": 29,
      "metadata": {
        "colab": {
          "base_uri": "https://localhost:8080/",
          "height": 309
        },
        "id": "CwI69W52q4aA",
        "outputId": "ffa0632c-b630-4137-88ac-fac9b3d1e16d"
      },
      "outputs": [
        {
          "output_type": "execute_result",
          "data": {
            "text/plain": [
              "<matplotlib.axes._subplots.AxesSubplot at 0x7f4df1a1e3a0>"
            ]
          },
          "metadata": {},
          "execution_count": 29
        },
        {
          "output_type": "display_data",
          "data": {
            "text/plain": [
              "<Figure size 432x288 with 1 Axes>"
            ],
            "image/png": "[encoded data removed]"
          },
          "metadata": {
            "needs_background": "light"
          }
        }
      ],
      "source": [
        "pd.Series(y_resampled).value_counts().plot(kind='bar', title='Class distribution after appying SMOTE', xlabel='buy')"
      ]
    },
    {
      "cell_type": "code",
      "execution_count": 30,
      "metadata": {
        "colab": {
          "base_uri": "https://localhost:8080/",
          "height": 326
        },
        "id": "gtSJkS4Qee-J",
        "outputId": "244d696d-36eb-4134-dcb4-b89ef15f8ef2"
      },
      "outputs": [
        {
          "output_type": "execute_result",
          "data": {
            "text/plain": [
              "<matplotlib.axes._subplots.AxesSubplot at 0x7f4df6f23b80>"
            ]
          },
          "metadata": {},
          "execution_count": 30
        },
        {
          "output_type": "display_data",
          "data": {
            "text/plain": [
              "<Figure size 432x288 with 1 Axes>"
            ],
            "image/png": "[encoded data removed]"
          },
          "metadata": {
            "needs_background": "light"
          }
        }
      ],
      "source": [
        "x_resampled[interval_cols].boxplot(rot=90)"
      ]
    },
    {
      "cell_type": "markdown",
      "metadata": {
        "id": "-VmYG6N2qqXC"
      },
      "source": [
        "### Undersampling achieving balance of 12%"
      ]
    },
    {
      "cell_type": "code",
      "execution_count": 31,
      "metadata": {
        "colab": {
          "base_uri": "https://localhost:8080/"
        },
        "id": "y4zhOqDUcsBq",
        "outputId": "228a20d5-8015-4326-d122-f126b56e2449"
      },
      "outputs": [
        {
          "output_type": "stream",
          "name": "stdout",
          "text": [
            "0.28 159089 21694 573518\n"
          ]
        },
        {
          "output_type": "execute_result",
          "data": {
            "text/plain": [
              "0    159089\n",
              "1     21694\n",
              "Name: target, dtype: int64"
            ]
          },
          "metadata": {},
          "execution_count": 31
        }
      ],
      "source": [
        "def UnderSamplingRate(desired_balance,no_of_ones,no_of_zeros):\n",
        "  return (1-desired_balance)*no_of_ones/(no_of_zeros*desired_balance)\n",
        "desired_balance=0.12\n",
        "no_of_ones=df[df['target']==1].shape[0]\n",
        "no_of_zeros=df[df['target']==0].shape[0]\n",
        "under_sampling_rate=UnderSamplingRate(desired_balance,no_of_ones,no_of_zeros)\n",
        "target_zero_records=round(under_sampling_rate*no_of_zeros)\n",
        "print(round(under_sampling_rate,2),target_zero_records,no_of_ones,no_of_zeros)\n",
        "\n",
        "zero_indexes = df[df.target == 0].index\n",
        "one_indexes = df[df.target == 1].index\n",
        "from sklearn.utils import shuffle\n",
        "undersampled_indexes = shuffle(zero_indexes,random_state=42,n_samples=target_zero_records)\n",
        "final_indexes=list(one_indexes)+list(undersampled_indexes)\n",
        "df_train=df.loc[final_indexes].reset_index(drop=True)\n",
        "df_train['target'].value_counts()"
      ]
    },
    {
      "cell_type": "markdown",
      "metadata": {
        "id": "lUcGVcE2lN9h"
      },
      "source": [
        "* Dropped Id column\n",
        "* After OverSampling there is balanced dataset \n",
        "* After undersampling Now we have 159089 zeros and 21694 ones and achieved a balance of 12%"
      ]
    },
    {
      "cell_type": "markdown",
      "metadata": {
        "id": "uwqpmLeAoXG0"
      },
      "source": [
        "### Training Records after Oversampling and Undersampling achieving balance of 12%"
      ]
    },
    {
      "cell_type": "code",
      "execution_count": 32,
      "metadata": {
        "colab": {
          "base_uri": "https://localhost:8080/"
        },
        "id": "M9VeiXuuoOYS",
        "outputId": "391531a1-ac6f-4b0e-b603-01bea3d7325e"
      },
      "outputs": [
        {
          "output_type": "stream",
          "name": "stdout",
          "text": [
            "Records After OverSampling: 1147036\n",
            "Records After UnderSampling: 180783\n"
          ]
        }
      ],
      "source": [
        "print(f\"Records After OverSampling: {x_resampled.shape[0]}\")\n",
        "#UnderSampling\n",
        "print(f\"Records After UnderSampling: { target_zero_records + no_of_ones}\") #159089+21694 "
      ]
    },
    {
      "cell_type": "markdown",
      "metadata": {
        "id": "DzOX-QtNof7T"
      },
      "source": [
        "*  Records After OverSampling: 1147036\n",
        "*  Records After UnderSampling: 180783"
      ]
    },
    {
      "cell_type": "markdown",
      "metadata": {
        "id": "GUnnsBARPwsz"
      },
      "source": [
        "###  HotEncoding For Categorical Features"
      ]
    },
    {
      "cell_type": "markdown",
      "metadata": {
        "id": "i0WTxT2TERlt"
      },
      "source": [
        "#### One Hot Vector representation for categorical data before Resampling "
      ]
    },
    {
      "cell_type": "code",
      "execution_count": 33,
      "metadata": {
        "id": "0VYgiXluERlt"
      },
      "outputs": [],
      "source": [
        "x_resampled_encoding=pd.get_dummies(x_resampled,columns=cat_cols)\n",
        "df=pd.get_dummies(df,columns=cat_cols)"
      ]
    },
    {
      "cell_type": "markdown",
      "metadata": {
        "id": "PBPSJLlZuDnt"
      },
      "source": [
        "### Final Data for modeling"
      ]
    },
    {
      "cell_type": "markdown",
      "metadata": {
        "id": "8Zxu_sHsERlt"
      },
      "source": [
        "#### Initial data without Resampling and with Encoding"
      ]
    },
    {
      "cell_type": "code",
      "execution_count": 34,
      "metadata": {
        "colab": {
          "base_uri": "https://localhost:8080/",
          "height": 488
        },
        "id": "J5lmV4oeERlt",
        "outputId": "76075814-3ba3-4ecc-8d09-bb6594c2b137"
      },
      "outputs": [
        {
          "output_type": "execute_result",
          "data": {
            "text/plain": [
              "        target  ps_ind_01  ps_ind_03  ps_ind_06_bin  ps_ind_07_bin  \\\n",
              "0            0          2          5              0              1   \n",
              "1            0          1          7              0              0   \n",
              "2            0          5          9              0              0   \n",
              "3            0          0          2              1              0   \n",
              "4            0          0          0              1              0   \n",
              "...        ...        ...        ...            ...            ...   \n",
              "595207       0          3         10              0              0   \n",
              "595208       0          5          3              0              0   \n",
              "595209       0          1         10              1              0   \n",
              "595210       0          5          3              0              0   \n",
              "595211       0          0          8              1              0   \n",
              "\n",
              "        ps_ind_08_bin  ps_ind_09_bin  ps_ind_10_bin  ps_ind_11_bin  \\\n",
              "0                   0              0              0              0   \n",
              "1                   1              0              0              0   \n",
              "2                   1              0              0              0   \n",
              "3                   0              0              0              0   \n",
              "4                   0              0              0              0   \n",
              "...               ...            ...            ...            ...   \n",
              "595207              0              1              0              0   \n",
              "595208              0              1              0              0   \n",
              "595209              0              0              0              0   \n",
              "595210              1              0              0              0   \n",
              "595211              0              0              0              0   \n",
              "\n",
              "        ps_ind_12_bin  ...  ps_car_11_cat_95  ps_car_11_cat_96  \\\n",
              "0                   0  ...                 0                 0   \n",
              "1                   0  ...                 0                 0   \n",
              "2                   0  ...                 0                 0   \n",
              "3                   0  ...                 0                 0   \n",
              "4                   0  ...                 0                 0   \n",
              "...               ...  ...               ...               ...   \n",
              "595207              0  ...                 0                 0   \n",
              "595208              0  ...                 0                 0   \n",
              "595209              0  ...                 0                 0   \n",
              "595210              0  ...                 0                 0   \n",
              "595211              0  ...                 0                 0   \n",
              "\n",
              "        ps_car_11_cat_97  ps_car_11_cat_98  ps_car_11_cat_99  \\\n",
              "0                      0                 0                 0   \n",
              "1                      0                 0                 0   \n",
              "2                      0                 0                 0   \n",
              "3                      0                 0                 0   \n",
              "4                      0                 0                 0   \n",
              "...                  ...               ...               ...   \n",
              "595207                 0                 0                 0   \n",
              "595208                 0                 0                 0   \n",
              "595209                 0                 0                 0   \n",
              "595210                 0                 0                 0   \n",
              "595211                 0                 0                 0   \n",
              "\n",
              "        ps_car_11_cat_100  ps_car_11_cat_101  ps_car_11_cat_102  \\\n",
              "0                       0                  0                  0   \n",
              "1                       0                  0                  0   \n",
              "2                       0                  0                  0   \n",
              "3                       0                  0                  0   \n",
              "4                       0                  0                  0   \n",
              "...                   ...                ...                ...   \n",
              "595207                  0                  0                  0   \n",
              "595208                  0                  0                  0   \n",
              "595209                  0                  0                  0   \n",
              "595210                  0                  1                  0   \n",
              "595211                  0                  0                  0   \n",
              "\n",
              "        ps_car_11_cat_103  ps_car_11_cat_104  \n",
              "0                       0                  0  \n",
              "1                       0                  0  \n",
              "2                       0                  0  \n",
              "3                       0                  1  \n",
              "4                       0                  0  \n",
              "...                   ...                ...  \n",
              "595207                  0                  0  \n",
              "595208                  0                  0  \n",
              "595209                  0                  0  \n",
              "595210                  0                  0  \n",
              "595211                  0                  0  \n",
              "\n",
              "[595212 rows x 213 columns]"
            ],
            "text/html": [
              "\n",
              "  <div id=\"df-96c577fe-1455-4bd3-bd00-84c1787b0434\">\n",
              "    <div class=\"colab-df-container\">\n",
              "      <div>\n",
              "<style scoped>\n",
              "    .dataframe tbody tr th:only-of-type {\n",
              "        vertical-align: middle;\n",
              "    }\n",
              "\n",
              "    .dataframe tbody tr th {\n",
              "        vertical-align: top;\n",
              "    }\n",
              "\n",
              "    .dataframe thead th {\n",
              "        text-align: right;\n",
              "    }\n",
              "</style>\n",
              "<table border=\"1\" class=\"dataframe\">\n",
              "  <thead>\n",
              "    <tr style=\"text-align: right;\">\n",
              "      <th></th>\n",
              "      <th>target</th>\n",
              "      <th>ps_ind_01</th>\n",
              "      <th>ps_ind_03</th>\n",
              "      <th>ps_ind_06_bin</th>\n",
              "      <th>ps_ind_07_bin</th>\n",
              "      <th>ps_ind_08_bin</th>\n",
              "      <th>ps_ind_09_bin</th>\n",
              "      <th>ps_ind_10_bin</th>\n",
              "      <th>ps_ind_11_bin</th>\n",
              "      <th>ps_ind_12_bin</th>\n",
              "      <th>...</th>\n",
              "      <th>ps_car_11_cat_95</th>\n",
              "      <th>ps_car_11_cat_96</th>\n",
              "      <th>ps_car_11_cat_97</th>\n",
              "      <th>ps_car_11_cat_98</th>\n",
              "      <th>ps_car_11_cat_99</th>\n",
              "      <th>ps_car_11_cat_100</th>\n",
              "      <th>ps_car_11_cat_101</th>\n",
              "      <th>ps_car_11_cat_102</th>\n",
              "      <th>ps_car_11_cat_103</th>\n",
              "      <th>ps_car_11_cat_104</th>\n",
              "    </tr>\n",
              "  </thead>\n",
              "  <tbody>\n",
              "    <tr>\n",
              "      <th>0</th>\n",
              "      <td>0</td>\n",
              "      <td>2</td>\n",
              "      <td>5</td>\n",
              "      <td>0</td>\n",
              "      <td>1</td>\n",
              "      <td>0</td>\n",
              "      <td>0</td>\n",
              "      <td>0</td>\n",
              "      <td>0</td>\n",
              "      <td>0</td>\n",
              "      <td>...</td>\n",
              "      <td>0</td>\n",
              "      <td>0</td>\n",
              "      <td>0</td>\n",
              "      <td>0</td>\n",
              "      <td>0</td>\n",
              "      <td>0</td>\n",
              "      <td>0</td>\n",
              "      <td>0</td>\n",
              "      <td>0</td>\n",
              "      <td>0</td>\n",
              "    </tr>\n",
              "    <tr>\n",
              "      <th>1</th>\n",
              "      <td>0</td>\n",
              "      <td>1</td>\n",
              "      <td>7</td>\n",
              "      <td>0</td>\n",
              "      <td>0</td>\n",
              "      <td>1</td>\n",
              "      <td>0</td>\n",
              "      <td>0</td>\n",
              "      <td>0</td>\n",
              "      <td>0</td>\n",
              "      <td>...</td>\n",
              "      <td>0</td>\n",
              "      <td>0</td>\n",
              "      <td>0</td>\n",
              "      <td>0</td>\n",
              "      <td>0</td>\n",
              "      <td>0</td>\n",
              "      <td>0</td>\n",
              "      <td>0</td>\n",
              "      <td>0</td>\n",
              "      <td>0</td>\n",
              "    </tr>\n",
              "    <tr>\n",
              "      <th>2</th>\n",
              "      <td>0</td>\n",
              "      <td>5</td>\n",
              "      <td>9</td>\n",
              "      <td>0</td>\n",
              "      <td>0</td>\n",
              "      <td>1</td>\n",
              "      <td>0</td>\n",
              "      <td>0</td>\n",
              "      <td>0</td>\n",
              "      <td>0</td>\n",
              "      <td>...</td>\n",
              "      <td>0</td>\n",
              "      <td>0</td>\n",
              "      <td>0</td>\n",
              "      <td>0</td>\n",
              "      <td>0</td>\n",
              "      <td>0</td>\n",
              "      <td>0</td>\n",
              "      <td>0</td>\n",
              "      <td>0</td>\n",
              "      <td>0</td>\n",
              "    </tr>\n",
              "    <tr>\n",
              "      <th>3</th>\n",
              "      <td>0</td>\n",
              "      <td>0</td>\n",
              "      <td>2</td>\n",
              "      <td>1</td>\n",
              "      <td>0</td>\n",
              "      <td>0</td>\n",
              "      <td>0</td>\n",
              "      <td>0</td>\n",
              "      <td>0</td>\n",
              "      <td>0</td>\n",
              "      <td>...</td>\n",
              "      <td>0</td>\n",
              "      <td>0</td>\n",
              "      <td>0</td>\n",
              "      <td>0</td>\n",
              "      <td>0</td>\n",
              "      <td>0</td>\n",
              "      <td>0</td>\n",
              "      <td>0</td>\n",
              "      <td>0</td>\n",
              "      <td>1</td>\n",
              "    </tr>\n",
              "    <tr>\n",
              "      <th>4</th>\n",
              "      <td>0</td>\n",
              "      <td>0</td>\n",
              "      <td>0</td>\n",
              "      <td>1</td>\n",
              "      <td>0</td>\n",
              "      <td>0</td>\n",
              "      <td>0</td>\n",
              "      <td>0</td>\n",
              "      <td>0</td>\n",
              "      <td>0</td>\n",
              "      <td>...</td>\n",
              "      <td>0</td>\n",
              "      <td>0</td>\n",
              "      <td>0</td>\n",
              "      <td>0</td>\n",
              "      <td>0</td>\n",
              "      <td>0</td>\n",
              "      <td>0</td>\n",
              "      <td>0</td>\n",
              "      <td>0</td>\n",
              "      <td>0</td>\n",
              "    </tr>\n",
              "    <tr>\n",
              "      <th>...</th>\n",
              "      <td>...</td>\n",
              "      <td>...</td>\n",
              "      <td>...</td>\n",
              "      <td>...</td>\n",
              "      <td>...</td>\n",
              "      <td>...</td>\n",
              "      <td>...</td>\n",
              "      <td>...</td>\n",
              "      <td>...</td>\n",
              "      <td>...</td>\n",
              "      <td>...</td>\n",
              "      <td>...</td>\n",
              "      <td>...</td>\n",
              "      <td>...</td>\n",
              "      <td>...</td>\n",
              "      <td>...</td>\n",
              "      <td>...</td>\n",
              "      <td>...</td>\n",
              "      <td>...</td>\n",
              "      <td>...</td>\n",
              "      <td>...</td>\n",
              "    </tr>\n",
              "    <tr>\n",
              "      <th>595207</th>\n",
              "      <td>0</td>\n",
              "      <td>3</td>\n",
              "      <td>10</td>\n",
              "      <td>0</td>\n",
              "      <td>0</td>\n",
              "      <td>0</td>\n",
              "      <td>1</td>\n",
              "      <td>0</td>\n",
              "      <td>0</td>\n",
              "      <td>0</td>\n",
              "      <td>...</td>\n",
              "      <td>0</td>\n",
              "      <td>0</td>\n",
              "      <td>0</td>\n",
              "      <td>0</td>\n",
              "      <td>0</td>\n",
              "      <td>0</td>\n",
              "      <td>0</td>\n",
              "      <td>0</td>\n",
              "      <td>0</td>\n",
              "      <td>0</td>\n",
              "    </tr>\n",
              "    <tr>\n",
              "      <th>595208</th>\n",
              "      <td>0</td>\n",
              "      <td>5</td>\n",
              "      <td>3</td>\n",
              "      <td>0</td>\n",
              "      <td>0</td>\n",
              "      <td>0</td>\n",
              "      <td>1</td>\n",
              "      <td>0</td>\n",
              "      <td>0</td>\n",
              "      <td>0</td>\n",
              "      <td>...</td>\n",
              "      <td>0</td>\n",
              "      <td>0</td>\n",
              "      <td>0</td>\n",
              "      <td>0</td>\n",
              "      <td>0</td>\n",
              "      <td>0</td>\n",
              "      <td>0</td>\n",
              "      <td>0</td>\n",
              "      <td>0</td>\n",
              "      <td>0</td>\n",
              "    </tr>\n",
              "    <tr>\n",
              "      <th>595209</th>\n",
              "      <td>0</td>\n",
              "      <td>1</td>\n",
              "      <td>10</td>\n",
              "      <td>1</td>\n",
              "      <td>0</td>\n",
              "      <td>0</td>\n",
              "      <td>0</td>\n",
              "      <td>0</td>\n",
              "      <td>0</td>\n",
              "      <td>0</td>\n",
              "      <td>...</td>\n",
              "      <td>0</td>\n",
              "      <td>0</td>\n",
              "      <td>0</td>\n",
              "      <td>0</td>\n",
              "      <td>0</td>\n",
              "      <td>0</td>\n",
              "      <td>0</td>\n",
              "      <td>0</td>\n",
              "      <td>0</td>\n",
              "      <td>0</td>\n",
              "    </tr>\n",
              "    <tr>\n",
              "      <th>595210</th>\n",
              "      <td>0</td>\n",
              "      <td>5</td>\n",
              "      <td>3</td>\n",
              "      <td>0</td>\n",
              "      <td>0</td>\n",
              "      <td>1</td>\n",
              "      <td>0</td>\n",
              "      <td>0</td>\n",
              "      <td>0</td>\n",
              "      <td>0</td>\n",
              "      <td>...</td>\n",
              "      <td>0</td>\n",
              "      <td>0</td>\n",
              "      <td>0</td>\n",
              "      <td>0</td>\n",
              "      <td>0</td>\n",
              "      <td>0</td>\n",
              "      <td>1</td>\n",
              "      <td>0</td>\n",
              "      <td>0</td>\n",
              "      <td>0</td>\n",
              "    </tr>\n",
              "    <tr>\n",
              "      <th>595211</th>\n",
              "      <td>0</td>\n",
              "      <td>0</td>\n",
              "      <td>8</td>\n",
              "      <td>1</td>\n",
              "      <td>0</td>\n",
              "      <td>0</td>\n",
              "      <td>0</td>\n",
              "      <td>0</td>\n",
              "      <td>0</td>\n",
              "      <td>0</td>\n",
              "      <td>...</td>\n",
              "      <td>0</td>\n",
              "      <td>0</td>\n",
              "      <td>0</td>\n",
              "      <td>0</td>\n",
              "      <td>0</td>\n",
              "      <td>0</td>\n",
              "      <td>0</td>\n",
              "      <td>0</td>\n",
              "      <td>0</td>\n",
              "      <td>0</td>\n",
              "    </tr>\n",
              "  </tbody>\n",
              "</table>\n",
              "<p>595212 rows × 213 columns</p>\n",
              "</div>\n",
              "      <button class=\"colab-df-convert\" onclick=\"convertToInteractive('df-96c577fe-1455-4bd3-bd00-84c1787b0434')\"\n",
              "              title=\"Convert this dataframe to an interactive table.\"\n",
              "              style=\"display:none;\">\n",
              "        \n",
              "  <svg xmlns=\"http://www.w3.org/2000/svg\" height=\"24px\"viewBox=\"0 0 24 24\"\n",
              "       width=\"24px\">\n",
              "    <path d=\"M0 0h24v24H0V0z\" fill=\"none\"/>\n",
              "    <path d=\"M18.56 5.44l.94 2.06.94-2.06 2.06-.94-2.06-.94-.94-2.06-.94 2.06-2.06.94zm-11 1L8.5 8.5l.94-2.06 2.06-.94-2.06-.94L8.5 2.5l-.94 2.06-2.06.94zm10 10l.94 2.06.94-2.06 2.06-.94-2.06-.94-.94-2.06-.94 2.06-2.06.94z\"/><path d=\"M17.41 7.96l-1.37-1.37c-.4-.4-.92-.59-1.43-.59-.52 0-1.04.2-1.43.59L10.3 9.45l-7.72 7.72c-.78.78-.78 2.05 0 2.83L4 21.41c.39.39.9.59 1.41.59.51 0 1.02-.2 1.41-.59l7.78-7.78 2.81-2.81c.8-.78.8-2.07 0-2.86zM5.41 20L4 18.59l7.72-7.72 1.47 1.35L5.41 20z\"/>\n",
              "  </svg>\n",
              "      </button>\n",
              "      \n",
              "  <style>\n",
              "    .colab-df-container {\n",
              "      display:flex;\n",
              "      flex-wrap:wrap;\n",
              "      gap: 12px;\n",
              "    }\n",
              "\n",
              "    .colab-df-convert {\n",
              "      background-color: #E8F0FE;\n",
              "      border: none;\n",
              "      border-radius: 50%;\n",
              "      cursor: pointer;\n",
              "      display: none;\n",
              "      fill: #1967D2;\n",
              "      height: 32px;\n",
              "      padding: 0 0 0 0;\n",
              "      width: 32px;\n",
              "    }\n",
              "\n",
              "    .colab-df-convert:hover {\n",
              "      background-color: #E2EBFA;\n",
              "      box-shadow: 0px 1px 2px rgba(60, 64, 67, 0.3), 0px 1px 3px 1px rgba(60, 64, 67, 0.15);\n",
              "      fill: #174EA6;\n",
              "    }\n",
              "\n",
              "    [theme=dark] .colab-df-convert {\n",
              "      background-color: #3B4455;\n",
              "      fill: #D2E3FC;\n",
              "    }\n",
              "\n",
              "    [theme=dark] .colab-df-convert:hover {\n",
              "      background-color: #434B5C;\n",
              "      box-shadow: 0px 1px 3px 1px rgba(0, 0, 0, 0.15);\n",
              "      filter: drop-shadow(0px 1px 2px rgba(0, 0, 0, 0.3));\n",
              "      fill: #FFFFFF;\n",
              "    }\n",
              "  </style>\n",
              "\n",
              "      <script>\n",
              "        const buttonEl =\n",
              "          document.querySelector('#df-96c577fe-1455-4bd3-bd00-84c1787b0434 button.colab-df-convert');\n",
              "        buttonEl.style.display =\n",
              "          google.colab.kernel.accessAllowed ? 'block' : 'none';\n",
              "\n",
              "        async function convertToInteractive(key) {\n",
              "          const element = document.querySelector('#df-96c577fe-1455-4bd3-bd00-84c1787b0434');\n",
              "          const dataTable =\n",
              "            await google.colab.kernel.invokeFunction('convertToInteractive',\n",
              "                                                     [key], {});\n",
              "          if (!dataTable) return;\n",
              "\n",
              "          const docLinkHtml = 'Like what you see? Visit the ' +\n",
              "            '<a target=\"_blank\" href=https://colab.research.google.com/notebooks/data_table.ipynb>data table notebook</a>'\n",
              "            + ' to learn more about interactive tables.';\n",
              "          element.innerHTML = '';\n",
              "          dataTable['output_type'] = 'display_data';\n",
              "          await google.colab.output.renderOutput(dataTable, element);\n",
              "          const docLink = document.createElement('div');\n",
              "          docLink.innerHTML = docLinkHtml;\n",
              "          element.appendChild(docLink);\n",
              "        }\n",
              "      </script>\n",
              "    </div>\n",
              "  </div>\n",
              "  "
            ]
          },
          "metadata": {},
          "execution_count": 34
        }
      ],
      "source": [
        "df"
      ]
    },
    {
      "cell_type": "markdown",
      "metadata": {
        "id": "wJQlNQB-ERlu"
      },
      "source": [
        "#### Data with Resampling and without Encoding"
      ]
    },
    {
      "cell_type": "code",
      "execution_count": 35,
      "metadata": {
        "colab": {
          "base_uri": "https://localhost:8080/",
          "height": 488
        },
        "id": "Ko2aZ2qVERlu",
        "outputId": "977be3c3-e113-40b5-ab0d-a70a684420e8"
      },
      "outputs": [
        {
          "output_type": "execute_result",
          "data": {
            "text/plain": [
              "         ps_ind_01  ps_ind_02_cat  ps_ind_03  ps_ind_04_cat  ps_ind_05_cat  \\\n",
              "0                2              2          5              1              0   \n",
              "1                1              1          7              0              0   \n",
              "2                5              4          9              1              0   \n",
              "3                0              1          2              0              0   \n",
              "4                0              2          0              1              0   \n",
              "...            ...            ...        ...            ...            ...   \n",
              "1147031          0              1          3              0              0   \n",
              "1147032          2              1          2              0              0   \n",
              "1147033          1              2          2              0              0   \n",
              "1147034          1              1          2              1              0   \n",
              "1147035          0              1          6              0              0   \n",
              "\n",
              "         ps_ind_06_bin  ps_ind_07_bin  ps_ind_08_bin  ps_ind_09_bin  \\\n",
              "0                    0              1              0              0   \n",
              "1                    0              0              1              0   \n",
              "2                    0              0              1              0   \n",
              "3                    1              0              0              0   \n",
              "4                    1              0              0              0   \n",
              "...                ...            ...            ...            ...   \n",
              "1147031              0              0              0              1   \n",
              "1147032              0              0              1              0   \n",
              "1147033              0              0              0              0   \n",
              "1147034              1              0              0              0   \n",
              "1147035              1              0              0              0   \n",
              "\n",
              "         ps_ind_10_bin  ...  ps_calc_11  ps_calc_12  ps_calc_13  ps_calc_14  \\\n",
              "0                    0  ...           9           1           5           8   \n",
              "1                    0  ...           3           1           1           9   \n",
              "2                    0  ...           4           2           7           7   \n",
              "3                    0  ...           2           2           4           9   \n",
              "4                    0  ...           3           1           1           3   \n",
              "...                ...  ...         ...         ...         ...         ...   \n",
              "1147031              0  ...           4           0           1          11   \n",
              "1147032              0  ...           7           0           3           7   \n",
              "1147033              0  ...           2           1           4          10   \n",
              "1147034              0  ...           3           2           2           6   \n",
              "1147035              0  ...           7           1           1           9   \n",
              "\n",
              "         ps_calc_15_bin  ps_calc_16_bin  ps_calc_17_bin  ps_calc_18_bin  \\\n",
              "0                     0               1               1               0   \n",
              "1                     0               1               1               0   \n",
              "2                     0               1               1               0   \n",
              "3                     0               0               0               0   \n",
              "4                     0               0               0               1   \n",
              "...                 ...             ...             ...             ...   \n",
              "1147031               0               0               0               0   \n",
              "1147032               0               1               0               0   \n",
              "1147033               0               1               0               0   \n",
              "1147034               0               1               0               0   \n",
              "1147035               0               1               0               0   \n",
              "\n",
              "         ps_calc_19_bin  ps_calc_20_bin  \n",
              "0                     0               1  \n",
              "1                     1               0  \n",
              "2                     1               0  \n",
              "3                     0               0  \n",
              "4                     1               0  \n",
              "...                 ...             ...  \n",
              "1147031               0               0  \n",
              "1147032               0               0  \n",
              "1147033               0               0  \n",
              "1147034               0               0  \n",
              "1147035               0               0  \n",
              "\n",
              "[1147036 rows x 53 columns]"
            ],
            "text/html": [
              "\n",
              "  <div id=\"df-98d0e525-97b0-45d4-bf14-2467f7a0ccb6\">\n",
              "    <div class=\"colab-df-container\">\n",
              "      <div>\n",
              "<style scoped>\n",
              "    .dataframe tbody tr th:only-of-type {\n",
              "        vertical-align: middle;\n",
              "    }\n",
              "\n",
              "    .dataframe tbody tr th {\n",
              "        vertical-align: top;\n",
              "    }\n",
              "\n",
              "    .dataframe thead th {\n",
              "        text-align: right;\n",
              "    }\n",
              "</style>\n",
              "<table border=\"1\" class=\"dataframe\">\n",
              "  <thead>\n",
              "    <tr style=\"text-align: right;\">\n",
              "      <th></th>\n",
              "      <th>ps_ind_01</th>\n",
              "      <th>ps_ind_02_cat</th>\n",
              "      <th>ps_ind_03</th>\n",
              "      <th>ps_ind_04_cat</th>\n",
              "      <th>ps_ind_05_cat</th>\n",
              "      <th>ps_ind_06_bin</th>\n",
              "      <th>ps_ind_07_bin</th>\n",
              "      <th>ps_ind_08_bin</th>\n",
              "      <th>ps_ind_09_bin</th>\n",
              "      <th>ps_ind_10_bin</th>\n",
              "      <th>...</th>\n",
              "      <th>ps_calc_11</th>\n",
              "      <th>ps_calc_12</th>\n",
              "      <th>ps_calc_13</th>\n",
              "      <th>ps_calc_14</th>\n",
              "      <th>ps_calc_15_bin</th>\n",
              "      <th>ps_calc_16_bin</th>\n",
              "      <th>ps_calc_17_bin</th>\n",
              "      <th>ps_calc_18_bin</th>\n",
              "      <th>ps_calc_19_bin</th>\n",
              "      <th>ps_calc_20_bin</th>\n",
              "    </tr>\n",
              "  </thead>\n",
              "  <tbody>\n",
              "    <tr>\n",
              "      <th>0</th>\n",
              "      <td>2</td>\n",
              "      <td>2</td>\n",
              "      <td>5</td>\n",
              "      <td>1</td>\n",
              "      <td>0</td>\n",
              "      <td>0</td>\n",
              "      <td>1</td>\n",
              "      <td>0</td>\n",
              "      <td>0</td>\n",
              "      <td>0</td>\n",
              "      <td>...</td>\n",
              "      <td>9</td>\n",
              "      <td>1</td>\n",
              "      <td>5</td>\n",
              "      <td>8</td>\n",
              "      <td>0</td>\n",
              "      <td>1</td>\n",
              "      <td>1</td>\n",
              "      <td>0</td>\n",
              "      <td>0</td>\n",
              "      <td>1</td>\n",
              "    </tr>\n",
              "    <tr>\n",
              "      <th>1</th>\n",
              "      <td>1</td>\n",
              "      <td>1</td>\n",
              "      <td>7</td>\n",
              "      <td>0</td>\n",
              "      <td>0</td>\n",
              "      <td>0</td>\n",
              "      <td>0</td>\n",
              "      <td>1</td>\n",
              "      <td>0</td>\n",
              "      <td>0</td>\n",
              "      <td>...</td>\n",
              "      <td>3</td>\n",
              "      <td>1</td>\n",
              "      <td>1</td>\n",
              "      <td>9</td>\n",
              "      <td>0</td>\n",
              "      <td>1</td>\n",
              "      <td>1</td>\n",
              "      <td>0</td>\n",
              "      <td>1</td>\n",
              "      <td>0</td>\n",
              "    </tr>\n",
              "    <tr>\n",
              "      <th>2</th>\n",
              "      <td>5</td>\n",
              "      <td>4</td>\n",
              "      <td>9</td>\n",
              "      <td>1</td>\n",
              "      <td>0</td>\n",
              "      <td>0</td>\n",
              "      <td>0</td>\n",
              "      <td>1</td>\n",
              "      <td>0</td>\n",
              "      <td>0</td>\n",
              "      <td>...</td>\n",
              "      <td>4</td>\n",
              "      <td>2</td>\n",
              "      <td>7</td>\n",
              "      <td>7</td>\n",
              "      <td>0</td>\n",
              "      <td>1</td>\n",
              "      <td>1</td>\n",
              "      <td>0</td>\n",
              "      <td>1</td>\n",
              "      <td>0</td>\n",
              "    </tr>\n",
              "    <tr>\n",
              "      <th>3</th>\n",
              "      <td>0</td>\n",
              "      <td>1</td>\n",
              "      <td>2</td>\n",
              "      <td>0</td>\n",
              "      <td>0</td>\n",
              "      <td>1</td>\n",
              "      <td>0</td>\n",
              "      <td>0</td>\n",
              "      <td>0</td>\n",
              "      <td>0</td>\n",
              "      <td>...</td>\n",
              "      <td>2</td>\n",
              "      <td>2</td>\n",
              "      <td>4</td>\n",
              "      <td>9</td>\n",
              "      <td>0</td>\n",
              "      <td>0</td>\n",
              "      <td>0</td>\n",
              "      <td>0</td>\n",
              "      <td>0</td>\n",
              "      <td>0</td>\n",
              "    </tr>\n",
              "    <tr>\n",
              "      <th>4</th>\n",
              "      <td>0</td>\n",
              "      <td>2</td>\n",
              "      <td>0</td>\n",
              "      <td>1</td>\n",
              "      <td>0</td>\n",
              "      <td>1</td>\n",
              "      <td>0</td>\n",
              "      <td>0</td>\n",
              "      <td>0</td>\n",
              "      <td>0</td>\n",
              "      <td>...</td>\n",
              "      <td>3</td>\n",
              "      <td>1</td>\n",
              "      <td>1</td>\n",
              "      <td>3</td>\n",
              "      <td>0</td>\n",
              "      <td>0</td>\n",
              "      <td>0</td>\n",
              "      <td>1</td>\n",
              "      <td>1</td>\n",
              "      <td>0</td>\n",
              "    </tr>\n",
              "    <tr>\n",
              "      <th>...</th>\n",
              "      <td>...</td>\n",
              "      <td>...</td>\n",
              "      <td>...</td>\n",
              "      <td>...</td>\n",
              "      <td>...</td>\n",
              "      <td>...</td>\n",
              "      <td>...</td>\n",
              "      <td>...</td>\n",
              "      <td>...</td>\n",
              "      <td>...</td>\n",
              "      <td>...</td>\n",
              "      <td>...</td>\n",
              "      <td>...</td>\n",
              "      <td>...</td>\n",
              "      <td>...</td>\n",
              "      <td>...</td>\n",
              "      <td>...</td>\n",
              "      <td>...</td>\n",
              "      <td>...</td>\n",
              "      <td>...</td>\n",
              "      <td>...</td>\n",
              "    </tr>\n",
              "    <tr>\n",
              "      <th>1147031</th>\n",
              "      <td>0</td>\n",
              "      <td>1</td>\n",
              "      <td>3</td>\n",
              "      <td>0</td>\n",
              "      <td>0</td>\n",
              "      <td>0</td>\n",
              "      <td>0</td>\n",
              "      <td>0</td>\n",
              "      <td>1</td>\n",
              "      <td>0</td>\n",
              "      <td>...</td>\n",
              "      <td>4</td>\n",
              "      <td>0</td>\n",
              "      <td>1</td>\n",
              "      <td>11</td>\n",
              "      <td>0</td>\n",
              "      <td>0</td>\n",
              "      <td>0</td>\n",
              "      <td>0</td>\n",
              "      <td>0</td>\n",
              "      <td>0</td>\n",
              "    </tr>\n",
              "    <tr>\n",
              "      <th>1147032</th>\n",
              "      <td>2</td>\n",
              "      <td>1</td>\n",
              "      <td>2</td>\n",
              "      <td>0</td>\n",
              "      <td>0</td>\n",
              "      <td>0</td>\n",
              "      <td>0</td>\n",
              "      <td>1</td>\n",
              "      <td>0</td>\n",
              "      <td>0</td>\n",
              "      <td>...</td>\n",
              "      <td>7</td>\n",
              "      <td>0</td>\n",
              "      <td>3</td>\n",
              "      <td>7</td>\n",
              "      <td>0</td>\n",
              "      <td>1</td>\n",
              "      <td>0</td>\n",
              "      <td>0</td>\n",
              "      <td>0</td>\n",
              "      <td>0</td>\n",
              "    </tr>\n",
              "    <tr>\n",
              "      <th>1147033</th>\n",
              "      <td>1</td>\n",
              "      <td>2</td>\n",
              "      <td>2</td>\n",
              "      <td>0</td>\n",
              "      <td>0</td>\n",
              "      <td>0</td>\n",
              "      <td>0</td>\n",
              "      <td>0</td>\n",
              "      <td>0</td>\n",
              "      <td>0</td>\n",
              "      <td>...</td>\n",
              "      <td>2</td>\n",
              "      <td>1</td>\n",
              "      <td>4</td>\n",
              "      <td>10</td>\n",
              "      <td>0</td>\n",
              "      <td>1</td>\n",
              "      <td>0</td>\n",
              "      <td>0</td>\n",
              "      <td>0</td>\n",
              "      <td>0</td>\n",
              "    </tr>\n",
              "    <tr>\n",
              "      <th>1147034</th>\n",
              "      <td>1</td>\n",
              "      <td>1</td>\n",
              "      <td>2</td>\n",
              "      <td>1</td>\n",
              "      <td>0</td>\n",
              "      <td>1</td>\n",
              "      <td>0</td>\n",
              "      <td>0</td>\n",
              "      <td>0</td>\n",
              "      <td>0</td>\n",
              "      <td>...</td>\n",
              "      <td>3</td>\n",
              "      <td>2</td>\n",
              "      <td>2</td>\n",
              "      <td>6</td>\n",
              "      <td>0</td>\n",
              "      <td>1</td>\n",
              "      <td>0</td>\n",
              "      <td>0</td>\n",
              "      <td>0</td>\n",
              "      <td>0</td>\n",
              "    </tr>\n",
              "    <tr>\n",
              "      <th>1147035</th>\n",
              "      <td>0</td>\n",
              "      <td>1</td>\n",
              "      <td>6</td>\n",
              "      <td>0</td>\n",
              "      <td>0</td>\n",
              "      <td>1</td>\n",
              "      <td>0</td>\n",
              "      <td>0</td>\n",
              "      <td>0</td>\n",
              "      <td>0</td>\n",
              "      <td>...</td>\n",
              "      <td>7</td>\n",
              "      <td>1</td>\n",
              "      <td>1</td>\n",
              "      <td>9</td>\n",
              "      <td>0</td>\n",
              "      <td>1</td>\n",
              "      <td>0</td>\n",
              "      <td>0</td>\n",
              "      <td>0</td>\n",
              "      <td>0</td>\n",
              "    </tr>\n",
              "  </tbody>\n",
              "</table>\n",
              "<p>1147036 rows × 53 columns</p>\n",
              "</div>\n",
              "      <button class=\"colab-df-convert\" onclick=\"convertToInteractive('df-98d0e525-97b0-45d4-bf14-2467f7a0ccb6')\"\n",
              "              title=\"Convert this dataframe to an interactive table.\"\n",
              "              style=\"display:none;\">\n",
              "        \n",
              "  <svg xmlns=\"http://www.w3.org/2000/svg\" height=\"24px\"viewBox=\"0 0 24 24\"\n",
              "       width=\"24px\">\n",
              "    <path d=\"M0 0h24v24H0V0z\" fill=\"none\"/>\n",
              "    <path d=\"M18.56 5.44l.94 2.06.94-2.06 2.06-.94-2.06-.94-.94-2.06-.94 2.06-2.06.94zm-11 1L8.5 8.5l.94-2.06 2.06-.94-2.06-.94L8.5 2.5l-.94 2.06-2.06.94zm10 10l.94 2.06.94-2.06 2.06-.94-2.06-.94-.94-2.06-.94 2.06-2.06.94z\"/><path d=\"M17.41 7.96l-1.37-1.37c-.4-.4-.92-.59-1.43-.59-.52 0-1.04.2-1.43.59L10.3 9.45l-7.72 7.72c-.78.78-.78 2.05 0 2.83L4 21.41c.39.39.9.59 1.41.59.51 0 1.02-.2 1.41-.59l7.78-7.78 2.81-2.81c.8-.78.8-2.07 0-2.86zM5.41 20L4 18.59l7.72-7.72 1.47 1.35L5.41 20z\"/>\n",
              "  </svg>\n",
              "      </button>\n",
              "      \n",
              "  <style>\n",
              "    .colab-df-container {\n",
              "      display:flex;\n",
              "      flex-wrap:wrap;\n",
              "      gap: 12px;\n",
              "    }\n",
              "\n",
              "    .colab-df-convert {\n",
              "      background-color: #E8F0FE;\n",
              "      border: none;\n",
              "      border-radius: 50%;\n",
              "      cursor: pointer;\n",
              "      display: none;\n",
              "      fill: #1967D2;\n",
              "      height: 32px;\n",
              "      padding: 0 0 0 0;\n",
              "      width: 32px;\n",
              "    }\n",
              "\n",
              "    .colab-df-convert:hover {\n",
              "      background-color: #E2EBFA;\n",
              "      box-shadow: 0px 1px 2px rgba(60, 64, 67, 0.3), 0px 1px 3px 1px rgba(60, 64, 67, 0.15);\n",
              "      fill: #174EA6;\n",
              "    }\n",
              "\n",
              "    [theme=dark] .colab-df-convert {\n",
              "      background-color: #3B4455;\n",
              "      fill: #D2E3FC;\n",
              "    }\n",
              "\n",
              "    [theme=dark] .colab-df-convert:hover {\n",
              "      background-color: #434B5C;\n",
              "      box-shadow: 0px 1px 3px 1px rgba(0, 0, 0, 0.15);\n",
              "      filter: drop-shadow(0px 1px 2px rgba(0, 0, 0, 0.3));\n",
              "      fill: #FFFFFF;\n",
              "    }\n",
              "  </style>\n",
              "\n",
              "      <script>\n",
              "        const buttonEl =\n",
              "          document.querySelector('#df-98d0e525-97b0-45d4-bf14-2467f7a0ccb6 button.colab-df-convert');\n",
              "        buttonEl.style.display =\n",
              "          google.colab.kernel.accessAllowed ? 'block' : 'none';\n",
              "\n",
              "        async function convertToInteractive(key) {\n",
              "          const element = document.querySelector('#df-98d0e525-97b0-45d4-bf14-2467f7a0ccb6');\n",
              "          const dataTable =\n",
              "            await google.colab.kernel.invokeFunction('convertToInteractive',\n",
              "                                                     [key], {});\n",
              "          if (!dataTable) return;\n",
              "\n",
              "          const docLinkHtml = 'Like what you see? Visit the ' +\n",
              "            '<a target=\"_blank\" href=https://colab.research.google.com/notebooks/data_table.ipynb>data table notebook</a>'\n",
              "            + ' to learn more about interactive tables.';\n",
              "          element.innerHTML = '';\n",
              "          dataTable['output_type'] = 'display_data';\n",
              "          await google.colab.output.renderOutput(dataTable, element);\n",
              "          const docLink = document.createElement('div');\n",
              "          docLink.innerHTML = docLinkHtml;\n",
              "          element.appendChild(docLink);\n",
              "        }\n",
              "      </script>\n",
              "    </div>\n",
              "  </div>\n",
              "  "
            ]
          },
          "metadata": {},
          "execution_count": 35
        }
      ],
      "source": [
        "x_resampled"
      ]
    },
    {
      "cell_type": "markdown",
      "metadata": {
        "id": "b4lv1foaERlu"
      },
      "source": [
        "#### Data with Resampling and with Encoding"
      ]
    },
    {
      "cell_type": "code",
      "execution_count": 36,
      "metadata": {
        "colab": {
          "base_uri": "https://localhost:8080/",
          "height": 488
        },
        "id": "BQU49NL0ERlu",
        "outputId": "a311fc50-0c7d-45b9-cd10-c6361d85775f"
      },
      "outputs": [
        {
          "output_type": "execute_result",
          "data": {
            "text/plain": [
              "         ps_ind_01  ps_ind_03  ps_ind_06_bin  ps_ind_07_bin  ps_ind_08_bin  \\\n",
              "0                2          5              0              1              0   \n",
              "1                1          7              0              0              1   \n",
              "2                5          9              0              0              1   \n",
              "3                0          2              1              0              0   \n",
              "4                0          0              1              0              0   \n",
              "...            ...        ...            ...            ...            ...   \n",
              "1147031          0          3              0              0              0   \n",
              "1147032          2          2              0              0              1   \n",
              "1147033          1          2              0              0              0   \n",
              "1147034          1          2              1              0              0   \n",
              "1147035          0          6              1              0              0   \n",
              "\n",
              "         ps_ind_09_bin  ps_ind_10_bin  ps_ind_11_bin  ps_ind_12_bin  \\\n",
              "0                    0              0              0              0   \n",
              "1                    0              0              0              0   \n",
              "2                    0              0              0              0   \n",
              "3                    0              0              0              0   \n",
              "4                    0              0              0              0   \n",
              "...                ...            ...            ...            ...   \n",
              "1147031              1              0              0              0   \n",
              "1147032              0              0              0              0   \n",
              "1147033              0              0              0              0   \n",
              "1147034              0              0              0              0   \n",
              "1147035              0              0              0              0   \n",
              "\n",
              "         ps_ind_13_bin  ...  ps_car_11_cat_95  ps_car_11_cat_96  \\\n",
              "0                    0  ...                 0                 0   \n",
              "1                    0  ...                 0                 0   \n",
              "2                    0  ...                 0                 0   \n",
              "3                    0  ...                 0                 0   \n",
              "4                    0  ...                 0                 0   \n",
              "...                ...  ...               ...               ...   \n",
              "1147031              0  ...                 0                 0   \n",
              "1147032              0  ...                 0                 0   \n",
              "1147033              0  ...                 0                 0   \n",
              "1147034              0  ...                 0                 0   \n",
              "1147035              0  ...                 0                 0   \n",
              "\n",
              "         ps_car_11_cat_97  ps_car_11_cat_98  ps_car_11_cat_99  \\\n",
              "0                       0                 0                 0   \n",
              "1                       0                 0                 0   \n",
              "2                       0                 0                 0   \n",
              "3                       0                 0                 0   \n",
              "4                       0                 0                 0   \n",
              "...                   ...               ...               ...   \n",
              "1147031                 0                 0                 0   \n",
              "1147032                 0                 0                 0   \n",
              "1147033                 0                 0                 0   \n",
              "1147034                 0                 0                 0   \n",
              "1147035                 0                 0                 0   \n",
              "\n",
              "         ps_car_11_cat_100  ps_car_11_cat_101  ps_car_11_cat_102  \\\n",
              "0                        0                  0                  0   \n",
              "1                        0                  0                  0   \n",
              "2                        0                  0                  0   \n",
              "3                        0                  0                  0   \n",
              "4                        0                  0                  0   \n",
              "...                    ...                ...                ...   \n",
              "1147031                  0                  0                  0   \n",
              "1147032                  0                  0                  0   \n",
              "1147033                  0                  0                  0   \n",
              "1147034                  0                  0                  0   \n",
              "1147035                  0                  0                  0   \n",
              "\n",
              "         ps_car_11_cat_103  ps_car_11_cat_104  \n",
              "0                        0                  0  \n",
              "1                        0                  0  \n",
              "2                        0                  0  \n",
              "3                        0                  1  \n",
              "4                        0                  0  \n",
              "...                    ...                ...  \n",
              "1147031                  0                  0  \n",
              "1147032                  0                  0  \n",
              "1147033                  0                  0  \n",
              "1147034                  0                  0  \n",
              "1147035                  0                  0  \n",
              "\n",
              "[1147036 rows x 212 columns]"
            ],
            "text/html": [
              "\n",
              "  <div id=\"df-bce20528-5683-47c0-a00f-b9223b1052b3\">\n",
              "    <div class=\"colab-df-container\">\n",
              "      <div>\n",
              "<style scoped>\n",
              "    .dataframe tbody tr th:only-of-type {\n",
              "        vertical-align: middle;\n",
              "    }\n",
              "\n",
              "    .dataframe tbody tr th {\n",
              "        vertical-align: top;\n",
              "    }\n",
              "\n",
              "    .dataframe thead th {\n",
              "        text-align: right;\n",
              "    }\n",
              "</style>\n",
              "<table border=\"1\" class=\"dataframe\">\n",
              "  <thead>\n",
              "    <tr style=\"text-align: right;\">\n",
              "      <th></th>\n",
              "      <th>ps_ind_01</th>\n",
              "      <th>ps_ind_03</th>\n",
              "      <th>ps_ind_06_bin</th>\n",
              "      <th>ps_ind_07_bin</th>\n",
              "      <th>ps_ind_08_bin</th>\n",
              "      <th>ps_ind_09_bin</th>\n",
              "      <th>ps_ind_10_bin</th>\n",
              "      <th>ps_ind_11_bin</th>\n",
              "      <th>ps_ind_12_bin</th>\n",
              "      <th>ps_ind_13_bin</th>\n",
              "      <th>...</th>\n",
              "      <th>ps_car_11_cat_95</th>\n",
              "      <th>ps_car_11_cat_96</th>\n",
              "      <th>ps_car_11_cat_97</th>\n",
              "      <th>ps_car_11_cat_98</th>\n",
              "      <th>ps_car_11_cat_99</th>\n",
              "      <th>ps_car_11_cat_100</th>\n",
              "      <th>ps_car_11_cat_101</th>\n",
              "      <th>ps_car_11_cat_102</th>\n",
              "      <th>ps_car_11_cat_103</th>\n",
              "      <th>ps_car_11_cat_104</th>\n",
              "    </tr>\n",
              "  </thead>\n",
              "  <tbody>\n",
              "    <tr>\n",
              "      <th>0</th>\n",
              "      <td>2</td>\n",
              "      <td>5</td>\n",
              "      <td>0</td>\n",
              "      <td>1</td>\n",
              "      <td>0</td>\n",
              "      <td>0</td>\n",
              "      <td>0</td>\n",
              "      <td>0</td>\n",
              "      <td>0</td>\n",
              "      <td>0</td>\n",
              "      <td>...</td>\n",
              "      <td>0</td>\n",
              "      <td>0</td>\n",
              "      <td>0</td>\n",
              "      <td>0</td>\n",
              "      <td>0</td>\n",
              "      <td>0</td>\n",
              "      <td>0</td>\n",
              "      <td>0</td>\n",
              "      <td>0</td>\n",
              "      <td>0</td>\n",
              "    </tr>\n",
              "    <tr>\n",
              "      <th>1</th>\n",
              "      <td>1</td>\n",
              "      <td>7</td>\n",
              "      <td>0</td>\n",
              "      <td>0</td>\n",
              "      <td>1</td>\n",
              "      <td>0</td>\n",
              "      <td>0</td>\n",
              "      <td>0</td>\n",
              "      <td>0</td>\n",
              "      <td>0</td>\n",
              "      <td>...</td>\n",
              "      <td>0</td>\n",
              "      <td>0</td>\n",
              "      <td>0</td>\n",
              "      <td>0</td>\n",
              "      <td>0</td>\n",
              "      <td>0</td>\n",
              "      <td>0</td>\n",
              "      <td>0</td>\n",
              "      <td>0</td>\n",
              "      <td>0</td>\n",
              "    </tr>\n",
              "    <tr>\n",
              "      <th>2</th>\n",
              "      <td>5</td>\n",
              "      <td>9</td>\n",
              "      <td>0</td>\n",
              "      <td>0</td>\n",
              "      <td>1</td>\n",
              "      <td>0</td>\n",
              "      <td>0</td>\n",
              "      <td>0</td>\n",
              "      <td>0</td>\n",
              "      <td>0</td>\n",
              "      <td>...</td>\n",
              "      <td>0</td>\n",
              "      <td>0</td>\n",
              "      <td>0</td>\n",
              "      <td>0</td>\n",
              "      <td>0</td>\n",
              "      <td>0</td>\n",
              "      <td>0</td>\n",
              "      <td>0</td>\n",
              "      <td>0</td>\n",
              "      <td>0</td>\n",
              "    </tr>\n",
              "    <tr>\n",
              "      <th>3</th>\n",
              "      <td>0</td>\n",
              "      <td>2</td>\n",
              "      <td>1</td>\n",
              "      <td>0</td>\n",
              "      <td>0</td>\n",
              "      <td>0</td>\n",
              "      <td>0</td>\n",
              "      <td>0</td>\n",
              "      <td>0</td>\n",
              "      <td>0</td>\n",
              "      <td>...</td>\n",
              "      <td>0</td>\n",
              "      <td>0</td>\n",
              "      <td>0</td>\n",
              "      <td>0</td>\n",
              "      <td>0</td>\n",
              "      <td>0</td>\n",
              "      <td>0</td>\n",
              "      <td>0</td>\n",
              "      <td>0</td>\n",
              "      <td>1</td>\n",
              "    </tr>\n",
              "    <tr>\n",
              "      <th>4</th>\n",
              "      <td>0</td>\n",
              "      <td>0</td>\n",
              "      <td>1</td>\n",
              "      <td>0</td>\n",
              "      <td>0</td>\n",
              "      <td>0</td>\n",
              "      <td>0</td>\n",
              "      <td>0</td>\n",
              "      <td>0</td>\n",
              "      <td>0</td>\n",
              "      <td>...</td>\n",
              "      <td>0</td>\n",
              "      <td>0</td>\n",
              "      <td>0</td>\n",
              "      <td>0</td>\n",
              "      <td>0</td>\n",
              "      <td>0</td>\n",
              "      <td>0</td>\n",
              "      <td>0</td>\n",
              "      <td>0</td>\n",
              "      <td>0</td>\n",
              "    </tr>\n",
              "    <tr>\n",
              "      <th>...</th>\n",
              "      <td>...</td>\n",
              "      <td>...</td>\n",
              "      <td>...</td>\n",
              "      <td>...</td>\n",
              "      <td>...</td>\n",
              "      <td>...</td>\n",
              "      <td>...</td>\n",
              "      <td>...</td>\n",
              "      <td>...</td>\n",
              "      <td>...</td>\n",
              "      <td>...</td>\n",
              "      <td>...</td>\n",
              "      <td>...</td>\n",
              "      <td>...</td>\n",
              "      <td>...</td>\n",
              "      <td>...</td>\n",
              "      <td>...</td>\n",
              "      <td>...</td>\n",
              "      <td>...</td>\n",
              "      <td>...</td>\n",
              "      <td>...</td>\n",
              "    </tr>\n",
              "    <tr>\n",
              "      <th>1147031</th>\n",
              "      <td>0</td>\n",
              "      <td>3</td>\n",
              "      <td>0</td>\n",
              "      <td>0</td>\n",
              "      <td>0</td>\n",
              "      <td>1</td>\n",
              "      <td>0</td>\n",
              "      <td>0</td>\n",
              "      <td>0</td>\n",
              "      <td>0</td>\n",
              "      <td>...</td>\n",
              "      <td>0</td>\n",
              "      <td>0</td>\n",
              "      <td>0</td>\n",
              "      <td>0</td>\n",
              "      <td>0</td>\n",
              "      <td>0</td>\n",
              "      <td>0</td>\n",
              "      <td>0</td>\n",
              "      <td>0</td>\n",
              "      <td>0</td>\n",
              "    </tr>\n",
              "    <tr>\n",
              "      <th>1147032</th>\n",
              "      <td>2</td>\n",
              "      <td>2</td>\n",
              "      <td>0</td>\n",
              "      <td>0</td>\n",
              "      <td>1</td>\n",
              "      <td>0</td>\n",
              "      <td>0</td>\n",
              "      <td>0</td>\n",
              "      <td>0</td>\n",
              "      <td>0</td>\n",
              "      <td>...</td>\n",
              "      <td>0</td>\n",
              "      <td>0</td>\n",
              "      <td>0</td>\n",
              "      <td>0</td>\n",
              "      <td>0</td>\n",
              "      <td>0</td>\n",
              "      <td>0</td>\n",
              "      <td>0</td>\n",
              "      <td>0</td>\n",
              "      <td>0</td>\n",
              "    </tr>\n",
              "    <tr>\n",
              "      <th>1147033</th>\n",
              "      <td>1</td>\n",
              "      <td>2</td>\n",
              "      <td>0</td>\n",
              "      <td>0</td>\n",
              "      <td>0</td>\n",
              "      <td>0</td>\n",
              "      <td>0</td>\n",
              "      <td>0</td>\n",
              "      <td>0</td>\n",
              "      <td>0</td>\n",
              "      <td>...</td>\n",
              "      <td>0</td>\n",
              "      <td>0</td>\n",
              "      <td>0</td>\n",
              "      <td>0</td>\n",
              "      <td>0</td>\n",
              "      <td>0</td>\n",
              "      <td>0</td>\n",
              "      <td>0</td>\n",
              "      <td>0</td>\n",
              "      <td>0</td>\n",
              "    </tr>\n",
              "    <tr>\n",
              "      <th>1147034</th>\n",
              "      <td>1</td>\n",
              "      <td>2</td>\n",
              "      <td>1</td>\n",
              "      <td>0</td>\n",
              "      <td>0</td>\n",
              "      <td>0</td>\n",
              "      <td>0</td>\n",
              "      <td>0</td>\n",
              "      <td>0</td>\n",
              "      <td>0</td>\n",
              "      <td>...</td>\n",
              "      <td>0</td>\n",
              "      <td>0</td>\n",
              "      <td>0</td>\n",
              "      <td>0</td>\n",
              "      <td>0</td>\n",
              "      <td>0</td>\n",
              "      <td>0</td>\n",
              "      <td>0</td>\n",
              "      <td>0</td>\n",
              "      <td>0</td>\n",
              "    </tr>\n",
              "    <tr>\n",
              "      <th>1147035</th>\n",
              "      <td>0</td>\n",
              "      <td>6</td>\n",
              "      <td>1</td>\n",
              "      <td>0</td>\n",
              "      <td>0</td>\n",
              "      <td>0</td>\n",
              "      <td>0</td>\n",
              "      <td>0</td>\n",
              "      <td>0</td>\n",
              "      <td>0</td>\n",
              "      <td>...</td>\n",
              "      <td>0</td>\n",
              "      <td>0</td>\n",
              "      <td>0</td>\n",
              "      <td>0</td>\n",
              "      <td>0</td>\n",
              "      <td>0</td>\n",
              "      <td>0</td>\n",
              "      <td>0</td>\n",
              "      <td>0</td>\n",
              "      <td>0</td>\n",
              "    </tr>\n",
              "  </tbody>\n",
              "</table>\n",
              "<p>1147036 rows × 212 columns</p>\n",
              "</div>\n",
              "      <button class=\"colab-df-convert\" onclick=\"convertToInteractive('df-bce20528-5683-47c0-a00f-b9223b1052b3')\"\n",
              "              title=\"Convert this dataframe to an interactive table.\"\n",
              "              style=\"display:none;\">\n",
              "        \n",
              "  <svg xmlns=\"http://www.w3.org/2000/svg\" height=\"24px\"viewBox=\"0 0 24 24\"\n",
              "       width=\"24px\">\n",
              "    <path d=\"M0 0h24v24H0V0z\" fill=\"none\"/>\n",
              "    <path d=\"M18.56 5.44l.94 2.06.94-2.06 2.06-.94-2.06-.94-.94-2.06-.94 2.06-2.06.94zm-11 1L8.5 8.5l.94-2.06 2.06-.94-2.06-.94L8.5 2.5l-.94 2.06-2.06.94zm10 10l.94 2.06.94-2.06 2.06-.94-2.06-.94-.94-2.06-.94 2.06-2.06.94z\"/><path d=\"M17.41 7.96l-1.37-1.37c-.4-.4-.92-.59-1.43-.59-.52 0-1.04.2-1.43.59L10.3 9.45l-7.72 7.72c-.78.78-.78 2.05 0 2.83L4 21.41c.39.39.9.59 1.41.59.51 0 1.02-.2 1.41-.59l7.78-7.78 2.81-2.81c.8-.78.8-2.07 0-2.86zM5.41 20L4 18.59l7.72-7.72 1.47 1.35L5.41 20z\"/>\n",
              "  </svg>\n",
              "      </button>\n",
              "      \n",
              "  <style>\n",
              "    .colab-df-container {\n",
              "      display:flex;\n",
              "      flex-wrap:wrap;\n",
              "      gap: 12px;\n",
              "    }\n",
              "\n",
              "    .colab-df-convert {\n",
              "      background-color: #E8F0FE;\n",
              "      border: none;\n",
              "      border-radius: 50%;\n",
              "      cursor: pointer;\n",
              "      display: none;\n",
              "      fill: #1967D2;\n",
              "      height: 32px;\n",
              "      padding: 0 0 0 0;\n",
              "      width: 32px;\n",
              "    }\n",
              "\n",
              "    .colab-df-convert:hover {\n",
              "      background-color: #E2EBFA;\n",
              "      box-shadow: 0px 1px 2px rgba(60, 64, 67, 0.3), 0px 1px 3px 1px rgba(60, 64, 67, 0.15);\n",
              "      fill: #174EA6;\n",
              "    }\n",
              "\n",
              "    [theme=dark] .colab-df-convert {\n",
              "      background-color: #3B4455;\n",
              "      fill: #D2E3FC;\n",
              "    }\n",
              "\n",
              "    [theme=dark] .colab-df-convert:hover {\n",
              "      background-color: #434B5C;\n",
              "      box-shadow: 0px 1px 3px 1px rgba(0, 0, 0, 0.15);\n",
              "      filter: drop-shadow(0px 1px 2px rgba(0, 0, 0, 0.3));\n",
              "      fill: #FFFFFF;\n",
              "    }\n",
              "  </style>\n",
              "\n",
              "      <script>\n",
              "        const buttonEl =\n",
              "          document.querySelector('#df-bce20528-5683-47c0-a00f-b9223b1052b3 button.colab-df-convert');\n",
              "        buttonEl.style.display =\n",
              "          google.colab.kernel.accessAllowed ? 'block' : 'none';\n",
              "\n",
              "        async function convertToInteractive(key) {\n",
              "          const element = document.querySelector('#df-bce20528-5683-47c0-a00f-b9223b1052b3');\n",
              "          const dataTable =\n",
              "            await google.colab.kernel.invokeFunction('convertToInteractive',\n",
              "                                                     [key], {});\n",
              "          if (!dataTable) return;\n",
              "\n",
              "          const docLinkHtml = 'Like what you see? Visit the ' +\n",
              "            '<a target=\"_blank\" href=https://colab.research.google.com/notebooks/data_table.ipynb>data table notebook</a>'\n",
              "            + ' to learn more about interactive tables.';\n",
              "          element.innerHTML = '';\n",
              "          dataTable['output_type'] = 'display_data';\n",
              "          await google.colab.output.renderOutput(dataTable, element);\n",
              "          const docLink = document.createElement('div');\n",
              "          docLink.innerHTML = docLinkHtml;\n",
              "          element.appendChild(docLink);\n",
              "        }\n",
              "      </script>\n",
              "    </div>\n",
              "  </div>\n",
              "  "
            ]
          },
          "metadata": {},
          "execution_count": 36
        }
      ],
      "source": [
        "x_resampled_encoding"
      ]
    },
    {
      "cell_type": "code",
      "execution_count": 37,
      "metadata": {
        "id": "D16i_JUvERlu"
      },
      "outputs": [],
      "source": [
        "df.to_csv('original_data_with_encoding.csv',index=False)\n",
        "x_resampled.to_csv('resampled_without_encoding.csv',index=False)\n",
        "x_resampled_encoding.to_csv('resampled_with_encoding.csv',index=False)\n",
        "y_resampled.to_csv('y_resampled.csv',index=False)"
      ]
    },
    {
      "cell_type": "markdown",
      "metadata": {
        "id": "A9JpgjMwJJIK"
      },
      "source": [
        "###  Summary"
      ]
    },
    {
      "cell_type": "markdown",
      "metadata": {
        "id": "LsMt4RDvXdqP"
      },
      "source": [
        "*   Load the Data into DataFrame\n",
        "*   Inference about the data\n",
        "*   Finding the distribution of target variables\n",
        "*   Split features into Categorical,Binary,Ordinal,Interval\n",
        "*   Handled Missing Values\n",
        "*   Found Outliers in continuous variables\n",
        "*   Dropped Id column\n",
        "*   Inferences about continuous,ordinal,binary variables through Visualization\n",
        "*   Level of Correlation for interval,ordinal \n",
        "*   Keep only 1 column for columns having high correlation\n",
        "*   Balanced the data by OverSampling(Smote algorithm)\n",
        "*   OneHotEncoding for categorical variables\n",
        "*   Saved CSV Files for data with and without Encoding\n",
        "\n"
      ]
    }
  ],
  "metadata": {
    "colab": {
      "provenance": []
    },
    "kernelspec": {
      "display_name": "Python 3 (ipykernel)",
      "language": "python",
      "name": "python3"
    },
    "language_info": {
      "codemirror_mode": {
        "name": "ipython",
        "version": 3
      },
      "file_extension": ".py",
      "mimetype": "text/x-python",
      "name": "python",
      "nbconvert_exporter": "python",
      "pygments_lexer": "ipython3",
      "version": "3.9.7"
    }
  },
  "nbformat": 4,
  "nbformat_minor": 0
}