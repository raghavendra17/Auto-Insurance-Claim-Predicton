{
 "cells": [
  {
   "cell_type": "markdown",
   "metadata": {
    "id": "P2U4AUV_JMmP"
   },
   "source": [
    "## Modelling"
   ]
  },
  {
   "cell_type": "code",
   "execution_count": 1,
   "metadata": {
    "id": "FVFLkSdKo0s_"
   },
   "outputs": [],
   "source": [
    "import pandas as pd\n",
    "import numpy as np\n",
    "from sklearn.model_selection import train_test_split,cross_val_score,RepeatedStratifiedKFold,GridSearchCV\n",
    "from sklearn.preprocessing import StandardScaler\n",
    "from sklearn.linear_model import LogisticRegression\n",
    "import timeit\n",
    "import seaborn as sns\n",
    "from sklearn.metrics import confusion_matrix,classification_report,accuracy_score,f1_score,precision_score,recall_score,RocCurveDisplay\n",
    "from matplotlib import pyplot\n",
    "import warnings\n",
    "warnings.filterwarnings('ignore')"
   ]
  },
  {
   "cell_type": "code",
   "execution_count": 2,
   "metadata": {},
   "outputs": [],
   "source": [
    "initial_df=pd.read_csv('original_data_with_encoding.csv')\n",
    "x_resampled=pd.read_csv('resampled_without_encoding.csv')\n",
    "x_resampled_encoding=pd.read_csv('resampled_with_encoding.csv')\n",
    "y_resampled=pd.read_csv('y_resampled.csv')"
   ]
  },
  {
   "cell_type": "markdown",
   "metadata": {},
   "source": [
    "### Data without Resampling"
   ]
  },
  {
   "cell_type": "code",
   "execution_count": 3,
   "metadata": {
    "id": "ZxaC3ah155Mg"
   },
   "outputs": [],
   "source": [
    "X = initial_df.drop('target',axis=1).values\n",
    "Y = initial_df['target'].values\n",
    "X_train,X_test,y_train,y_test=train_test_split(X,Y,test_size=0.2,random_state=10)"
   ]
  },
  {
   "cell_type": "code",
   "execution_count": 4,
   "metadata": {},
   "outputs": [],
   "source": [
    "scaler = StandardScaler().fit(X_train)\n",
    "train_sc = scaler.transform(X_train)\n",
    "test_sc = scaler.transform(X_test)"
   ]
  },
  {
   "cell_type": "code",
   "execution_count": 5,
   "metadata": {},
   "outputs": [
    {
     "name": "stdout",
     "output_type": "stream",
     "text": [
      "Time taken to fit the model in sec is  6.553605599999997\n",
      "[[114633      0]\n",
      " [  4410      0]]\n"
     ]
    }
   ],
   "source": [
    "lr = LogisticRegression()\n",
    "\n",
    "start_time = timeit.default_timer()\n",
    "lr.fit(train_sc,y_train)\n",
    "elapsed = timeit.default_timer() - start_time\n",
    "print(\"Time taken to fit the model in sec is \",elapsed)\n",
    "\n",
    "y_pred=lr.predict(test_sc)\n",
    "cnf_matrix = confusion_matrix(y_test, y_pred)\n",
    "print(cnf_matrix)"
   ]
  },
  {
   "cell_type": "code",
   "execution_count": 6,
   "metadata": {
    "id": "qTQyJDnN6Qga"
   },
   "outputs": [
    {
     "name": "stdout",
     "output_type": "stream",
     "text": [
      "Accuracy score:0.9630\n"
     ]
    }
   ],
   "source": [
    "print(f\"Accuracy score:{accuracy_score(y_test, y_pred):.4f}\")"
   ]
  },
  {
   "cell_type": "markdown",
   "metadata": {
    "id": "NPk-Rx97US7F"
   },
   "source": [
    "* 1) If there is no oversampling the accuracy is 96.3.But as data is imbalanced data we don't need accuracy.Because majority of them are negative and model predicted all values as negative and so accuracy is high\n"
   ]
  },
  {
   "cell_type": "code",
   "execution_count": 7,
   "metadata": {
    "id": "Fas3DzRnBnLR"
   },
   "outputs": [
    {
     "name": "stdout",
     "output_type": "stream",
     "text": [
      "0.0\n"
     ]
    }
   ],
   "source": [
    "print(f1_score(y_test, y_pred))"
   ]
  },
  {
   "cell_type": "markdown",
   "metadata": {
    "id": "ATyt20x2UA5Q"
   },
   "source": [
    "* 2) f2 score is 0 as there are no predicted values either correctly predicted (True positives)or wrongly predicted(False positives) as positive.\n",
    "*    The accuracy is high as there are so many negatives and all values are predicted as negative"
   ]
  },
  {
   "cell_type": "code",
   "execution_count": 8,
   "metadata": {
    "id": "lbHAm0feSiaO"
   },
   "outputs": [
    {
     "name": "stdout",
     "output_type": "stream",
     "text": [
      "Recall score : 0.0000\n",
      "Precision score : 0.0000\n"
     ]
    }
   ],
   "source": [
    "print(f\"Recall score : {recall_score(y_test, y_pred):.4f}\")\n",
    "print(f\"Precision score : {precision_score(y_test, y_pred):.4f}\")"
   ]
  },
  {
   "cell_type": "markdown",
   "metadata": {
    "id": "VVM6D_swBLtd"
   },
   "source": [
    "\n",
    "\n",
    "* 3) Precision and recall values are 0"
   ]
  },
  {
   "cell_type": "markdown",
   "metadata": {
    "id": "xcRDxMojUgrd"
   },
   "source": [
    "### Most Inference\n",
    "\n",
    "* 4) All values are precited as negative as majority of values in dataset is negative.We are missing positive cases\n",
    "So oversampling is needed to overcome this problem\n",
    "\n",
    "\n",
    "\n"
   ]
  },
  {
   "cell_type": "markdown",
   "metadata": {},
   "source": [
    "### Data with Resampling and without OneHotEncoding"
   ]
  },
  {
   "cell_type": "code",
   "execution_count": 9,
   "metadata": {},
   "outputs": [],
   "source": [
    "X = x_resampled.values\n",
    "Y = np.squeeze(y_resampled.values)\n",
    "X_train,X_test,y_train,y_test=train_test_split(X,Y,test_size=0.2,random_state=10)"
   ]
  },
  {
   "cell_type": "code",
   "execution_count": 10,
   "metadata": {},
   "outputs": [],
   "source": [
    "scaler = StandardScaler().fit(X_train)\n",
    "train_sc = scaler.transform(X_train)\n",
    "test_sc = scaler.transform(X_test)"
   ]
  },
  {
   "cell_type": "code",
   "execution_count": 11,
   "metadata": {
    "id": "T9dJAe6eHDWU"
   },
   "outputs": [
    {
     "name": "stdout",
     "output_type": "stream",
     "text": [
      "Time taken to fit the model in sec is  5.535669299999995\n"
     ]
    }
   ],
   "source": [
    "lr = LogisticRegression()\n",
    "\n",
    "start_time = timeit.default_timer()\n",
    "lr.fit(train_sc,y_train)\n",
    "elapsed = timeit.default_timer() - start_time\n",
    "print(\"Time taken to fit the model in sec is \",elapsed)\n",
    "\n",
    "y_pred=lr.predict(test_sc)"
   ]
  },
  {
   "cell_type": "code",
   "execution_count": 12,
   "metadata": {},
   "outputs": [
    {
     "data": {
      "text/plain": [
       "{'C': 1.0,\n",
       " 'class_weight': None,\n",
       " 'dual': False,\n",
       " 'fit_intercept': True,\n",
       " 'intercept_scaling': 1,\n",
       " 'l1_ratio': None,\n",
       " 'max_iter': 100,\n",
       " 'multi_class': 'auto',\n",
       " 'n_jobs': None,\n",
       " 'penalty': 'l2',\n",
       " 'random_state': None,\n",
       " 'solver': 'lbfgs',\n",
       " 'tol': 0.0001,\n",
       " 'verbose': 0,\n",
       " 'warm_start': False}"
      ]
     },
     "execution_count": 12,
     "metadata": {},
     "output_type": "execute_result"
    }
   ],
   "source": [
    "lr.get_params()"
   ]
  },
  {
   "cell_type": "code",
   "execution_count": 13,
   "metadata": {
    "id": "oBpWqrQIYMkH"
   },
   "outputs": [
    {
     "name": "stdout",
     "output_type": "stream",
     "text": [
      "Accuracy score: 0.8897\n",
      "F1 score : 0.8860\n",
      "Recall score : 0.8548\n",
      "Precision score : 0.9195\n"
     ]
    }
   ],
   "source": [
    "print(f\"Accuracy score: {accuracy_score(y_test, y_pred):.4f}\")\n",
    "print(f\"F1 score : {f1_score(y_test, y_pred):.4f}\")\n",
    "print(f\"Recall score : {recall_score(y_test, y_pred):.4f}\")\n",
    "print(f\"Precision score : {precision_score(y_test, y_pred):.4f}\")"
   ]
  },
  {
   "cell_type": "code",
   "execution_count": 14,
   "metadata": {},
   "outputs": [
    {
     "data": {
      "text/plain": [
       "<AxesSubplot:>"
      ]
     },
     "execution_count": 14,
     "metadata": {},
     "output_type": "execute_result"
    },
    {
     "data": {
      "image/png": "[encoded data removed]",
      "text/plain": [
       "<Figure size 432x288 with 2 Axes>"
      ]
     },
     "metadata": {
      "needs_background": "light"
     },
     "output_type": "display_data"
    }
   ],
   "source": [
    "sns.heatmap(confusion_matrix(y_test,y_pred),annot=True, fmt='', cmap='Blues')"
   ]
  },
  {
   "cell_type": "code",
   "execution_count": 15,
   "metadata": {
    "id": "m4m9v1x5xlLw"
   },
   "outputs": [
    {
     "name": "stdout",
     "output_type": "stream",
     "text": [
      "              precision    recall  f1-score   support\n",
      "\n",
      "           0       0.86      0.92      0.89    114386\n",
      "           1       0.92      0.85      0.89    115022\n",
      "\n",
      "    accuracy                           0.89    229408\n",
      "   macro avg       0.89      0.89      0.89    229408\n",
      "weighted avg       0.89      0.89      0.89    229408\n",
      "\n"
     ]
    }
   ],
   "source": [
    "print(classification_report(y_test, y_pred))"
   ]
  },
  {
   "cell_type": "code",
   "execution_count": 16,
   "metadata": {},
   "outputs": [
    {
     "data": {
      "text/plain": [
       "<sklearn.metrics._plot.roc_curve.RocCurveDisplay at 0x2537e24b310>"
      ]
     },
     "execution_count": 16,
     "metadata": {},
     "output_type": "execute_result"
    },
    {
     "data": {
      "image/png": "[encoded data removed]",
      "text/plain": [
       "<Figure size 432x288 with 1 Axes>"
      ]
     },
     "metadata": {
      "needs_background": "light"
     },
     "output_type": "display_data"
    }
   ],
   "source": [
    "RocCurveDisplay.from_predictions(y_test, y_pred)"
   ]
  },
  {
   "cell_type": "code",
   "execution_count": 17,
   "metadata": {},
   "outputs": [
    {
     "data": {
      "text/plain": [
       "<sklearn.metrics._plot.roc_curve.RocCurveDisplay at 0x2537e4ce6a0>"
      ]
     },
     "execution_count": 17,
     "metadata": {},
     "output_type": "execute_result"
    },
    {
     "data": {
      "image/png": "[encoded data removed]",
      "text/plain": [
       "<Figure size 432x288 with 1 Axes>"
      ]
     },
     "metadata": {
      "needs_background": "light"
     },
     "output_type": "display_data"
    }
   ],
   "source": [
    "RocCurveDisplay.from_estimator(lr, X_test, y_test)"
   ]
  },
  {
   "cell_type": "code",
   "execution_count": 18,
   "metadata": {},
   "outputs": [
    {
     "name": "stdout",
     "output_type": "stream",
     "text": [
      "Accuracy score: 0.8899\n",
      "F1 score : 0.8858\n",
      "Recall score : 0.8552\n",
      "Precision score : 0.9187\n"
     ]
    }
   ],
   "source": [
    "y_pred=lr.predict(train_sc)\n",
    "print(f\"Accuracy score: {accuracy_score(y_train, y_pred):.4f}\")\n",
    "print(f\"F1 score : {f1_score(y_train, y_pred):.4f}\")\n",
    "print(f\"Recall score : {recall_score(y_train, y_pred):.4f}\")\n",
    "print(f\"Precision score : {precision_score(y_train, y_pred):.4f}\")"
   ]
  },
  {
   "cell_type": "code",
   "execution_count": 19,
   "metadata": {},
   "outputs": [
    {
     "data": {
      "text/plain": [
       "{'C': 1.0,\n",
       " 'class_weight': None,\n",
       " 'dual': False,\n",
       " 'fit_intercept': True,\n",
       " 'intercept_scaling': 1,\n",
       " 'l1_ratio': None,\n",
       " 'max_iter': 100,\n",
       " 'multi_class': 'auto',\n",
       " 'n_jobs': None,\n",
       " 'penalty': 'l2',\n",
       " 'random_state': None,\n",
       " 'solver': 'lbfgs',\n",
       " 'tol': 0.0001,\n",
       " 'verbose': 0,\n",
       " 'warm_start': False}"
      ]
     },
     "execution_count": 19,
     "metadata": {},
     "output_type": "execute_result"
    }
   ],
   "source": [
    "lr.get_params()"
   ]
  },
  {
   "cell_type": "markdown",
   "metadata": {},
   "source": [
    "### Data with Resampling and with OneHotEncoding"
   ]
  },
  {
   "cell_type": "code",
   "execution_count": 20,
   "metadata": {},
   "outputs": [],
   "source": [
    "X = x_resampled_encoding.values\n",
    "Y = np.squeeze(y_resampled.values)\n",
    "X_train,X_test,y_train,y_test=train_test_split(X,Y,test_size=0.2,random_state=10)"
   ]
  },
  {
   "cell_type": "code",
   "execution_count": 21,
   "metadata": {},
   "outputs": [],
   "source": [
    "scaler = StandardScaler().fit(X_train)\n",
    "train_sc = scaler.transform(X_train)\n",
    "test_sc = scaler.transform(X_test)"
   ]
  },
  {
   "cell_type": "code",
   "execution_count": 22,
   "metadata": {},
   "outputs": [
    {
     "name": "stdout",
     "output_type": "stream",
     "text": [
      "Time taken to fit the model in sec is  25.606106799999964\n"
     ]
    }
   ],
   "source": [
    "lr1 = LogisticRegression()\n",
    "\n",
    "start_time = timeit.default_timer()\n",
    "lr1.fit(train_sc,y_train)\n",
    "elapsed = timeit.default_timer() - start_time\n",
    "print(\"Time taken to fit the model in sec is \",elapsed)\n",
    "\n",
    "y_pred1=lr1.predict(test_sc)\n"
   ]
  },
  {
   "cell_type": "code",
   "execution_count": 23,
   "metadata": {},
   "outputs": [
    {
     "name": "stdout",
     "output_type": "stream",
     "text": [
      "Accuracy score: 0.9026\n",
      "F1 score : 0.8997\n",
      "Recall score : 0.8718\n",
      "Precision score : 0.9295\n"
     ]
    }
   ],
   "source": [
    "print(f\"Accuracy score: {accuracy_score(y_test, y_pred1):.4f}\")\n",
    "print(f\"F1 score : {f1_score(y_test, y_pred1):.4f}\")\n",
    "print(f\"Recall score : {recall_score(y_test, y_pred1):.4f}\")\n",
    "print(f\"Precision score : {precision_score(y_test, y_pred1):.4f}\")"
   ]
  },
  {
   "cell_type": "code",
   "execution_count": 24,
   "metadata": {},
   "outputs": [
    {
     "data": {
      "text/plain": [
       "<AxesSubplot:>"
      ]
     },
     "execution_count": 24,
     "metadata": {},
     "output_type": "execute_result"
    },
    {
     "data": {
      "image/png": "[encoded data removed]",
      "text/plain": [
       "<Figure size 432x288 with 2 Axes>"
      ]
     },
     "metadata": {
      "needs_background": "light"
     },
     "output_type": "display_data"
    }
   ],
   "source": [
    "sns.heatmap(confusion_matrix(y_test,y_pred1),annot=True, fmt='', cmap='Blues')"
   ]
  },
  {
   "cell_type": "code",
   "execution_count": 25,
   "metadata": {},
   "outputs": [
    {
     "name": "stdout",
     "output_type": "stream",
     "text": [
      "              precision    recall  f1-score   support\n",
      "\n",
      "           0       0.88      0.93      0.91    114386\n",
      "           1       0.93      0.87      0.90    115022\n",
      "\n",
      "    accuracy                           0.90    229408\n",
      "   macro avg       0.90      0.90      0.90    229408\n",
      "weighted avg       0.90      0.90      0.90    229408\n",
      "\n"
     ]
    }
   ],
   "source": [
    "print(classification_report(y_test, y_pred1))"
   ]
  },
  {
   "cell_type": "code",
   "execution_count": 26,
   "metadata": {},
   "outputs": [
    {
     "data": {
      "text/plain": [
       "<sklearn.metrics._plot.roc_curve.RocCurveDisplay at 0x2537dfa86d0>"
      ]
     },
     "execution_count": 26,
     "metadata": {},
     "output_type": "execute_result"
    },
    {
     "data": {
      "image/png": "[encoded data removed]",
      "text/plain": [
       "<Figure size 432x288 with 1 Axes>"
      ]
     },
     "metadata": {
      "needs_background": "light"
     },
     "output_type": "display_data"
    }
   ],
   "source": [
    "RocCurveDisplay.from_predictions(y_test, y_pred1)"
   ]
  },
  {
   "cell_type": "code",
   "execution_count": 27,
   "metadata": {},
   "outputs": [
    {
     "data": {
      "text/plain": [
       "<sklearn.metrics._plot.roc_curve.RocCurveDisplay at 0x2537e10fc70>"
      ]
     },
     "execution_count": 27,
     "metadata": {},
     "output_type": "execute_result"
    },
    {
     "data": {
      "image/png": "[encoded data removed]",
      "text/plain": [
       "<Figure size 432x288 with 1 Axes>"
      ]
     },
     "metadata": {
      "needs_background": "light"
     },
     "output_type": "display_data"
    }
   ],
   "source": [
    "RocCurveDisplay.from_estimator(lr1, test_sc, y_test)"
   ]
  },
  {
   "cell_type": "markdown",
   "metadata": {},
   "source": [
    "### Checking accuracy on training dataset"
   ]
  },
  {
   "cell_type": "code",
   "execution_count": 28,
   "metadata": {},
   "outputs": [
    {
     "name": "stdout",
     "output_type": "stream",
     "text": [
      "Accuracy score: 0.9031\n",
      "F1 score : 0.9000\n",
      "Recall score : 0.8720\n",
      "Precision score : 0.9298\n"
     ]
    }
   ],
   "source": [
    "y_pred1=lr1.predict(train_sc)\n",
    "print(f\"Accuracy score: {accuracy_score(y_train, y_pred1):.4f}\")\n",
    "print(f\"F1 score : {f1_score(y_train, y_pred1):.4f}\")\n",
    "print(f\"Recall score : {recall_score(y_train, y_pred1):.4f}\")\n",
    "print(f\"Precision score : {precision_score(y_train, y_pred1):.4f}\")"
   ]
  },
  {
   "cell_type": "markdown",
   "metadata": {},
   "source": [
    "### One Hot Encoding improved accuracy"
   ]
  },
  {
   "cell_type": "markdown",
   "metadata": {},
   "source": [
    "* 5) The accuracy score is 0.9024 and f1_score is 0.90 for both standard scaling and minmax scaling\n",
    "* 6) f1_score is improved as data is balanced data due to oversampling\n",
    "\n"
   ]
  },
  {
   "cell_type": "markdown",
   "metadata": {},
   "source": [
    "### Hyperparameter Tuning"
   ]
  },
  {
   "cell_type": "code",
   "execution_count": 31,
   "metadata": {},
   "outputs": [
    {
     "name": "stdout",
     "output_type": "stream",
     "text": [
      "Best: 0.902927 using {'C': 100, 'penalty': 'l2', 'solver': 'newton-cg'}\n",
      "0.902927 (0.000957) with: {'C': 100, 'penalty': 'l2', 'solver': 'newton-cg'}\n",
      "0.900980 (0.001195) with: {'C': 100, 'penalty': 'l2', 'solver': 'lbfgs'}\n",
      "0.902924 (0.000954) with: {'C': 100, 'penalty': 'l2', 'solver': 'liblinear'}\n",
      "0.902917 (0.000955) with: {'C': 100, 'penalty': 'l2', 'solver': 'sag'}\n",
      "0.902901 (0.000955) with: {'C': 100, 'penalty': 'l2', 'solver': 'saga'}\n",
      "0.902923 (0.000958) with: {'C': 10, 'penalty': 'l2', 'solver': 'newton-cg'}\n",
      "0.900970 (0.001065) with: {'C': 10, 'penalty': 'l2', 'solver': 'lbfgs'}\n",
      "0.902923 (0.000956) with: {'C': 10, 'penalty': 'l2', 'solver': 'liblinear'}\n",
      "0.902915 (0.000955) with: {'C': 10, 'penalty': 'l2', 'solver': 'sag'}\n",
      "0.902902 (0.000955) with: {'C': 10, 'penalty': 'l2', 'solver': 'saga'}\n",
      "0.902914 (0.000948) with: {'C': 1.0, 'penalty': 'l2', 'solver': 'newton-cg'}\n",
      "0.901069 (0.001078) with: {'C': 1.0, 'penalty': 'l2', 'solver': 'lbfgs'}\n",
      "0.902910 (0.000953) with: {'C': 1.0, 'penalty': 'l2', 'solver': 'liblinear'}\n",
      "0.902906 (0.000953) with: {'C': 1.0, 'penalty': 'l2', 'solver': 'sag'}\n",
      "0.902897 (0.000954) with: {'C': 1.0, 'penalty': 'l2', 'solver': 'saga'}\n",
      "0.902815 (0.000953) with: {'C': 0.1, 'penalty': 'l2', 'solver': 'newton-cg'}\n",
      "0.900946 (0.001066) with: {'C': 0.1, 'penalty': 'l2', 'solver': 'lbfgs'}\n",
      "0.902794 (0.000948) with: {'C': 0.1, 'penalty': 'l2', 'solver': 'liblinear'}\n",
      "0.902806 (0.000947) with: {'C': 0.1, 'penalty': 'l2', 'solver': 'sag'}\n",
      "0.902803 (0.000949) with: {'C': 0.1, 'penalty': 'l2', 'solver': 'saga'}\n",
      "0.902158 (0.000964) with: {'C': 0.01, 'penalty': 'l2', 'solver': 'newton-cg'}\n",
      "0.900618 (0.001132) with: {'C': 0.01, 'penalty': 'l2', 'solver': 'lbfgs'}\n",
      "0.902132 (0.000980) with: {'C': 0.01, 'penalty': 'l2', 'solver': 'liblinear'}\n",
      "0.902161 (0.000965) with: {'C': 0.01, 'penalty': 'l2', 'solver': 'sag'}\n",
      "0.902173 (0.000986) with: {'C': 0.01, 'penalty': 'l2', 'solver': 'saga'}\n"
     ]
    }
   ],
   "source": [
    "model = LogisticRegression()\n",
    "solvers = ['newton-cg', 'lbfgs', 'liblinear','sag','saga']\n",
    "penalty = ['l2']\n",
    "c_values = [100, 10, 1.0, 0.1, 0.01]\n",
    "# define grid search\n",
    "grid = dict(solver=solvers,penalty=penalty,C=c_values)\n",
    "cv = RepeatedStratifiedKFold(n_splits=10, n_repeats=3, random_state=1)\n",
    "grid_search = GridSearchCV(estimator=model, param_grid=grid, n_jobs=None, cv=cv, scoring='accuracy',error_score=0)\n",
    "grid_result = grid_search.fit(X, Y)\n",
    "# summarize results\n",
    "print(\"Best: %f using %s\" % (grid_result.best_score_, grid_result.best_params_))\n",
    "means = grid_result.cv_results_['mean_test_score']\n",
    "stds = grid_result.cv_results_['std_test_score']\n",
    "params = grid_result.cv_results_['params']\n",
    "for mean, stdev, param in zip(means, stds, params):\n",
    "    print(\"%f (%f) with: %r\" % (mean, stdev, param))"
   ]
  },
  {
   "cell_type": "code",
   "execution_count": 36,
   "metadata": {},
   "outputs": [
    {
     "data": {
      "text/plain": [
       "array([[-9.56935583e-02, -1.66980348e-01, -5.08117181e+00,\n",
       "        -4.35150433e+00, -3.46592546e+00, -3.63948483e+00,\n",
       "        -1.05373257e-01, -2.12335845e-01, -5.40875214e-01,\n",
       "        -1.62063022e-01,  6.04183503e-01, -2.54641545e-01,\n",
       "        -9.80132361e-01, -6.98307106e-01, -8.56671855e-01,\n",
       "         8.08559453e-02,  1.28271397e-01, -2.97636111e-01,\n",
       "        -1.72664638e-01, -4.90607866e-02,  7.03472180e-02,\n",
       "         1.07381055e-02,  1.23687062e-03,  1.17181871e-02,\n",
       "        -2.57568332e-01, -2.60194377e-01, -1.96503263e-01,\n",
       "        -2.22242026e-01, -1.93232421e-01, -2.41152771e-01,\n",
       "        -1.24759548e-01, -1.42583589e-01, -2.77875461e-01,\n",
       "        -2.02296136e-01, -1.19313708e-01, -3.66389830e-01,\n",
       "        -3.55542936e-01, -3.66483682e-01, -4.06039817e-01,\n",
       "        -4.10007665e-01, -3.64226099e-01,  1.42056002e-01,\n",
       "        -8.91202445e-02, -1.00366026e-01, -6.83319187e-02,\n",
       "         1.68885293e-01, -1.68885293e-01, -7.42463869e-02,\n",
       "         7.04644141e-02,  1.02491795e-01,  1.04068197e-02,\n",
       "        -2.50605963e-02,  1.28715675e-01, -4.26612120e-02,\n",
       "         1.13575247e-02,  1.09901536e-02,  2.46248403e-02,\n",
       "         3.71696553e-03,  5.62261399e-02,  6.49697641e-02,\n",
       "         7.18857494e-02, -1.21258860e-01,  1.25518165e-01,\n",
       "         7.29147072e-02,  1.12747049e-01, -1.55885296e-01,\n",
       "         2.16482945e-01, -2.16482945e-01,  2.54396911e-01,\n",
       "        -1.75545623e-01, -3.24723715e-01, -3.23312440e-03,\n",
       "         2.80164644e-04, -2.13393822e-02,  9.40335935e-03,\n",
       "         5.33652857e-02,  2.73131861e-02, -1.26422947e-02,\n",
       "         3.94255638e-01, -2.60032368e-01,  1.05970258e-01,\n",
       "         2.86467225e-02, -1.60934998e-01,  4.97536582e-02,\n",
       "        -1.09153302e-01, -9.08023970e-02,  1.33778189e-01,\n",
       "         3.90133418e-02,  2.54271159e-01, -2.37448561e-01,\n",
       "         1.42680728e-01,  1.20412588e-01, -1.21453416e-01,\n",
       "         2.12591390e-03,  9.27699119e-02,  2.16813322e-02,\n",
       "         8.48665928e-02, -8.48665928e-02,  1.60977667e-01,\n",
       "        -1.60977667e-01, -2.19812879e-01,  4.10386794e-01,\n",
       "        -4.39618038e-02, -9.59666057e-02, -8.25444894e-02,\n",
       "         2.81340225e-02, -2.52892640e-02, -2.23615569e-02,\n",
       "         1.38800560e-01, -1.50109294e-02, -4.88608967e-02,\n",
       "        -3.96774780e-02, -1.36057491e-01,  7.23992190e-02,\n",
       "         2.31333932e-04, -1.61273794e-02,  1.39812471e-02,\n",
       "         4.39951602e-02, -7.53216957e-03,  9.39061398e-02,\n",
       "         1.54149092e-02,  1.06553456e-01, -3.31882797e-02,\n",
       "         1.04077446e-01,  5.20349121e-04,  8.16757053e-02,\n",
       "         3.93539748e-02, -1.97603077e-02,  1.06220195e-02,\n",
       "        -7.97188844e-02, -5.67735910e-02,  7.96287071e-02,\n",
       "         6.89236555e-03,  8.76171713e-02,  3.95685151e-02,\n",
       "        -1.74855038e-01,  1.80859511e-02, -3.85554319e-02,\n",
       "         9.47996019e-02, -1.88003092e-01,  3.76805744e-02,\n",
       "        -1.51505662e-01,  4.19031234e-02,  1.05607201e-02,\n",
       "        -1.07907748e-01,  3.56588546e-02, -1.31947399e-01,\n",
       "        -3.05569537e-02,  1.13217307e-01,  2.25442749e-02,\n",
       "        -7.94189603e-02,  1.09577220e-02,  6.14084308e-02,\n",
       "        -7.94598441e-02, -2.53714003e-02,  2.89854752e-02,\n",
       "         4.81047687e-02,  2.80723816e-02, -3.70378142e-03,\n",
       "        -9.60207558e-04, -2.85772140e-02, -6.53542111e-02,\n",
       "        -1.51006518e-01,  4.58005484e-02, -1.53263587e-02,\n",
       "         6.84484587e-02,  4.73526910e-02, -2.01876103e-02,\n",
       "         6.73401782e-02, -5.55541957e-02, -6.20877783e-03,\n",
       "         1.63511799e-01,  4.56025719e-03, -1.22285995e-01,\n",
       "         3.96213058e-02,  6.01563728e-02, -3.96420174e-02,\n",
       "         6.26184225e-02,  7.69420756e-02,  4.24377618e-02,\n",
       "         3.60813677e-02,  3.64799973e-02, -3.37751558e-02,\n",
       "         1.92448977e-02, -1.59020613e-03, -1.19557380e-01,\n",
       "         4.62940814e-02,  2.60131600e-02, -3.20849083e-02,\n",
       "         6.49209516e-02, -2.24863340e-01,  3.47292812e-02,\n",
       "         2.97497617e-02, -4.47667732e-02, -1.70051384e-01,\n",
       "        -1.30952328e-01, -1.58250796e-01,  1.86426082e-01,\n",
       "         6.25792792e-03,  7.74964939e-02, -2.50635285e-02,\n",
       "         1.22178474e-01, -1.16736208e-01, -1.47918935e-02,\n",
       "        -3.23999350e-03, -6.83415967e-02,  1.28793141e-02,\n",
       "         5.01297564e-02,  6.97655580e-02,  9.47029709e-02,\n",
       "         1.11603162e-01, -7.02213125e-03]])"
      ]
     },
     "execution_count": 36,
     "metadata": {},
     "output_type": "execute_result"
    }
   ],
   "source": [
    "lr1.coef_"
   ]
  },
  {
   "cell_type": "code",
   "execution_count": 45,
   "metadata": {},
   "outputs": [
    {
     "data": {
      "text/html": [
       "<div>\n",
       "<style scoped>\n",
       "    .dataframe tbody tr th:only-of-type {\n",
       "        vertical-align: middle;\n",
       "    }\n",
       "\n",
       "    .dataframe tbody tr th {\n",
       "        vertical-align: top;\n",
       "    }\n",
       "\n",
       "    .dataframe thead th {\n",
       "        text-align: right;\n",
       "    }\n",
       "</style>\n",
       "<table border=\"1\" class=\"dataframe\">\n",
       "  <thead>\n",
       "    <tr style=\"text-align: right;\">\n",
       "      <th></th>\n",
       "      <th>Col</th>\n",
       "      <th>Coef</th>\n",
       "    </tr>\n",
       "  </thead>\n",
       "  <tbody>\n",
       "    <tr>\n",
       "      <th>0</th>\n",
       "      <td>ps_ind_01</td>\n",
       "      <td>-0.095694</td>\n",
       "    </tr>\n",
       "    <tr>\n",
       "      <th>1</th>\n",
       "      <td>ps_ind_03</td>\n",
       "      <td>-0.166980</td>\n",
       "    </tr>\n",
       "    <tr>\n",
       "      <th>2</th>\n",
       "      <td>ps_ind_06_bin</td>\n",
       "      <td>-5.081172</td>\n",
       "    </tr>\n",
       "    <tr>\n",
       "      <th>3</th>\n",
       "      <td>ps_ind_07_bin</td>\n",
       "      <td>-4.351504</td>\n",
       "    </tr>\n",
       "    <tr>\n",
       "      <th>4</th>\n",
       "      <td>ps_ind_08_bin</td>\n",
       "      <td>-3.465925</td>\n",
       "    </tr>\n",
       "    <tr>\n",
       "      <th>...</th>\n",
       "      <td>...</td>\n",
       "      <td>...</td>\n",
       "    </tr>\n",
       "    <tr>\n",
       "      <th>207</th>\n",
       "      <td>ps_car_11_cat_100</td>\n",
       "      <td>0.050130</td>\n",
       "    </tr>\n",
       "    <tr>\n",
       "      <th>208</th>\n",
       "      <td>ps_car_11_cat_101</td>\n",
       "      <td>0.069766</td>\n",
       "    </tr>\n",
       "    <tr>\n",
       "      <th>209</th>\n",
       "      <td>ps_car_11_cat_102</td>\n",
       "      <td>0.094703</td>\n",
       "    </tr>\n",
       "    <tr>\n",
       "      <th>210</th>\n",
       "      <td>ps_car_11_cat_103</td>\n",
       "      <td>0.111603</td>\n",
       "    </tr>\n",
       "    <tr>\n",
       "      <th>211</th>\n",
       "      <td>ps_car_11_cat_104</td>\n",
       "      <td>-0.007022</td>\n",
       "    </tr>\n",
       "  </tbody>\n",
       "</table>\n",
       "<p>212 rows × 2 columns</p>\n",
       "</div>"
      ],
      "text/plain": [
       "                   Col      Coef\n",
       "0            ps_ind_01 -0.095694\n",
       "1            ps_ind_03 -0.166980\n",
       "2        ps_ind_06_bin -5.081172\n",
       "3        ps_ind_07_bin -4.351504\n",
       "4        ps_ind_08_bin -3.465925\n",
       "..                 ...       ...\n",
       "207  ps_car_11_cat_100  0.050130\n",
       "208  ps_car_11_cat_101  0.069766\n",
       "209  ps_car_11_cat_102  0.094703\n",
       "210  ps_car_11_cat_103  0.111603\n",
       "211  ps_car_11_cat_104 -0.007022\n",
       "\n",
       "[212 rows x 2 columns]"
      ]
     },
     "execution_count": 45,
     "metadata": {},
     "output_type": "execute_result"
    }
   ],
   "source": [
    "feat_imp = pd.DataFrame({\"Col\": x_resampled_encoding.columns})\n",
    "feat_imp[\"Coef\"] = lr1.coef_[0]\n",
    "feat_imp"
   ]
  },
  {
   "cell_type": "code",
   "execution_count": 46,
   "metadata": {},
   "outputs": [
    {
     "data": {
      "text/html": [
       "<div>\n",
       "<style scoped>\n",
       "    .dataframe tbody tr th:only-of-type {\n",
       "        vertical-align: middle;\n",
       "    }\n",
       "\n",
       "    .dataframe tbody tr th {\n",
       "        vertical-align: top;\n",
       "    }\n",
       "\n",
       "    .dataframe thead th {\n",
       "        text-align: right;\n",
       "    }\n",
       "</style>\n",
       "<table border=\"1\" class=\"dataframe\">\n",
       "  <thead>\n",
       "    <tr style=\"text-align: right;\">\n",
       "      <th></th>\n",
       "      <th>Col</th>\n",
       "      <th>Coef</th>\n",
       "      <th>FeatImp</th>\n",
       "    </tr>\n",
       "  </thead>\n",
       "  <tbody>\n",
       "    <tr>\n",
       "      <th>46</th>\n",
       "      <td>ps_ind_14</td>\n",
       "      <td>6.041835e-01</td>\n",
       "      <td>1.0000</td>\n",
       "    </tr>\n",
       "    <tr>\n",
       "      <th>23</th>\n",
       "      <td>ps_car_06_cat</td>\n",
       "      <td>4.055344e-01</td>\n",
       "      <td>0.9651</td>\n",
       "    </tr>\n",
       "    <tr>\n",
       "      <th>20</th>\n",
       "      <td>ps_car_01_cat</td>\n",
       "      <td>2.778069e-01</td>\n",
       "      <td>0.9426</td>\n",
       "    </tr>\n",
       "    <tr>\n",
       "      <th>37</th>\n",
       "      <td>ps_ind_05_cat</td>\n",
       "      <td>1.701105e-01</td>\n",
       "      <td>0.9237</td>\n",
       "    </tr>\n",
       "    <tr>\n",
       "      <th>52</th>\n",
       "      <td>ps_reg_02</td>\n",
       "      <td>1.282714e-01</td>\n",
       "      <td>0.9163</td>\n",
       "    </tr>\n",
       "    <tr>\n",
       "      <th>51</th>\n",
       "      <td>ps_reg_01</td>\n",
       "      <td>8.085595e-02</td>\n",
       "      <td>0.9080</td>\n",
       "    </tr>\n",
       "    <tr>\n",
       "      <th>29</th>\n",
       "      <td>ps_car_11_cat</td>\n",
       "      <td>7.077713e-02</td>\n",
       "      <td>0.9062</td>\n",
       "    </tr>\n",
       "    <tr>\n",
       "      <th>32</th>\n",
       "      <td>ps_car_15</td>\n",
       "      <td>7.034722e-02</td>\n",
       "      <td>0.9061</td>\n",
       "    </tr>\n",
       "    <tr>\n",
       "      <th>2</th>\n",
       "      <td>ps_calc_03</td>\n",
       "      <td>1.171819e-02</td>\n",
       "      <td>0.8958</td>\n",
       "    </tr>\n",
       "    <tr>\n",
       "      <th>0</th>\n",
       "      <td>ps_calc_01</td>\n",
       "      <td>1.073811e-02</td>\n",
       "      <td>0.8956</td>\n",
       "    </tr>\n",
       "    <tr>\n",
       "      <th>1</th>\n",
       "      <td>ps_calc_02</td>\n",
       "      <td>1.236871e-03</td>\n",
       "      <td>0.8939</td>\n",
       "    </tr>\n",
       "    <tr>\n",
       "      <th>24</th>\n",
       "      <td>ps_car_07_cat</td>\n",
       "      <td>3.705369e-15</td>\n",
       "      <td>0.8937</td>\n",
       "    </tr>\n",
       "    <tr>\n",
       "      <th>21</th>\n",
       "      <td>ps_car_02_cat</td>\n",
       "      <td>3.608225e-15</td>\n",
       "      <td>0.8937</td>\n",
       "    </tr>\n",
       "    <tr>\n",
       "      <th>36</th>\n",
       "      <td>ps_ind_04_cat</td>\n",
       "      <td>0.000000e+00</td>\n",
       "      <td>0.8937</td>\n",
       "    </tr>\n",
       "    <tr>\n",
       "      <th>25</th>\n",
       "      <td>ps_car_08_cat</td>\n",
       "      <td>0.000000e+00</td>\n",
       "      <td>0.8937</td>\n",
       "    </tr>\n",
       "    <tr>\n",
       "      <th>27</th>\n",
       "      <td>ps_car_10_cat</td>\n",
       "      <td>-1.951680e-02</td>\n",
       "      <td>0.8903</td>\n",
       "    </tr>\n",
       "    <tr>\n",
       "      <th>26</th>\n",
       "      <td>ps_car_09_cat</td>\n",
       "      <td>-3.189898e-02</td>\n",
       "      <td>0.8881</td>\n",
       "    </tr>\n",
       "    <tr>\n",
       "      <th>31</th>\n",
       "      <td>ps_car_14</td>\n",
       "      <td>-4.906079e-02</td>\n",
       "      <td>0.8851</td>\n",
       "    </tr>\n",
       "    <tr>\n",
       "      <th>33</th>\n",
       "      <td>ps_ind_01</td>\n",
       "      <td>-9.569356e-02</td>\n",
       "      <td>0.8769</td>\n",
       "    </tr>\n",
       "    <tr>\n",
       "      <th>42</th>\n",
       "      <td>ps_ind_10_bin</td>\n",
       "      <td>-1.053733e-01</td>\n",
       "      <td>0.8752</td>\n",
       "    </tr>\n",
       "    <tr>\n",
       "      <th>34</th>\n",
       "      <td>ps_ind_02_cat</td>\n",
       "      <td>-1.157622e-01</td>\n",
       "      <td>0.8734</td>\n",
       "    </tr>\n",
       "    <tr>\n",
       "      <th>13</th>\n",
       "      <td>ps_calc_14</td>\n",
       "      <td>-1.193137e-01</td>\n",
       "      <td>0.8727</td>\n",
       "    </tr>\n",
       "    <tr>\n",
       "      <th>9</th>\n",
       "      <td>ps_calc_10</td>\n",
       "      <td>-1.247595e-01</td>\n",
       "      <td>0.8718</td>\n",
       "    </tr>\n",
       "    <tr>\n",
       "      <th>10</th>\n",
       "      <td>ps_calc_11</td>\n",
       "      <td>-1.425836e-01</td>\n",
       "      <td>0.8687</td>\n",
       "    </tr>\n",
       "    <tr>\n",
       "      <th>45</th>\n",
       "      <td>ps_ind_13_bin</td>\n",
       "      <td>-1.620630e-01</td>\n",
       "      <td>0.8652</td>\n",
       "    </tr>\n",
       "    <tr>\n",
       "      <th>35</th>\n",
       "      <td>ps_ind_03</td>\n",
       "      <td>-1.669803e-01</td>\n",
       "      <td>0.8644</td>\n",
       "    </tr>\n",
       "    <tr>\n",
       "      <th>30</th>\n",
       "      <td>ps_car_13</td>\n",
       "      <td>-1.726646e-01</td>\n",
       "      <td>0.8634</td>\n",
       "    </tr>\n",
       "    <tr>\n",
       "      <th>22</th>\n",
       "      <td>ps_car_04_cat</td>\n",
       "      <td>-1.927252e-01</td>\n",
       "      <td>0.8598</td>\n",
       "    </tr>\n",
       "    <tr>\n",
       "      <th>7</th>\n",
       "      <td>ps_calc_08</td>\n",
       "      <td>-1.932324e-01</td>\n",
       "      <td>0.8597</td>\n",
       "    </tr>\n",
       "    <tr>\n",
       "      <th>5</th>\n",
       "      <td>ps_calc_06</td>\n",
       "      <td>-1.965033e-01</td>\n",
       "      <td>0.8592</td>\n",
       "    </tr>\n",
       "    <tr>\n",
       "      <th>12</th>\n",
       "      <td>ps_calc_13</td>\n",
       "      <td>-2.022961e-01</td>\n",
       "      <td>0.8581</td>\n",
       "    </tr>\n",
       "    <tr>\n",
       "      <th>43</th>\n",
       "      <td>ps_ind_11_bin</td>\n",
       "      <td>-2.123358e-01</td>\n",
       "      <td>0.8564</td>\n",
       "    </tr>\n",
       "    <tr>\n",
       "      <th>6</th>\n",
       "      <td>ps_calc_07</td>\n",
       "      <td>-2.222420e-01</td>\n",
       "      <td>0.8546</td>\n",
       "    </tr>\n",
       "    <tr>\n",
       "      <th>8</th>\n",
       "      <td>ps_calc_09</td>\n",
       "      <td>-2.411528e-01</td>\n",
       "      <td>0.8513</td>\n",
       "    </tr>\n",
       "    <tr>\n",
       "      <th>47</th>\n",
       "      <td>ps_ind_15</td>\n",
       "      <td>-2.546415e-01</td>\n",
       "      <td>0.8489</td>\n",
       "    </tr>\n",
       "    <tr>\n",
       "      <th>3</th>\n",
       "      <td>ps_calc_04</td>\n",
       "      <td>-2.575683e-01</td>\n",
       "      <td>0.8484</td>\n",
       "    </tr>\n",
       "    <tr>\n",
       "      <th>4</th>\n",
       "      <td>ps_calc_05</td>\n",
       "      <td>-2.601944e-01</td>\n",
       "      <td>0.8480</td>\n",
       "    </tr>\n",
       "    <tr>\n",
       "      <th>11</th>\n",
       "      <td>ps_calc_12</td>\n",
       "      <td>-2.778755e-01</td>\n",
       "      <td>0.8449</td>\n",
       "    </tr>\n",
       "    <tr>\n",
       "      <th>28</th>\n",
       "      <td>ps_car_11</td>\n",
       "      <td>-2.976361e-01</td>\n",
       "      <td>0.8414</td>\n",
       "    </tr>\n",
       "    <tr>\n",
       "      <th>15</th>\n",
       "      <td>ps_calc_16_bin</td>\n",
       "      <td>-3.555429e-01</td>\n",
       "      <td>0.8312</td>\n",
       "    </tr>\n",
       "    <tr>\n",
       "      <th>19</th>\n",
       "      <td>ps_calc_20_bin</td>\n",
       "      <td>-3.642261e-01</td>\n",
       "      <td>0.8297</td>\n",
       "    </tr>\n",
       "    <tr>\n",
       "      <th>14</th>\n",
       "      <td>ps_calc_15_bin</td>\n",
       "      <td>-3.663898e-01</td>\n",
       "      <td>0.8293</td>\n",
       "    </tr>\n",
       "    <tr>\n",
       "      <th>16</th>\n",
       "      <td>ps_calc_17_bin</td>\n",
       "      <td>-3.664837e-01</td>\n",
       "      <td>0.8293</td>\n",
       "    </tr>\n",
       "    <tr>\n",
       "      <th>17</th>\n",
       "      <td>ps_calc_18_bin</td>\n",
       "      <td>-4.060398e-01</td>\n",
       "      <td>0.8223</td>\n",
       "    </tr>\n",
       "    <tr>\n",
       "      <th>18</th>\n",
       "      <td>ps_calc_19_bin</td>\n",
       "      <td>-4.100077e-01</td>\n",
       "      <td>0.8216</td>\n",
       "    </tr>\n",
       "    <tr>\n",
       "      <th>44</th>\n",
       "      <td>ps_ind_12_bin</td>\n",
       "      <td>-5.408752e-01</td>\n",
       "      <td>0.7986</td>\n",
       "    </tr>\n",
       "    <tr>\n",
       "      <th>49</th>\n",
       "      <td>ps_ind_17_bin</td>\n",
       "      <td>-6.983071e-01</td>\n",
       "      <td>0.7709</td>\n",
       "    </tr>\n",
       "    <tr>\n",
       "      <th>50</th>\n",
       "      <td>ps_ind_18_bin</td>\n",
       "      <td>-8.566719e-01</td>\n",
       "      <td>0.7430</td>\n",
       "    </tr>\n",
       "    <tr>\n",
       "      <th>48</th>\n",
       "      <td>ps_ind_16_bin</td>\n",
       "      <td>-9.801324e-01</td>\n",
       "      <td>0.7213</td>\n",
       "    </tr>\n",
       "    <tr>\n",
       "      <th>40</th>\n",
       "      <td>ps_ind_08_bin</td>\n",
       "      <td>-3.465925e+00</td>\n",
       "      <td>0.2841</td>\n",
       "    </tr>\n",
       "    <tr>\n",
       "      <th>41</th>\n",
       "      <td>ps_ind_09_bin</td>\n",
       "      <td>-3.639485e+00</td>\n",
       "      <td>0.2536</td>\n",
       "    </tr>\n",
       "    <tr>\n",
       "      <th>39</th>\n",
       "      <td>ps_ind_07_bin</td>\n",
       "      <td>-4.351504e+00</td>\n",
       "      <td>0.1283</td>\n",
       "    </tr>\n",
       "    <tr>\n",
       "      <th>38</th>\n",
       "      <td>ps_ind_06_bin</td>\n",
       "      <td>-5.081172e+00</td>\n",
       "      <td>0.0000</td>\n",
       "    </tr>\n",
       "  </tbody>\n",
       "</table>\n",
       "</div>"
      ],
      "text/plain": [
       "               Col          Coef  FeatImp\n",
       "46       ps_ind_14  6.041835e-01   1.0000\n",
       "23   ps_car_06_cat  4.055344e-01   0.9651\n",
       "20   ps_car_01_cat  2.778069e-01   0.9426\n",
       "37   ps_ind_05_cat  1.701105e-01   0.9237\n",
       "52       ps_reg_02  1.282714e-01   0.9163\n",
       "51       ps_reg_01  8.085595e-02   0.9080\n",
       "29   ps_car_11_cat  7.077713e-02   0.9062\n",
       "32       ps_car_15  7.034722e-02   0.9061\n",
       "2       ps_calc_03  1.171819e-02   0.8958\n",
       "0       ps_calc_01  1.073811e-02   0.8956\n",
       "1       ps_calc_02  1.236871e-03   0.8939\n",
       "24   ps_car_07_cat  3.705369e-15   0.8937\n",
       "21   ps_car_02_cat  3.608225e-15   0.8937\n",
       "36   ps_ind_04_cat  0.000000e+00   0.8937\n",
       "25   ps_car_08_cat  0.000000e+00   0.8937\n",
       "27   ps_car_10_cat -1.951680e-02   0.8903\n",
       "26   ps_car_09_cat -3.189898e-02   0.8881\n",
       "31       ps_car_14 -4.906079e-02   0.8851\n",
       "33       ps_ind_01 -9.569356e-02   0.8769\n",
       "42   ps_ind_10_bin -1.053733e-01   0.8752\n",
       "34   ps_ind_02_cat -1.157622e-01   0.8734\n",
       "13      ps_calc_14 -1.193137e-01   0.8727\n",
       "9       ps_calc_10 -1.247595e-01   0.8718\n",
       "10      ps_calc_11 -1.425836e-01   0.8687\n",
       "45   ps_ind_13_bin -1.620630e-01   0.8652\n",
       "35       ps_ind_03 -1.669803e-01   0.8644\n",
       "30       ps_car_13 -1.726646e-01   0.8634\n",
       "22   ps_car_04_cat -1.927252e-01   0.8598\n",
       "7       ps_calc_08 -1.932324e-01   0.8597\n",
       "5       ps_calc_06 -1.965033e-01   0.8592\n",
       "12      ps_calc_13 -2.022961e-01   0.8581\n",
       "43   ps_ind_11_bin -2.123358e-01   0.8564\n",
       "6       ps_calc_07 -2.222420e-01   0.8546\n",
       "8       ps_calc_09 -2.411528e-01   0.8513\n",
       "47       ps_ind_15 -2.546415e-01   0.8489\n",
       "3       ps_calc_04 -2.575683e-01   0.8484\n",
       "4       ps_calc_05 -2.601944e-01   0.8480\n",
       "11      ps_calc_12 -2.778755e-01   0.8449\n",
       "28       ps_car_11 -2.976361e-01   0.8414\n",
       "15  ps_calc_16_bin -3.555429e-01   0.8312\n",
       "19  ps_calc_20_bin -3.642261e-01   0.8297\n",
       "14  ps_calc_15_bin -3.663898e-01   0.8293\n",
       "16  ps_calc_17_bin -3.664837e-01   0.8293\n",
       "17  ps_calc_18_bin -4.060398e-01   0.8223\n",
       "18  ps_calc_19_bin -4.100077e-01   0.8216\n",
       "44   ps_ind_12_bin -5.408752e-01   0.7986\n",
       "49   ps_ind_17_bin -6.983071e-01   0.7709\n",
       "50   ps_ind_18_bin -8.566719e-01   0.7430\n",
       "48   ps_ind_16_bin -9.801324e-01   0.7213\n",
       "40   ps_ind_08_bin -3.465925e+00   0.2841\n",
       "41   ps_ind_09_bin -3.639485e+00   0.2536\n",
       "39   ps_ind_07_bin -4.351504e+00   0.1283\n",
       "38   ps_ind_06_bin -5.081172e+00   0.0000"
      ]
     },
     "execution_count": 46,
     "metadata": {},
     "output_type": "execute_result"
    }
   ],
   "source": [
    "#Group OneHotEncoded features\n",
    "feat_imp[\"Col\"] = feat_imp[\"Col\"].apply(lambda x: (x.split('cat')[0]+'cat') if 'cat' in x else x)\n",
    "feat_imp = feat_imp.groupby(\"Col\",as_index=False).sum().sort_values(\"Coef\", ascending=False)\n",
    "#Scale Weights\n",
    "feat_imp[\"FeatImp\"] = (\n",
    "        (feat_imp[\"Coef\"] - feat_imp[\"Coef\"].min())\n",
    "        / (feat_imp[\"Coef\"].max() - feat_imp[\"Coef\"].min())\n",
    "    ).round(4)\n",
    "feat_imp"
   ]
  },
  {
   "cell_type": "code",
   "execution_count": 47,
   "metadata": {},
   "outputs": [
    {
     "data": {
      "image/png": "[encoded data removed]",
      "text/plain": [
       "<Figure size 720x720 with 1 Axes>"
      ]
     },
     "metadata": {
      "needs_background": "light"
     },
     "output_type": "display_data"
    }
   ],
   "source": [
    "num_features = 10 \n",
    "\n",
    "pyplot.figure(figsize=(10,10))\n",
    "pyplot.title('Feature Importances')\n",
    "\n",
    "# only plot the customized number of features\n",
    "pyplot.barh(range(num_features), feat_imp['FeatImp'][:num_features][::-1], color='b', align='center')\n",
    "pyplot.yticks(range(num_features), feat_imp['Col'][:num_features][::-1])\n",
    "pyplot.xlabel('Relative Importance')\n",
    "pyplot.show()"
   ]
  },
  {
   "cell_type": "markdown",
   "metadata": {},
   "source": [
    "* Logistic Regression takes importances of 48 columns out of 52 columns\n"
   ]
  },
  {
   "cell_type": "markdown",
   "metadata": {},
   "source": [
    "### Performing Cross Validation"
   ]
  },
  {
   "cell_type": "code",
   "execution_count": 32,
   "metadata": {},
   "outputs": [
    {
     "name": "stdout",
     "output_type": "stream",
     "text": [
      "Time taken to fit the model in sec is  352.82618309999816\n",
      "Time taken to perform cv for the model in sec is  1713.2629760999698\n",
      "Cv2 scores: [0.36417213 0.6693039  0.67169267 0.67212857 0.67413374]\n",
      "Mean 5-Fold R Squared: 0.6102862038404651\n"
     ]
    }
   ],
   "source": [
    "lr = LogisticRegression(solver='sag',max_iter=200)\n",
    "\n",
    "start_time = timeit.default_timer()\n",
    "lr.fit(train_sc,y_train)\n",
    "elapsed = timeit.default_timer() - start_time\n",
    "print(\"Time taken to fit the model in sec is \",elapsed)\n",
    "\n",
    "start_time = timeit.default_timer()\n",
    "#perform k fold\n",
    "cv_r2_scores_rf = cross_val_score(lr, X, Y, cv=5,scoring='r2')\n",
    "elapsed = timeit.default_timer() - start_time\n",
    "print(\"Time taken to perform cv for the model in sec is \",elapsed)\n",
    "\n",
    "print(\"Cv2 scores:\",cv_r2_scores_rf)\n",
    "print(\"Mean 5-Fold R Squared: {}\".format(np.mean(cv_r2_scores_rf)))"
   ]
  },
  {
   "cell_type": "code",
   "execution_count": 33,
   "metadata": {},
   "outputs": [
    {
     "name": "stdout",
     "output_type": "stream",
     "text": [
      "Time taken to fit the model in sec is  345.28897619998315\n",
      "Time taken to perform cv for the model in sec is  3877.1906133000157\n",
      "Cv2 scores: [0.054645   0.67146743 0.67310643 0.66679453 0.67376901 0.67219975\n",
      " 0.67292922 0.67306871 0.67707907 0.67355693]\n",
      "Mean 5-Fold R Squared: 0.6108616060665297\n"
     ]
    }
   ],
   "source": [
    "lr = LogisticRegression(solver='sag',max_iter=200)\n",
    "\n",
    "start_time = timeit.default_timer()\n",
    "lr.fit(train_sc,y_train)\n",
    "elapsed = timeit.default_timer() - start_time\n",
    "print(\"Time taken to fit the model in sec is \",elapsed)\n",
    "\n",
    "start_time = timeit.default_timer()\n",
    "#perform k fold\n",
    "cv_r2_scores_rf = cross_val_score(lr, X, Y, cv=10,scoring='r2')\n",
    "elapsed = timeit.default_timer() - start_time\n",
    "print(\"Time taken to perform cv for the model in sec is \",elapsed)\n",
    "\n",
    "print(\"Cv2 scores:\",cv_r2_scores_rf)\n",
    "print(\"Mean 5-Fold R Squared: {}\".format(np.mean(cv_r2_scores_rf)))"
   ]
  },
  {
   "cell_type": "markdown",
   "metadata": {},
   "source": [
    "* We see that the metrics for folds in cross_val_score are uniform so it can be concluded that the model is able to generalise"
   ]
  }
 ],
 "metadata": {
  "colab": {
   "provenance": []
  },
  "kernelspec": {
   "display_name": "Python 3 (ipykernel)",
   "language": "python",
   "name": "python3"
  },
  "language_info": {
   "codemirror_mode": {
    "name": "ipython",
    "version": 3
   },
   "file_extension": ".py",
   "mimetype": "text/x-python",
   "name": "python",
   "nbconvert_exporter": "python",
   "pygments_lexer": "ipython3",
   "version": "3.9.7"
  }
 },
 "nbformat": 4,
 "nbformat_minor": 1
}
