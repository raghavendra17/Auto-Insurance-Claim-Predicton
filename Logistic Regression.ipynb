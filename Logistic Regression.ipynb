{
 "cells": [
  {
   "cell_type": "markdown",
   "metadata": {
    "id": "P2U4AUV_JMmP"
   },
   "source": [
    "## Modelling"
   ]
  },
  {
   "cell_type": "code",
   "execution_count": 1,
   "metadata": {
    "id": "FVFLkSdKo0s_"
   },
   "outputs": [],
   "source": [
    "import pandas as pd\n",
    "import numpy as np\n",
    "from sklearn.model_selection import train_test_split,cross_val_score\n",
    "from sklearn.linear_model import LogisticRegression\n",
    "import timeit\n",
    "import seaborn as sns\n",
    "from sklearn.metrics import confusion_matrix,classification_report,accuracy_score,f1_score,precision_score,recall_score,RocCurveDisplay"
   ]
  },
  {
   "cell_type": "code",
   "execution_count": 2,
   "metadata": {},
   "outputs": [],
   "source": [
    "initial_df=pd.read_csv('original_data_with_encoding.csv')\n",
    "x_resampled=pd.read_csv('resampled_without_encoding.csv')\n",
    "y_resampled=pd.read_csv('y_resampled.csv')\n",
    "standard_scale_data=pd.read_csv('standard_scale_resampled_with_encoding.csv')\n",
    "min_max_scale_data=pd.read_csv('min_max_resampled_with_encoding.csv')"
   ]
  },
  {
   "cell_type": "markdown",
   "metadata": {},
   "source": [
    "### Data without Resampling"
   ]
  },
  {
   "cell_type": "code",
   "execution_count": 3,
   "metadata": {
    "id": "ZxaC3ah155Mg"
   },
   "outputs": [],
   "source": [
    "X = initial_df.drop('target',axis=1).values\n",
    "Y = initial_df['target'].values\n",
    "X_train,X_test,y_train,y_test=train_test_split(X,Y,test_size=0.2,random_state=10)"
   ]
  },
  {
   "cell_type": "code",
   "execution_count": 4,
   "metadata": {},
   "outputs": [
    {
     "name": "stdout",
     "output_type": "stream",
     "text": [
      "Time taken to fit the model in sec is  13.915316600000011\n",
      "[[114633      0]\n",
      " [  4410      0]]\n"
     ]
    },
    {
     "name": "stderr",
     "output_type": "stream",
     "text": [
      "C:\\Users\\Raghavendra Reddy\\AppData\\Roaming\\Python\\Python39\\site-packages\\sklearn\\linear_model\\_logistic.py:444: ConvergenceWarning: lbfgs failed to converge (status=1):\n",
      "STOP: TOTAL NO. of ITERATIONS REACHED LIMIT.\n",
      "\n",
      "Increase the number of iterations (max_iter) or scale the data as shown in:\n",
      "    https://scikit-learn.org/stable/modules/preprocessing.html\n",
      "Please also refer to the documentation for alternative solver options:\n",
      "    https://scikit-learn.org/stable/modules/linear_model.html#logistic-regression\n",
      "  n_iter_i = _check_optimize_result(\n"
     ]
    }
   ],
   "source": [
    "lr = LogisticRegression()\n",
    "\n",
    "start_time = timeit.default_timer()\n",
    "lr.fit(X_train,y_train)\n",
    "elapsed = timeit.default_timer() - start_time\n",
    "print(\"Time taken to fit the model in sec is \",elapsed)\n",
    "\n",
    "y_pred=lr.predict(X_test)\n",
    "cnf_matrix = confusion_matrix(y_test, y_pred)\n",
    "print(cnf_matrix)"
   ]
  },
  {
   "cell_type": "code",
   "execution_count": 5,
   "metadata": {
    "id": "qTQyJDnN6Qga"
   },
   "outputs": [
    {
     "name": "stdout",
     "output_type": "stream",
     "text": [
      "Accuracy score:0.9630\n"
     ]
    }
   ],
   "source": [
    "print(f\"Accuracy score:{accuracy_score(y_test, y_pred):.4f}\")"
   ]
  },
  {
   "cell_type": "markdown",
   "metadata": {
    "id": "NPk-Rx97US7F"
   },
   "source": [
    "* 1) If there is no oversampling the accuracy is 96.3.But as data is imbalanced data we don't need accuracy.Because majority of them are negative and model predicted all values as negative and so accuracy is high\n"
   ]
  },
  {
   "cell_type": "code",
   "execution_count": 6,
   "metadata": {
    "id": "Fas3DzRnBnLR"
   },
   "outputs": [
    {
     "name": "stdout",
     "output_type": "stream",
     "text": [
      "0.0\n"
     ]
    }
   ],
   "source": [
    "print(f1_score(y_test, y_pred))"
   ]
  },
  {
   "cell_type": "markdown",
   "metadata": {
    "id": "ATyt20x2UA5Q"
   },
   "source": [
    "* 2) f2 score is 0 as there are no predicted values either correctly predicted (True positives)or wrongly predicted(False positives) as positive.\n",
    "*    The accuracy is high as there are so many negatives and all values are predicted as negative"
   ]
  },
  {
   "cell_type": "code",
   "execution_count": 7,
   "metadata": {
    "id": "lbHAm0feSiaO"
   },
   "outputs": [
    {
     "name": "stdout",
     "output_type": "stream",
     "text": [
      "Recall score : 0.0000\n",
      "Precision score : 0.0000\n"
     ]
    },
    {
     "name": "stderr",
     "output_type": "stream",
     "text": [
      "C:\\Users\\Raghavendra Reddy\\AppData\\Roaming\\Python\\Python39\\site-packages\\sklearn\\metrics\\_classification.py:1334: UndefinedMetricWarning: Precision is ill-defined and being set to 0.0 due to no predicted samples. Use `zero_division` parameter to control this behavior.\n",
      "  _warn_prf(average, modifier, msg_start, len(result))\n"
     ]
    }
   ],
   "source": [
    "print(f\"Recall score : {recall_score(y_test, y_pred):.4f}\")\n",
    "print(f\"Precision score : {precision_score(y_test, y_pred):.4f}\")"
   ]
  },
  {
   "cell_type": "markdown",
   "metadata": {
    "id": "VVM6D_swBLtd"
   },
   "source": [
    "\n",
    "\n",
    "* 3) Precision and recall values are 0"
   ]
  },
  {
   "cell_type": "markdown",
   "metadata": {
    "id": "xcRDxMojUgrd"
   },
   "source": [
    "### Most Inference\n",
    "\n",
    "* 4) All values are precited as negative as majority of values in dataset is negative.We are missing positive cases\n",
    "So oversampling is needed to overcome this problem\n",
    "\n",
    "\n",
    "\n"
   ]
  },
  {
   "cell_type": "markdown",
   "metadata": {},
   "source": [
    "### Data with Resampling and without OneHotEncoding"
   ]
  },
  {
   "cell_type": "code",
   "execution_count": 8,
   "metadata": {},
   "outputs": [],
   "source": [
    "X = x_resampled.values\n",
    "Y = np.squeeze(y_resampled.values)\n",
    "X_train,X_test,y_train,y_test=train_test_split(X,Y,test_size=0.2,random_state=10)"
   ]
  },
  {
   "cell_type": "code",
   "execution_count": 9,
   "metadata": {
    "id": "T9dJAe6eHDWU"
   },
   "outputs": [
    {
     "name": "stdout",
     "output_type": "stream",
     "text": [
      "Time taken to fit the model in sec is  13.047959399999996\n"
     ]
    },
    {
     "name": "stderr",
     "output_type": "stream",
     "text": [
      "C:\\Users\\Raghavendra Reddy\\AppData\\Roaming\\Python\\Python39\\site-packages\\sklearn\\linear_model\\_logistic.py:444: ConvergenceWarning: lbfgs failed to converge (status=1):\n",
      "STOP: TOTAL NO. of ITERATIONS REACHED LIMIT.\n",
      "\n",
      "Increase the number of iterations (max_iter) or scale the data as shown in:\n",
      "    https://scikit-learn.org/stable/modules/preprocessing.html\n",
      "Please also refer to the documentation for alternative solver options:\n",
      "    https://scikit-learn.org/stable/modules/linear_model.html#logistic-regression\n",
      "  n_iter_i = _check_optimize_result(\n"
     ]
    }
   ],
   "source": [
    "lr = LogisticRegression()\n",
    "\n",
    "start_time = timeit.default_timer()\n",
    "lr.fit(X_train,y_train)\n",
    "elapsed = timeit.default_timer() - start_time\n",
    "print(\"Time taken to fit the model in sec is \",elapsed)\n",
    "\n",
    "y_pred=lr.predict(X_test)"
   ]
  },
  {
   "cell_type": "code",
   "execution_count": 10,
   "metadata": {
    "id": "oBpWqrQIYMkH"
   },
   "outputs": [
    {
     "name": "stdout",
     "output_type": "stream",
     "text": [
      "Accuracy score: 0.8822\n",
      "F1 score : 0.8788\n",
      "Recall score : 0.8519\n",
      "Precision score : 0.9076\n"
     ]
    }
   ],
   "source": [
    "print(f\"Accuracy score: {accuracy_score(y_test, y_pred):.4f}\")\n",
    "print(f\"F1 score : {f1_score(y_test, y_pred):.4f}\")\n",
    "print(f\"Recall score : {recall_score(y_test, y_pred):.4f}\")\n",
    "print(f\"Precision score : {precision_score(y_test, y_pred):.4f}\")"
   ]
  },
  {
   "cell_type": "code",
   "execution_count": 11,
   "metadata": {},
   "outputs": [
    {
     "data": {
      "text/plain": [
       "<AxesSubplot:>"
      ]
     },
     "execution_count": 11,
     "metadata": {},
     "output_type": "execute_result"
    },
    {
     "data": {
      "image/png": "[encoded data removed]",
      "text/plain": [
       "<Figure size 432x288 with 2 Axes>"
      ]
     },
     "metadata": {
      "needs_background": "light"
     },
     "output_type": "display_data"
    }
   ],
   "source": [
    "sns.heatmap(confusion_matrix(y_test,y_pred),annot=True, fmt='', cmap='Blues')"
   ]
  },
  {
   "cell_type": "code",
   "execution_count": 12,
   "metadata": {
    "id": "m4m9v1x5xlLw"
   },
   "outputs": [
    {
     "name": "stdout",
     "output_type": "stream",
     "text": [
      "              precision    recall  f1-score   support\n",
      "\n",
      "           0       0.86      0.91      0.89    114386\n",
      "           1       0.91      0.85      0.88    115022\n",
      "\n",
      "    accuracy                           0.88    229408\n",
      "   macro avg       0.88      0.88      0.88    229408\n",
      "weighted avg       0.88      0.88      0.88    229408\n",
      "\n"
     ]
    }
   ],
   "source": [
    "print(classification_report(y_test, y_pred))"
   ]
  },
  {
   "cell_type": "code",
   "execution_count": 13,
   "metadata": {},
   "outputs": [
    {
     "name": "stdout",
     "output_type": "stream",
     "text": [
      "Accuracy score: 0.8818\n",
      "F1 score : 0.8781\n",
      "Recall score : 0.8519\n",
      "Precision score : 0.9059\n"
     ]
    }
   ],
   "source": [
    "y_pred1=lr.predict(X_train)\n",
    "print(f\"Accuracy score: {accuracy_score(y_train, y_pred1):.4f}\")\n",
    "print(f\"F1 score : {f1_score(y_train, y_pred1):.4f}\")\n",
    "print(f\"Recall score : {recall_score(y_train, y_pred1):.4f}\")\n",
    "print(f\"Precision score : {precision_score(y_train, y_pred1):.4f}\")"
   ]
  },
  {
   "cell_type": "code",
   "execution_count": 14,
   "metadata": {},
   "outputs": [
    {
     "data": {
      "text/plain": [
       "{'C': 1.0,\n",
       " 'class_weight': None,\n",
       " 'dual': False,\n",
       " 'fit_intercept': True,\n",
       " 'intercept_scaling': 1,\n",
       " 'l1_ratio': None,\n",
       " 'max_iter': 100,\n",
       " 'multi_class': 'auto',\n",
       " 'n_jobs': None,\n",
       " 'penalty': 'l2',\n",
       " 'random_state': None,\n",
       " 'solver': 'lbfgs',\n",
       " 'tol': 0.0001,\n",
       " 'verbose': 0,\n",
       " 'warm_start': False}"
      ]
     },
     "execution_count": 14,
     "metadata": {},
     "output_type": "execute_result"
    }
   ],
   "source": [
    "lr.get_params()"
   ]
  },
  {
   "cell_type": "code",
   "execution_count": 15,
   "metadata": {},
   "outputs": [
    {
     "data": {
      "text/plain": [
       "<sklearn.metrics._plot.roc_curve.RocCurveDisplay at 0x16304e42f70>"
      ]
     },
     "execution_count": 15,
     "metadata": {},
     "output_type": "execute_result"
    },
    {
     "data": {
      "image/png": "[encoded data removed]",
      "text/plain": [
       "<Figure size 432x288 with 1 Axes>"
      ]
     },
     "metadata": {
      "needs_background": "light"
     },
     "output_type": "display_data"
    }
   ],
   "source": [
    "RocCurveDisplay.from_predictions(y_test, y_pred)"
   ]
  },
  {
   "cell_type": "code",
   "execution_count": 16,
   "metadata": {},
   "outputs": [
    {
     "data": {
      "text/plain": [
       "<sklearn.metrics._plot.roc_curve.RocCurveDisplay at 0x16304e429a0>"
      ]
     },
     "execution_count": 16,
     "metadata": {},
     "output_type": "execute_result"
    },
    {
     "data": {
      "image/png": "[encoded data removed]",
      "text/plain": [
       "<Figure size 432x288 with 1 Axes>"
      ]
     },
     "metadata": {
      "needs_background": "light"
     },
     "output_type": "display_data"
    }
   ],
   "source": [
    "RocCurveDisplay.from_estimator(lr, X_test, y_test)"
   ]
  },
  {
   "cell_type": "markdown",
   "metadata": {},
   "source": [
    "### Data with Resampling and with OneHotEncoding"
   ]
  },
  {
   "cell_type": "markdown",
   "metadata": {},
   "source": [
    "* StandardScaling Data"
   ]
  },
  {
   "cell_type": "code",
   "execution_count": 17,
   "metadata": {},
   "outputs": [],
   "source": [
    "X = standard_scale_data.values\n",
    "Y = np.squeeze(y_resampled.values)\n",
    "X_train,X_test1,y_train,y_test1=train_test_split(X,Y,test_size=0.2,random_state=10)"
   ]
  },
  {
   "cell_type": "code",
   "execution_count": 18,
   "metadata": {},
   "outputs": [
    {
     "name": "stdout",
     "output_type": "stream",
     "text": [
      "Time taken to fit the model in sec is  28.0657157\n"
     ]
    },
    {
     "name": "stderr",
     "output_type": "stream",
     "text": [
      "C:\\Users\\Raghavendra Reddy\\AppData\\Roaming\\Python\\Python39\\site-packages\\sklearn\\linear_model\\_logistic.py:444: ConvergenceWarning: lbfgs failed to converge (status=1):\n",
      "STOP: TOTAL NO. of ITERATIONS REACHED LIMIT.\n",
      "\n",
      "Increase the number of iterations (max_iter) or scale the data as shown in:\n",
      "    https://scikit-learn.org/stable/modules/preprocessing.html\n",
      "Please also refer to the documentation for alternative solver options:\n",
      "    https://scikit-learn.org/stable/modules/linear_model.html#logistic-regression\n",
      "  n_iter_i = _check_optimize_result(\n"
     ]
    }
   ],
   "source": [
    "lr1 = LogisticRegression()\n",
    "\n",
    "start_time = timeit.default_timer()\n",
    "lr1.fit(X_train,y_train)\n",
    "elapsed = timeit.default_timer() - start_time\n",
    "print(\"Time taken to fit the model in sec is \",elapsed)\n",
    "\n",
    "y_pred1=lr1.predict(X_test1)\n"
   ]
  },
  {
   "cell_type": "code",
   "execution_count": 19,
   "metadata": {},
   "outputs": [
    {
     "name": "stdout",
     "output_type": "stream",
     "text": [
      "Accuracy score: 0.9025\n",
      "F1 score : 0.8997\n",
      "Recall score : 0.8717\n",
      "Precision score : 0.9295\n"
     ]
    }
   ],
   "source": [
    "print(f\"Accuracy score: {accuracy_score(y_test1, y_pred1):.4f}\")\n",
    "print(f\"F1 score : {f1_score(y_test1, y_pred1):.4f}\")\n",
    "print(f\"Recall score : {recall_score(y_test1, y_pred1):.4f}\")\n",
    "print(f\"Precision score : {precision_score(y_test1, y_pred1):.4f}\")"
   ]
  },
  {
   "cell_type": "code",
   "execution_count": 20,
   "metadata": {},
   "outputs": [
    {
     "data": {
      "text/plain": [
       "<AxesSubplot:>"
      ]
     },
     "execution_count": 20,
     "metadata": {},
     "output_type": "execute_result"
    },
    {
     "data": {
      "image/png": "[encoded data removed]",
      "text/plain": [
       "<Figure size 432x288 with 2 Axes>"
      ]
     },
     "metadata": {
      "needs_background": "light"
     },
     "output_type": "display_data"
    }
   ],
   "source": [
    "sns.heatmap(confusion_matrix(y_test1,y_pred1),annot=True, fmt='', cmap='Blues')"
   ]
  },
  {
   "cell_type": "code",
   "execution_count": 21,
   "metadata": {},
   "outputs": [
    {
     "name": "stdout",
     "output_type": "stream",
     "text": [
      "              precision    recall  f1-score   support\n",
      "\n",
      "           0       0.88      0.93      0.91    114386\n",
      "           1       0.93      0.87      0.90    115022\n",
      "\n",
      "    accuracy                           0.90    229408\n",
      "   macro avg       0.90      0.90      0.90    229408\n",
      "weighted avg       0.90      0.90      0.90    229408\n",
      "\n"
     ]
    }
   ],
   "source": [
    "print(classification_report(y_test1, y_pred1))"
   ]
  },
  {
   "cell_type": "code",
   "execution_count": 22,
   "metadata": {},
   "outputs": [
    {
     "data": {
      "text/plain": [
       "<sklearn.metrics._plot.roc_curve.RocCurveDisplay at 0x16305136a30>"
      ]
     },
     "execution_count": 22,
     "metadata": {},
     "output_type": "execute_result"
    },
    {
     "data": {
      "image/png": "[encoded data removed]",
      "text/plain": [
       "<Figure size 432x288 with 1 Axes>"
      ]
     },
     "metadata": {
      "needs_background": "light"
     },
     "output_type": "display_data"
    }
   ],
   "source": [
    "RocCurveDisplay.from_predictions(y_test1, y_pred1)"
   ]
  },
  {
   "cell_type": "code",
   "execution_count": 23,
   "metadata": {},
   "outputs": [
    {
     "data": {
      "text/plain": [
       "<sklearn.metrics._plot.roc_curve.RocCurveDisplay at 0x16304c99370>"
      ]
     },
     "execution_count": 23,
     "metadata": {},
     "output_type": "execute_result"
    },
    {
     "data": {
      "image/png": "[encoded data removed]",
      "text/plain": [
       "<Figure size 432x288 with 1 Axes>"
      ]
     },
     "metadata": {
      "needs_background": "light"
     },
     "output_type": "display_data"
    }
   ],
   "source": [
    "RocCurveDisplay.from_estimator(lr1, X_test1, y_test1)"
   ]
  },
  {
   "cell_type": "code",
   "execution_count": 24,
   "metadata": {},
   "outputs": [
    {
     "name": "stdout",
     "output_type": "stream",
     "text": [
      "Accuracy score: 0.9030\n",
      "F1 score : 0.8999\n",
      "Recall score : 0.8718\n",
      "Precision score : 0.9297\n"
     ]
    }
   ],
   "source": [
    "y_pred1=lr1.predict(X_train)\n",
    "print(f\"Accuracy score: {accuracy_score(y_train, y_pred1):.4f}\")\n",
    "print(f\"F1 score : {f1_score(y_train, y_pred1):.4f}\")\n",
    "print(f\"Recall score : {recall_score(y_train, y_pred1):.4f}\")\n",
    "print(f\"Precision score : {precision_score(y_train, y_pred1):.4f}\")"
   ]
  },
  {
   "cell_type": "markdown",
   "metadata": {},
   "source": [
    "##### MinMaxScaled data"
   ]
  },
  {
   "cell_type": "code",
   "execution_count": 25,
   "metadata": {},
   "outputs": [],
   "source": [
    "X = min_max_scale_data.values\n",
    "Y = np.squeeze(y_resampled.values)\n",
    "X_train,X_test2,y_train,y_test2=train_test_split(X,Y,test_size=0.2,random_state=10)"
   ]
  },
  {
   "cell_type": "code",
   "execution_count": 26,
   "metadata": {},
   "outputs": [
    {
     "name": "stdout",
     "output_type": "stream",
     "text": [
      "Time taken to fit the model in sec is  28.6182235\n"
     ]
    },
    {
     "name": "stderr",
     "output_type": "stream",
     "text": [
      "C:\\Users\\Raghavendra Reddy\\AppData\\Roaming\\Python\\Python39\\site-packages\\sklearn\\linear_model\\_logistic.py:444: ConvergenceWarning: lbfgs failed to converge (status=1):\n",
      "STOP: TOTAL NO. of ITERATIONS REACHED LIMIT.\n",
      "\n",
      "Increase the number of iterations (max_iter) or scale the data as shown in:\n",
      "    https://scikit-learn.org/stable/modules/preprocessing.html\n",
      "Please also refer to the documentation for alternative solver options:\n",
      "    https://scikit-learn.org/stable/modules/linear_model.html#logistic-regression\n",
      "  n_iter_i = _check_optimize_result(\n"
     ]
    }
   ],
   "source": [
    "lr2 = LogisticRegression()\n",
    "\n",
    "start_time = timeit.default_timer()\n",
    "lr2.fit(X_train,y_train)\n",
    "elapsed = timeit.default_timer() - start_time\n",
    "print(\"Time taken to fit the model in sec is \",elapsed)\n",
    "\n",
    "y_pred2=lr2.predict(X_test2)\n"
   ]
  },
  {
   "cell_type": "code",
   "execution_count": 27,
   "metadata": {},
   "outputs": [
    {
     "name": "stdout",
     "output_type": "stream",
     "text": [
      "Accuracy score:0.9025\n",
      "F1 score : 0.8997\n",
      "Recall score : 0.8717\n",
      "Precision score : 0.9294\n"
     ]
    }
   ],
   "source": [
    "print(f\"Accuracy score:{accuracy_score(y_test2, y_pred2):.4f}\")\n",
    "print(f\"F1 score : {f1_score(y_test2, y_pred2):.4f}\")\n",
    "print(f\"Recall score : {recall_score(y_test2, y_pred2):.4f}\")\n",
    "print(f\"Precision score : {precision_score(y_test2, y_pred2):.4f}\")"
   ]
  },
  {
   "cell_type": "code",
   "execution_count": 28,
   "metadata": {},
   "outputs": [
    {
     "data": {
      "text/plain": [
       "<AxesSubplot:>"
      ]
     },
     "execution_count": 28,
     "metadata": {},
     "output_type": "execute_result"
    },
    {
     "data": {
      "image/png": "[encoded data removed]",
      "text/plain": [
       "<Figure size 432x288 with 2 Axes>"
      ]
     },
     "metadata": {
      "needs_background": "light"
     },
     "output_type": "display_data"
    }
   ],
   "source": [
    "sns.heatmap(confusion_matrix(y_test2,y_pred2),annot=True, fmt='', cmap='Blues')"
   ]
  },
  {
   "cell_type": "code",
   "execution_count": 29,
   "metadata": {},
   "outputs": [
    {
     "name": "stdout",
     "output_type": "stream",
     "text": [
      "              precision    recall  f1-score   support\n",
      "\n",
      "           0       0.88      0.93      0.91    114386\n",
      "           1       0.93      0.87      0.90    115022\n",
      "\n",
      "    accuracy                           0.90    229408\n",
      "   macro avg       0.90      0.90      0.90    229408\n",
      "weighted avg       0.90      0.90      0.90    229408\n",
      "\n"
     ]
    }
   ],
   "source": [
    "print(classification_report(y_test2, y_pred2))"
   ]
  },
  {
   "cell_type": "code",
   "execution_count": 30,
   "metadata": {},
   "outputs": [
    {
     "data": {
      "text/plain": [
       "<sklearn.metrics._plot.roc_curve.RocCurveDisplay at 0x16304fb6bb0>"
      ]
     },
     "execution_count": 30,
     "metadata": {},
     "output_type": "execute_result"
    },
    {
     "data": {
      "image/png": "[encoded data removed]",
      "text/plain": [
       "<Figure size 432x288 with 1 Axes>"
      ]
     },
     "metadata": {
      "needs_background": "light"
     },
     "output_type": "display_data"
    }
   ],
   "source": [
    "RocCurveDisplay.from_predictions(y_test2, y_pred2)"
   ]
  },
  {
   "cell_type": "code",
   "execution_count": 31,
   "metadata": {},
   "outputs": [
    {
     "data": {
      "text/plain": [
       "<sklearn.metrics._plot.roc_curve.RocCurveDisplay at 0x16304c897c0>"
      ]
     },
     "execution_count": 31,
     "metadata": {},
     "output_type": "execute_result"
    },
    {
     "data": {
      "image/png": "[encoded data removed]",
      "text/plain": [
       "<Figure size 432x288 with 1 Axes>"
      ]
     },
     "metadata": {
      "needs_background": "light"
     },
     "output_type": "display_data"
    }
   ],
   "source": [
    "RocCurveDisplay.from_estimator(lr2, X_test2, y_test2)"
   ]
  },
  {
   "cell_type": "code",
   "execution_count": 32,
   "metadata": {},
   "outputs": [
    {
     "name": "stdout",
     "output_type": "stream",
     "text": [
      "Accuracy score: 0.9031\n",
      "F1 score : 0.8999\n",
      "Recall score : 0.8719\n",
      "Precision score : 0.9297\n"
     ]
    }
   ],
   "source": [
    "y_pred1=lr2.predict(X_train)\n",
    "print(f\"Accuracy score: {accuracy_score(y_train, y_pred1):.4f}\")\n",
    "print(f\"F1 score : {f1_score(y_train, y_pred1):.4f}\")\n",
    "print(f\"Recall score : {recall_score(y_train, y_pred1):.4f}\")\n",
    "print(f\"Precision score : {precision_score(y_train, y_pred1):.4f}\")"
   ]
  },
  {
   "cell_type": "markdown",
   "metadata": {},
   "source": [
    "### One Hot Encoding improved accuracy"
   ]
  },
  {
   "cell_type": "markdown",
   "metadata": {},
   "source": [
    "* 5) The accuracy score is 0.9024 and f1_score is 0.90 for both standard scaling and minmax scaling\n",
    "* 6) f1_score is improved as data is balanced data due to oversampling\n",
    "\n"
   ]
  },
  {
   "cell_type": "markdown",
   "metadata": {},
   "source": [
    "### Performing Cross Validation"
   ]
  },
  {
   "cell_type": "code",
   "execution_count": 26,
   "metadata": {},
   "outputs": [
    {
     "name": "stdout",
     "output_type": "stream",
     "text": [
      "Time taken to fit the model in sec is  420.47019939999996\n",
      "Time taken to perform cv for the model in sec is  2066.6223652999997\n",
      "Cv2 scores: [0.3639629  0.66914697 0.67177985 0.67172754 0.67385476]\n",
      "Mean 5-Fold R Squared: 0.6100944051675657\n"
     ]
    }
   ],
   "source": [
    "lr = LogisticRegression(solver='sag',max_iter=200)\n",
    "\n",
    "start_time = timeit.default_timer()\n",
    "lr.fit(X_train,y_train)\n",
    "elapsed = timeit.default_timer() - start_time\n",
    "print(\"Time taken to fit the model in sec is \",elapsed)\n",
    "\n",
    "start_time = timeit.default_timer()\n",
    "#perform k fold\n",
    "cv_r2_scores_rf = cross_val_score(lr, X, Y, cv=5,scoring='r2')\n",
    "elapsed = timeit.default_timer() - start_time\n",
    "print(\"Time taken to perform cv for the model in sec is \",elapsed)\n",
    "\n",
    "print(\"Cv2 scores:\",cv_r2_scores_rf)\n",
    "print(\"Mean 5-Fold R Squared: {}\".format(np.mean(cv_r2_scores_rf)))"
   ]
  },
  {
   "cell_type": "code",
   "execution_count": 35,
   "metadata": {},
   "outputs": [
    {
     "name": "stdout",
     "output_type": "stream",
     "text": [
      "Time taken to fit the model in sec is  323.1318456\n",
      "Time taken to perform cv for the model in sec is  3972.1788487000003\n",
      "Cv2 scores: [0.05429628 0.67157205 0.67296694 0.66616683 0.67317618 0.67226949\n",
      " 0.67341743 0.67317333 0.67714881 0.67275485]\n",
      "Mean 5-Fold R Squared: 0.6106942185826653\n"
     ]
    }
   ],
   "source": [
    "lr = LogisticRegression(solver='sag',max_iter=200)\n",
    "\n",
    "start_time = timeit.default_timer()\n",
    "lr.fit(X_train,y_train)\n",
    "elapsed = timeit.default_timer() - start_time\n",
    "print(\"Time taken to fit the model in sec is \",elapsed)\n",
    "\n",
    "start_time = timeit.default_timer()\n",
    "#perform k fold\n",
    "cv_r2_scores_rf = cross_val_score(lr, X, Y, cv=10,scoring='r2')\n",
    "elapsed = timeit.default_timer() - start_time\n",
    "print(\"Time taken to perform cv for the model in sec is \",elapsed)\n",
    "\n",
    "print(\"Cv2 scores:\",cv_r2_scores_rf)\n",
    "print(\"Mean 5-Fold R Squared: {}\".format(np.mean(cv_r2_scores_rf)))"
   ]
  },
  {
   "cell_type": "markdown",
   "metadata": {},
   "source": [
    "* We see that the metrics for all folds in cross_val_score are uniform so it can be concluded that the model is able to generalise"
   ]
  },
  {
   "cell_type": "markdown",
   "metadata": {},
   "source": [
    "### Solving Convergence warning"
   ]
  },
  {
   "cell_type": "code",
   "execution_count": 38,
   "metadata": {},
   "outputs": [
    {
     "name": "stdout",
     "output_type": "stream",
     "text": [
      "Time taken to fit the model in sec is  190.6561941\n"
     ]
    },
    {
     "name": "stderr",
     "output_type": "stream",
     "text": [
      "C:\\Users\\Raghavendra Reddy\\AppData\\Roaming\\Python\\Python39\\site-packages\\sklearn\\linear_model\\_logistic.py:444: ConvergenceWarning: lbfgs failed to converge (status=1):\n",
      "STOP: TOTAL NO. of ITERATIONS REACHED LIMIT.\n",
      "\n",
      "Increase the number of iterations (max_iter) or scale the data as shown in:\n",
      "    https://scikit-learn.org/stable/modules/preprocessing.html\n",
      "Please also refer to the documentation for alternative solver options:\n",
      "    https://scikit-learn.org/stable/modules/linear_model.html#logistic-regression\n",
      "  n_iter_i = _check_optimize_result(\n"
     ]
    }
   ],
   "source": [
    "lr = LogisticRegression(max_iter=700)\n",
    "\n",
    "start_time = timeit.default_timer()\n",
    "lr.fit(X_train,y_train)\n",
    "elapsed = timeit.default_timer() - start_time\n",
    "print(\"Time taken to fit the model in sec is \",elapsed)"
   ]
  },
  {
   "cell_type": "code",
   "execution_count": 32,
   "metadata": {},
   "outputs": [
    {
     "name": "stdout",
     "output_type": "stream",
     "text": [
      "Time taken to fit the model in sec is  509.52083519999996\n"
     ]
    },
    {
     "name": "stderr",
     "output_type": "stream",
     "text": [
      "C:\\Users\\Raghavendra Reddy\\AppData\\Roaming\\Python\\Python39\\site-packages\\sklearn\\linear_model\\_sag.py:350: ConvergenceWarning: The max_iter was reached which means the coef_ did not converge\n",
      "  warnings.warn(\n"
     ]
    }
   ],
   "source": [
    "lr = LogisticRegression(solver='saga',max_iter=200)\n",
    "\n",
    "start_time = timeit.default_timer()\n",
    "lr.fit(X_train,y_train)\n",
    "elapsed = timeit.default_timer() - start_time\n",
    "print(\"Time taken to fit the model in sec is \",elapsed)\n"
   ]
  },
  {
   "cell_type": "code",
   "execution_count": 33,
   "metadata": {},
   "outputs": [
    {
     "name": "stdout",
     "output_type": "stream",
     "text": [
      "Time taken to fit the model in sec is  660.5318058000003\n"
     ]
    }
   ],
   "source": [
    "lr = LogisticRegression(solver='saga',max_iter=300)\n",
    "\n",
    "start_time = timeit.default_timer()\n",
    "lr.fit(X_train,y_train)\n",
    "elapsed = timeit.default_timer() - start_time\n",
    "print(\"Time taken to fit the model in sec is \",elapsed)"
   ]
  },
  {
   "cell_type": "code",
   "execution_count": 34,
   "metadata": {},
   "outputs": [
    {
     "data": {
      "text/plain": [
       "array([[106776,   7610],\n",
       "       [ 14756, 100266]], dtype=int64)"
      ]
     },
     "execution_count": 34,
     "metadata": {},
     "output_type": "execute_result"
    }
   ],
   "source": [
    "y_pred2=lr.predict(X_test2)\n",
    "cnf_matrix = confusion_matrix(y_test2, y_pred2)\n",
    "cnf_matrix"
   ]
  },
  {
   "cell_type": "code",
   "execution_count": 35,
   "metadata": {},
   "outputs": [
    {
     "name": "stdout",
     "output_type": "stream",
     "text": [
      "Accuracy score:0.9025\n",
      "F1 score : 0.8997\n",
      "Recall score : 0.8717\n",
      "Precision score : 0.9295\n"
     ]
    }
   ],
   "source": [
    "print(f\"Accuracy score:{accuracy_score(y_test2, y_pred2):.4f}\")\n",
    "print(f\"F1 score : {f1_score(y_test2, y_pred2):.4f}\")\n",
    "print(f\"Recall score : {recall_score(y_test2, y_pred2):.4f}\")\n",
    "print(f\"Precision score : {precision_score(y_test2, y_pred2):.4f}\")"
   ]
  },
  {
   "cell_type": "code",
   "execution_count": 44,
   "metadata": {},
   "outputs": [
    {
     "name": "stdout",
     "output_type": "stream",
     "text": [
      "Time taken to fit the model in sec is  242.88613199999963\n"
     ]
    },
    {
     "name": "stderr",
     "output_type": "stream",
     "text": [
      "C:\\Users\\Raghavendra Reddy\\AppData\\Roaming\\Python\\Python39\\site-packages\\sklearn\\linear_model\\_sag.py:350: ConvergenceWarning: The max_iter was reached which means the coef_ did not converge\n",
      "  warnings.warn(\n"
     ]
    }
   ],
   "source": [
    "lr = LogisticRegression(solver='sag',max_iter=100)\n",
    "\n",
    "start_time = timeit.default_timer()\n",
    "lr.fit(X_train,y_train)\n",
    "elapsed = timeit.default_timer() - start_time\n",
    "print(\"Time taken to fit the model in sec is \",elapsed)"
   ]
  },
  {
   "cell_type": "code",
   "execution_count": 42,
   "metadata": {},
   "outputs": [
    {
     "name": "stdout",
     "output_type": "stream",
     "text": [
      "Time taken to fit the model in sec is  342.7288783999993\n"
     ]
    }
   ],
   "source": [
    "lr = LogisticRegression(solver='sag',max_iter=200)\n",
    "\n",
    "start_time = timeit.default_timer()\n",
    "lr.fit(X_train,y_train)\n",
    "elapsed = timeit.default_timer() - start_time\n",
    "print(\"Time taken to fit the model in sec is \",elapsed)"
   ]
  },
  {
   "cell_type": "code",
   "execution_count": 43,
   "metadata": {},
   "outputs": [
    {
     "data": {
      "text/plain": [
       "array([[106776,   7610],\n",
       "       [ 14756, 100266]], dtype=int64)"
      ]
     },
     "execution_count": 43,
     "metadata": {},
     "output_type": "execute_result"
    }
   ],
   "source": [
    "y_pred2=lr.predict(X_test2)\n",
    "cnf_matrix = confusion_matrix(y_test2, y_pred2)\n",
    "cnf_matrix"
   ]
  },
  {
   "cell_type": "code",
   "execution_count": 39,
   "metadata": {},
   "outputs": [
    {
     "name": "stdout",
     "output_type": "stream",
     "text": [
      "Time taken to fit the model in sec is  337.0517337000001\n"
     ]
    }
   ],
   "source": [
    "lr = LogisticRegression(solver='sag',max_iter=300)\n",
    "\n",
    "start_time = timeit.default_timer()\n",
    "lr.fit(X_train,y_train)\n",
    "elapsed = timeit.default_timer() - start_time\n",
    "print(\"Time taken to fit the model in sec is \",elapsed)"
   ]
  },
  {
   "cell_type": "code",
   "execution_count": 40,
   "metadata": {},
   "outputs": [
    {
     "data": {
      "text/plain": [
       "array([[106776,   7610],\n",
       "       [ 14756, 100266]], dtype=int64)"
      ]
     },
     "execution_count": 40,
     "metadata": {},
     "output_type": "execute_result"
    }
   ],
   "source": [
    "y_pred2=lr.predict(X_test2)\n",
    "cnf_matrix = confusion_matrix(y_test2, y_pred2)\n",
    "cnf_matrix"
   ]
  },
  {
   "cell_type": "code",
   "execution_count": 41,
   "metadata": {},
   "outputs": [
    {
     "name": "stdout",
     "output_type": "stream",
     "text": [
      "Accuracy score:0.9025\n",
      "F1 score : 0.8997\n",
      "Recall score : 0.8717\n",
      "Precision score : 0.9295\n"
     ]
    }
   ],
   "source": [
    "print(f\"Accuracy score:{accuracy_score(y_test2, y_pred2):.4f}\")\n",
    "print(f\"F1 score : {f1_score(y_test2, y_pred2):.4f}\")\n",
    "print(f\"Recall score : {recall_score(y_test2, y_pred2):.4f}\")\n",
    "print(f\"Precision score : {precision_score(y_test2, y_pred2):.4f}\")"
   ]
  },
  {
   "cell_type": "markdown",
   "metadata": {},
   "source": [
    "### Sag  and Saga resolved the issue convergence warning"
   ]
  },
  {
   "cell_type": "markdown",
   "metadata": {},
   "source": [
    "https://stackoverflow.com/questions/62658215/convergencewarning-lbfgs-failed-to-converge-status-1-stop-total-no-of-iter\n",
    "\n",
    "* But what is algorithm convergence?\n",
    "\n",
    "* In simple words. If the error of solving is ranging within very small range (i.e., it is almost not changing), then that means the algorithm reached the solution (not necessary to be the best solution as it might be stuck at what so-called \"local Optima\").\n",
    "\n",
    "* On the other hand, if the error is varying noticeably (even if the error is relatively small [like in your case the score was good], but rather the differences between the errors per iteration is greater than some tolerance) then we say the algorithm did not converge.\n",
    "\n",
    "* lbfgs has better convergence on relatively small datasets.\n",
    "\n",
    "https://stackoverflow.com/questions/38640109/logistic-regression-python-solvers-definitions/52388406#52388406\n",
    "* sag-It is faster than other solvers for large datasets when both the number of samples and the number of features are large."
   ]
  }
 ],
 "metadata": {
  "colab": {
   "provenance": []
  },
  "kernelspec": {
   "display_name": "Python 3 (ipykernel)",
   "language": "python",
   "name": "python3"
  },
  "language_info": {
   "codemirror_mode": {
    "name": "ipython",
    "version": 3
   },
   "file_extension": ".py",
   "mimetype": "text/x-python",
   "name": "python",
   "nbconvert_exporter": "python",
   "pygments_lexer": "ipython3",
   "version": "3.9.7"
  }
 },
 "nbformat": 4,
 "nbformat_minor": 1
}
