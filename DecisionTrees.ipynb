{
 "cells": [
  {
   "cell_type": "markdown",
   "metadata": {
    "id": "P2U4AUV_JMmP"
   },
   "source": [
    "## Modelling"
   ]
  },
  {
   "cell_type": "code",
   "execution_count": 1,
   "metadata": {},
   "outputs": [],
   "source": [
    "import pandas as pd\n",
    "import numpy as np\n",
    "from sklearn.model_selection import train_test_split,GridSearchCV,cross_val_score\n",
    "import timeit\n",
    "from sklearn.preprocessing import StandardScaler\n",
    "from sklearn.tree import DecisionTreeClassifier\n",
    "import seaborn as sns\n",
    "from sklearn.metrics import confusion_matrix,classification_report,accuracy_score,f1_score,precision_score,recall_score,RocCurveDisplay\n",
    "from matplotlib import pyplot"
   ]
  },
  {
   "cell_type": "code",
   "execution_count": 2,
   "metadata": {},
   "outputs": [],
   "source": [
    "x_resampled=pd.read_csv('resampled_without_encoding.csv')\n",
    "x_resampled_encoding=pd.read_csv('resampled_with_encoding.csv')\n",
    "y_resampled=pd.read_csv('y_resampled.csv')"
   ]
  },
  {
   "cell_type": "markdown",
   "metadata": {},
   "source": [
    "### Data with Resampling and without OneHotEncoding"
   ]
  },
  {
   "cell_type": "code",
   "execution_count": 3,
   "metadata": {},
   "outputs": [],
   "source": [
    "X = x_resampled.values\n",
    "Y = np.squeeze(y_resampled.values)\n",
    "X_train,X_test1,y_train,y_test1=train_test_split(X,Y,test_size=0.2,random_state=10)"
   ]
  },
  {
   "cell_type": "code",
   "execution_count": 4,
   "metadata": {},
   "outputs": [],
   "source": [
    "scaler = StandardScaler().fit(X_train)\n",
    "train_sc = scaler.transform(X_train)\n",
    "test_sc = scaler.transform(X_test1)"
   ]
  },
  {
   "cell_type": "code",
   "execution_count": 5,
   "metadata": {},
   "outputs": [
    {
     "name": "stdout",
     "output_type": "stream",
     "text": [
      "Time taken to fit the model in sec is  20.9806259\n"
     ]
    }
   ],
   "source": [
    "model=DecisionTreeClassifier(random_state=23)\n",
    "start_time = timeit.default_timer()\n",
    "model.fit(train_sc,y_train)\n",
    "elapsed = timeit.default_timer() - start_time\n",
    "print(\"Time taken to fit the model in sec is \",elapsed)\n",
    "y_pred1=model.predict(test_sc)"
   ]
  },
  {
   "cell_type": "code",
   "execution_count": 6,
   "metadata": {},
   "outputs": [
    {
     "name": "stdout",
     "output_type": "stream",
     "text": [
      "Accuracy score:0.9439\n",
      "F1 score : 0.9448\n",
      "Recall score : 0.9574\n",
      "Precision score : 0.9326\n"
     ]
    }
   ],
   "source": [
    "print(f\"Accuracy score:{accuracy_score(y_test1, y_pred1):.4f}\")\n",
    "print(f\"F1 score : {f1_score(y_test1, y_pred1):.4f}\")\n",
    "print(f\"Recall score : {recall_score(y_test1, y_pred1):.4f}\")\n",
    "print(f\"Precision score : {precision_score(y_test1, y_pred1):.4f}\")"
   ]
  },
  {
   "cell_type": "code",
   "execution_count": 7,
   "metadata": {},
   "outputs": [
    {
     "data": {
      "text/plain": [
       "<AxesSubplot:>"
      ]
     },
     "execution_count": 7,
     "metadata": {},
     "output_type": "execute_result"
    },
    {
     "data": {
      "image/png": "[encoded data removed]",
      "text/plain": [
       "<Figure size 432x288 with 2 Axes>"
      ]
     },
     "metadata": {
      "needs_background": "light"
     },
     "output_type": "display_data"
    }
   ],
   "source": [
    "\n",
    "sns.heatmap(confusion_matrix(y_test1,y_pred1),annot=True,fmt='',cmap='Blues')"
   ]
  },
  {
   "cell_type": "code",
   "execution_count": 8,
   "metadata": {},
   "outputs": [
    {
     "name": "stdout",
     "output_type": "stream",
     "text": [
      "              precision    recall  f1-score   support\n",
      "\n",
      "           0       0.96      0.93      0.94    114386\n",
      "           1       0.93      0.96      0.94    115022\n",
      "\n",
      "    accuracy                           0.94    229408\n",
      "   macro avg       0.94      0.94      0.94    229408\n",
      "weighted avg       0.94      0.94      0.94    229408\n",
      "\n"
     ]
    }
   ],
   "source": [
    "print(classification_report(y_test1, y_pred1))"
   ]
  },
  {
   "cell_type": "markdown",
   "metadata": {},
   "source": [
    "### Feature Selection"
   ]
  },
  {
   "cell_type": "code",
   "execution_count": 9,
   "metadata": {},
   "outputs": [
    {
     "data": {
      "text/html": [
       "<div>\n",
       "<style scoped>\n",
       "    .dataframe tbody tr th:only-of-type {\n",
       "        vertical-align: middle;\n",
       "    }\n",
       "\n",
       "    .dataframe tbody tr th {\n",
       "        vertical-align: top;\n",
       "    }\n",
       "\n",
       "    .dataframe thead th {\n",
       "        text-align: right;\n",
       "    }\n",
       "</style>\n",
       "<table border=\"1\" class=\"dataframe\">\n",
       "  <thead>\n",
       "    <tr style=\"text-align: right;\">\n",
       "      <th></th>\n",
       "      <th>Col</th>\n",
       "      <th>Coef</th>\n",
       "      <th>FeatImp</th>\n",
       "    </tr>\n",
       "  </thead>\n",
       "  <tbody>\n",
       "    <tr>\n",
       "      <th>40</th>\n",
       "      <td>ps_ind_08_bin</td>\n",
       "      <td>0.166379</td>\n",
       "      <td>1.0000</td>\n",
       "    </tr>\n",
       "    <tr>\n",
       "      <th>51</th>\n",
       "      <td>ps_reg_01</td>\n",
       "      <td>0.096872</td>\n",
       "      <td>0.5822</td>\n",
       "    </tr>\n",
       "    <tr>\n",
       "      <th>52</th>\n",
       "      <td>ps_reg_02</td>\n",
       "      <td>0.093433</td>\n",
       "      <td>0.5615</td>\n",
       "    </tr>\n",
       "    <tr>\n",
       "      <th>39</th>\n",
       "      <td>ps_ind_07_bin</td>\n",
       "      <td>0.083065</td>\n",
       "      <td>0.4992</td>\n",
       "    </tr>\n",
       "    <tr>\n",
       "      <th>41</th>\n",
       "      <td>ps_ind_09_bin</td>\n",
       "      <td>0.073537</td>\n",
       "      <td>0.4419</td>\n",
       "    </tr>\n",
       "    <tr>\n",
       "      <th>38</th>\n",
       "      <td>ps_ind_06_bin</td>\n",
       "      <td>0.066082</td>\n",
       "      <td>0.3971</td>\n",
       "    </tr>\n",
       "    <tr>\n",
       "      <th>32</th>\n",
       "      <td>ps_car_15</td>\n",
       "      <td>0.041108</td>\n",
       "      <td>0.2470</td>\n",
       "    </tr>\n",
       "    <tr>\n",
       "      <th>49</th>\n",
       "      <td>ps_ind_17_bin</td>\n",
       "      <td>0.037687</td>\n",
       "      <td>0.2264</td>\n",
       "    </tr>\n",
       "    <tr>\n",
       "      <th>47</th>\n",
       "      <td>ps_ind_15</td>\n",
       "      <td>0.021647</td>\n",
       "      <td>0.1300</td>\n",
       "    </tr>\n",
       "    <tr>\n",
       "      <th>50</th>\n",
       "      <td>ps_ind_18_bin</td>\n",
       "      <td>0.021254</td>\n",
       "      <td>0.1276</td>\n",
       "    </tr>\n",
       "    <tr>\n",
       "      <th>48</th>\n",
       "      <td>ps_ind_16_bin</td>\n",
       "      <td>0.019838</td>\n",
       "      <td>0.1191</td>\n",
       "    </tr>\n",
       "    <tr>\n",
       "      <th>18</th>\n",
       "      <td>ps_calc_19_bin</td>\n",
       "      <td>0.018000</td>\n",
       "      <td>0.1081</td>\n",
       "    </tr>\n",
       "    <tr>\n",
       "      <th>21</th>\n",
       "      <td>ps_car_02_cat</td>\n",
       "      <td>0.015597</td>\n",
       "      <td>0.0936</td>\n",
       "    </tr>\n",
       "    <tr>\n",
       "      <th>16</th>\n",
       "      <td>ps_calc_17_bin</td>\n",
       "      <td>0.015402</td>\n",
       "      <td>0.0925</td>\n",
       "    </tr>\n",
       "    <tr>\n",
       "      <th>17</th>\n",
       "      <td>ps_calc_18_bin</td>\n",
       "      <td>0.015209</td>\n",
       "      <td>0.0913</td>\n",
       "    </tr>\n",
       "    <tr>\n",
       "      <th>2</th>\n",
       "      <td>ps_calc_03</td>\n",
       "      <td>0.013906</td>\n",
       "      <td>0.0835</td>\n",
       "    </tr>\n",
       "    <tr>\n",
       "      <th>0</th>\n",
       "      <td>ps_calc_01</td>\n",
       "      <td>0.012646</td>\n",
       "      <td>0.0759</td>\n",
       "    </tr>\n",
       "    <tr>\n",
       "      <th>1</th>\n",
       "      <td>ps_calc_02</td>\n",
       "      <td>0.012306</td>\n",
       "      <td>0.0739</td>\n",
       "    </tr>\n",
       "    <tr>\n",
       "      <th>30</th>\n",
       "      <td>ps_car_13</td>\n",
       "      <td>0.011648</td>\n",
       "      <td>0.0699</td>\n",
       "    </tr>\n",
       "    <tr>\n",
       "      <th>31</th>\n",
       "      <td>ps_car_14</td>\n",
       "      <td>0.011290</td>\n",
       "      <td>0.0677</td>\n",
       "    </tr>\n",
       "    <tr>\n",
       "      <th>29</th>\n",
       "      <td>ps_car_11_cat</td>\n",
       "      <td>0.011106</td>\n",
       "      <td>0.0666</td>\n",
       "    </tr>\n",
       "    <tr>\n",
       "      <th>35</th>\n",
       "      <td>ps_ind_03</td>\n",
       "      <td>0.008756</td>\n",
       "      <td>0.0525</td>\n",
       "    </tr>\n",
       "    <tr>\n",
       "      <th>9</th>\n",
       "      <td>ps_calc_10</td>\n",
       "      <td>0.008338</td>\n",
       "      <td>0.0500</td>\n",
       "    </tr>\n",
       "    <tr>\n",
       "      <th>13</th>\n",
       "      <td>ps_calc_14</td>\n",
       "      <td>0.007895</td>\n",
       "      <td>0.0473</td>\n",
       "    </tr>\n",
       "    <tr>\n",
       "      <th>10</th>\n",
       "      <td>ps_calc_11</td>\n",
       "      <td>0.007379</td>\n",
       "      <td>0.0442</td>\n",
       "    </tr>\n",
       "    <tr>\n",
       "      <th>26</th>\n",
       "      <td>ps_car_09_cat</td>\n",
       "      <td>0.006837</td>\n",
       "      <td>0.0410</td>\n",
       "    </tr>\n",
       "    <tr>\n",
       "      <th>23</th>\n",
       "      <td>ps_car_06_cat</td>\n",
       "      <td>0.006693</td>\n",
       "      <td>0.0401</td>\n",
       "    </tr>\n",
       "    <tr>\n",
       "      <th>12</th>\n",
       "      <td>ps_calc_13</td>\n",
       "      <td>0.006467</td>\n",
       "      <td>0.0388</td>\n",
       "    </tr>\n",
       "    <tr>\n",
       "      <th>5</th>\n",
       "      <td>ps_calc_06</td>\n",
       "      <td>0.006428</td>\n",
       "      <td>0.0385</td>\n",
       "    </tr>\n",
       "    <tr>\n",
       "      <th>7</th>\n",
       "      <td>ps_calc_08</td>\n",
       "      <td>0.006424</td>\n",
       "      <td>0.0385</td>\n",
       "    </tr>\n",
       "    <tr>\n",
       "      <th>25</th>\n",
       "      <td>ps_car_08_cat</td>\n",
       "      <td>0.006125</td>\n",
       "      <td>0.0367</td>\n",
       "    </tr>\n",
       "    <tr>\n",
       "      <th>6</th>\n",
       "      <td>ps_calc_07</td>\n",
       "      <td>0.006099</td>\n",
       "      <td>0.0365</td>\n",
       "    </tr>\n",
       "    <tr>\n",
       "      <th>20</th>\n",
       "      <td>ps_car_01_cat</td>\n",
       "      <td>0.006080</td>\n",
       "      <td>0.0364</td>\n",
       "    </tr>\n",
       "    <tr>\n",
       "      <th>8</th>\n",
       "      <td>ps_calc_09</td>\n",
       "      <td>0.006026</td>\n",
       "      <td>0.0361</td>\n",
       "    </tr>\n",
       "    <tr>\n",
       "      <th>3</th>\n",
       "      <td>ps_calc_04</td>\n",
       "      <td>0.005651</td>\n",
       "      <td>0.0339</td>\n",
       "    </tr>\n",
       "    <tr>\n",
       "      <th>15</th>\n",
       "      <td>ps_calc_16_bin</td>\n",
       "      <td>0.005560</td>\n",
       "      <td>0.0333</td>\n",
       "    </tr>\n",
       "    <tr>\n",
       "      <th>4</th>\n",
       "      <td>ps_calc_05</td>\n",
       "      <td>0.005547</td>\n",
       "      <td>0.0332</td>\n",
       "    </tr>\n",
       "    <tr>\n",
       "      <th>33</th>\n",
       "      <td>ps_ind_01</td>\n",
       "      <td>0.005383</td>\n",
       "      <td>0.0322</td>\n",
       "    </tr>\n",
       "    <tr>\n",
       "      <th>36</th>\n",
       "      <td>ps_ind_04_cat</td>\n",
       "      <td>0.005258</td>\n",
       "      <td>0.0315</td>\n",
       "    </tr>\n",
       "    <tr>\n",
       "      <th>11</th>\n",
       "      <td>ps_calc_12</td>\n",
       "      <td>0.005018</td>\n",
       "      <td>0.0300</td>\n",
       "    </tr>\n",
       "    <tr>\n",
       "      <th>19</th>\n",
       "      <td>ps_calc_20_bin</td>\n",
       "      <td>0.003240</td>\n",
       "      <td>0.0194</td>\n",
       "    </tr>\n",
       "    <tr>\n",
       "      <th>37</th>\n",
       "      <td>ps_ind_05_cat</td>\n",
       "      <td>0.003170</td>\n",
       "      <td>0.0189</td>\n",
       "    </tr>\n",
       "    <tr>\n",
       "      <th>28</th>\n",
       "      <td>ps_car_11</td>\n",
       "      <td>0.003061</td>\n",
       "      <td>0.0183</td>\n",
       "    </tr>\n",
       "    <tr>\n",
       "      <th>24</th>\n",
       "      <td>ps_car_07_cat</td>\n",
       "      <td>0.002768</td>\n",
       "      <td>0.0165</td>\n",
       "    </tr>\n",
       "    <tr>\n",
       "      <th>34</th>\n",
       "      <td>ps_ind_02_cat</td>\n",
       "      <td>0.002707</td>\n",
       "      <td>0.0162</td>\n",
       "    </tr>\n",
       "    <tr>\n",
       "      <th>14</th>\n",
       "      <td>ps_calc_15_bin</td>\n",
       "      <td>0.002089</td>\n",
       "      <td>0.0124</td>\n",
       "    </tr>\n",
       "    <tr>\n",
       "      <th>22</th>\n",
       "      <td>ps_car_04_cat</td>\n",
       "      <td>0.001835</td>\n",
       "      <td>0.0109</td>\n",
       "    </tr>\n",
       "    <tr>\n",
       "      <th>27</th>\n",
       "      <td>ps_car_10_cat</td>\n",
       "      <td>0.000668</td>\n",
       "      <td>0.0039</td>\n",
       "    </tr>\n",
       "    <tr>\n",
       "      <th>46</th>\n",
       "      <td>ps_ind_14</td>\n",
       "      <td>0.000230</td>\n",
       "      <td>0.0013</td>\n",
       "    </tr>\n",
       "    <tr>\n",
       "      <th>44</th>\n",
       "      <td>ps_ind_12_bin</td>\n",
       "      <td>0.000181</td>\n",
       "      <td>0.0010</td>\n",
       "    </tr>\n",
       "    <tr>\n",
       "      <th>43</th>\n",
       "      <td>ps_ind_11_bin</td>\n",
       "      <td>0.000030</td>\n",
       "      <td>0.0001</td>\n",
       "    </tr>\n",
       "    <tr>\n",
       "      <th>45</th>\n",
       "      <td>ps_ind_13_bin</td>\n",
       "      <td>0.000022</td>\n",
       "      <td>0.0000</td>\n",
       "    </tr>\n",
       "    <tr>\n",
       "      <th>42</th>\n",
       "      <td>ps_ind_10_bin</td>\n",
       "      <td>0.000019</td>\n",
       "      <td>0.0000</td>\n",
       "    </tr>\n",
       "  </tbody>\n",
       "</table>\n",
       "</div>"
      ],
      "text/plain": [
       "               Col      Coef  FeatImp\n",
       "40   ps_ind_08_bin  0.166379   1.0000\n",
       "51       ps_reg_01  0.096872   0.5822\n",
       "52       ps_reg_02  0.093433   0.5615\n",
       "39   ps_ind_07_bin  0.083065   0.4992\n",
       "41   ps_ind_09_bin  0.073537   0.4419\n",
       "38   ps_ind_06_bin  0.066082   0.3971\n",
       "32       ps_car_15  0.041108   0.2470\n",
       "49   ps_ind_17_bin  0.037687   0.2264\n",
       "47       ps_ind_15  0.021647   0.1300\n",
       "50   ps_ind_18_bin  0.021254   0.1276\n",
       "48   ps_ind_16_bin  0.019838   0.1191\n",
       "18  ps_calc_19_bin  0.018000   0.1081\n",
       "21   ps_car_02_cat  0.015597   0.0936\n",
       "16  ps_calc_17_bin  0.015402   0.0925\n",
       "17  ps_calc_18_bin  0.015209   0.0913\n",
       "2       ps_calc_03  0.013906   0.0835\n",
       "0       ps_calc_01  0.012646   0.0759\n",
       "1       ps_calc_02  0.012306   0.0739\n",
       "30       ps_car_13  0.011648   0.0699\n",
       "31       ps_car_14  0.011290   0.0677\n",
       "29   ps_car_11_cat  0.011106   0.0666\n",
       "35       ps_ind_03  0.008756   0.0525\n",
       "9       ps_calc_10  0.008338   0.0500\n",
       "13      ps_calc_14  0.007895   0.0473\n",
       "10      ps_calc_11  0.007379   0.0442\n",
       "26   ps_car_09_cat  0.006837   0.0410\n",
       "23   ps_car_06_cat  0.006693   0.0401\n",
       "12      ps_calc_13  0.006467   0.0388\n",
       "5       ps_calc_06  0.006428   0.0385\n",
       "7       ps_calc_08  0.006424   0.0385\n",
       "25   ps_car_08_cat  0.006125   0.0367\n",
       "6       ps_calc_07  0.006099   0.0365\n",
       "20   ps_car_01_cat  0.006080   0.0364\n",
       "8       ps_calc_09  0.006026   0.0361\n",
       "3       ps_calc_04  0.005651   0.0339\n",
       "15  ps_calc_16_bin  0.005560   0.0333\n",
       "4       ps_calc_05  0.005547   0.0332\n",
       "33       ps_ind_01  0.005383   0.0322\n",
       "36   ps_ind_04_cat  0.005258   0.0315\n",
       "11      ps_calc_12  0.005018   0.0300\n",
       "19  ps_calc_20_bin  0.003240   0.0194\n",
       "37   ps_ind_05_cat  0.003170   0.0189\n",
       "28       ps_car_11  0.003061   0.0183\n",
       "24   ps_car_07_cat  0.002768   0.0165\n",
       "34   ps_ind_02_cat  0.002707   0.0162\n",
       "14  ps_calc_15_bin  0.002089   0.0124\n",
       "22   ps_car_04_cat  0.001835   0.0109\n",
       "27   ps_car_10_cat  0.000668   0.0039\n",
       "46       ps_ind_14  0.000230   0.0013\n",
       "44   ps_ind_12_bin  0.000181   0.0010\n",
       "43   ps_ind_11_bin  0.000030   0.0001\n",
       "45   ps_ind_13_bin  0.000022   0.0000\n",
       "42   ps_ind_10_bin  0.000019   0.0000"
      ]
     },
     "execution_count": 9,
     "metadata": {},
     "output_type": "execute_result"
    }
   ],
   "source": [
    "feat_imp = pd.DataFrame({\"Col\": x_resampled.columns})\n",
    "feat_imp[\"Coef\"] = model.feature_importances_\n",
    "#Grouping Encoding features\n",
    "feat_imp[\"Col\"] = feat_imp[\"Col\"].apply(lambda x: (x.split('cat')[0]+'cat') if 'cat' in x else x)\n",
    "feat_imp = feat_imp.groupby(\"Col\",as_index=False).sum().sort_values(\"Coef\", ascending=False)\n",
    "#Scaling weights\n",
    "feat_imp[\"FeatImp\"] = ((feat_imp[\"Coef\"] - feat_imp[\"Coef\"].min())/ (feat_imp[\"Coef\"].max() - feat_imp[\"Coef\"].min())).round(4)\n",
    "feat_imp"
   ]
  },
  {
   "cell_type": "code",
   "execution_count": 10,
   "metadata": {},
   "outputs": [
    {
     "data": {
      "image/png": "[encoded data removed]",
      "text/plain": [
       "<Figure size 720x720 with 1 Axes>"
      ]
     },
     "metadata": {
      "needs_background": "light"
     },
     "output_type": "display_data"
    }
   ],
   "source": [
    "# customized number \n",
    "num_features = 10 \n",
    "\n",
    "pyplot.figure(figsize=(10,10))\n",
    "pyplot.title('Feature Importances')\n",
    "\n",
    "# only plot the customized number of features\n",
    "pyplot.barh(range(num_features), feat_imp['FeatImp'][:num_features][::-1], color='b', align='center')\n",
    "pyplot.yticks(range(num_features), feat_imp['Col'][:num_features][::-1])\n",
    "pyplot.xlabel('Relative Importance')\n",
    "pyplot.show()"
   ]
  },
  {
   "cell_type": "code",
   "execution_count": 11,
   "metadata": {},
   "outputs": [
    {
     "data": {
      "text/plain": [
       "45"
      ]
     },
     "execution_count": 11,
     "metadata": {},
     "output_type": "execute_result"
    }
   ],
   "source": [
    "model.get_depth()"
   ]
  },
  {
   "cell_type": "code",
   "execution_count": 12,
   "metadata": {},
   "outputs": [
    {
     "data": {
      "text/plain": [
       "{'ccp_alpha': 0.0,\n",
       " 'class_weight': None,\n",
       " 'criterion': 'gini',\n",
       " 'max_depth': None,\n",
       " 'max_features': None,\n",
       " 'max_leaf_nodes': None,\n",
       " 'min_impurity_decrease': 0.0,\n",
       " 'min_samples_leaf': 1,\n",
       " 'min_samples_split': 2,\n",
       " 'min_weight_fraction_leaf': 0.0,\n",
       " 'random_state': 23,\n",
       " 'splitter': 'best'}"
      ]
     },
     "execution_count": 12,
     "metadata": {},
     "output_type": "execute_result"
    }
   ],
   "source": [
    "model.get_params()"
   ]
  },
  {
   "cell_type": "code",
   "execution_count": 13,
   "metadata": {},
   "outputs": [
    {
     "data": {
      "text/plain": [
       "37278"
      ]
     },
     "execution_count": 13,
     "metadata": {},
     "output_type": "execute_result"
    }
   ],
   "source": [
    "model.get_n_leaves()"
   ]
  },
  {
   "cell_type": "code",
   "execution_count": 14,
   "metadata": {},
   "outputs": [
    {
     "data": {
      "text/plain": [
       "<sklearn.metrics._plot.roc_curve.RocCurveDisplay at 0x11694855a30>"
      ]
     },
     "execution_count": 14,
     "metadata": {},
     "output_type": "execute_result"
    },
    {
     "data": {
      "image/png": "[encoded data removed]",
      "text/plain": [
       "<Figure size 432x288 with 1 Axes>"
      ]
     },
     "metadata": {
      "needs_background": "light"
     },
     "output_type": "display_data"
    }
   ],
   "source": [
    "RocCurveDisplay.from_predictions(y_test1, y_pred1)"
   ]
  },
  {
   "cell_type": "code",
   "execution_count": 15,
   "metadata": {},
   "outputs": [
    {
     "data": {
      "text/plain": [
       "<sklearn.metrics._plot.roc_curve.RocCurveDisplay at 0x11694128e50>"
      ]
     },
     "execution_count": 15,
     "metadata": {},
     "output_type": "execute_result"
    },
    {
     "data": {
      "image/png": "[encoded data removed]",
      "text/plain": [
       "<Figure size 432x288 with 1 Axes>"
      ]
     },
     "metadata": {
      "needs_background": "light"
     },
     "output_type": "display_data"
    }
   ],
   "source": [
    "RocCurveDisplay.from_estimator(model, test_sc, y_test1)"
   ]
  },
  {
   "cell_type": "markdown",
   "metadata": {},
   "source": [
    "### Data with Resampling and with OneHotEncoding"
   ]
  },
  {
   "cell_type": "code",
   "execution_count": 16,
   "metadata": {},
   "outputs": [],
   "source": [
    "X = x_resampled_encoding.values\n",
    "Y = y_resampled.values\n",
    "X_train,X_test,y_train,y_test=train_test_split(X,Y,test_size=0.2,random_state=10)"
   ]
  },
  {
   "cell_type": "code",
   "execution_count": 17,
   "metadata": {},
   "outputs": [],
   "source": [
    "scaler = StandardScaler().fit(X_train)\n",
    "train_sc = scaler.transform(X_train)\n",
    "test_sc = scaler.transform(X_test)"
   ]
  },
  {
   "cell_type": "code",
   "execution_count": 18,
   "metadata": {},
   "outputs": [
    {
     "name": "stdout",
     "output_type": "stream",
     "text": [
      "Time taken to fit the model in sec is  49.305185599999994\n"
     ]
    }
   ],
   "source": [
    "model=DecisionTreeClassifier(random_state=23)\n",
    "start_time = timeit.default_timer()\n",
    "model.fit(train_sc,y_train)\n",
    "elapsed = timeit.default_timer() - start_time\n",
    "print(\"Time taken to fit the model in sec is \",elapsed)\n",
    "y_pred=model.predict(test_sc)"
   ]
  },
  {
   "cell_type": "code",
   "execution_count": 19,
   "metadata": {},
   "outputs": [
    {
     "name": "stdout",
     "output_type": "stream",
     "text": [
      "Accuracy score:0.9468\n",
      "F1 score : 0.9475\n",
      "Recall score : 0.9568\n",
      "Precision score : 0.9383\n"
     ]
    }
   ],
   "source": [
    "print(f\"Accuracy score:{accuracy_score(y_test, y_pred):.4f}\")\n",
    "print(f\"F1 score : {f1_score(y_test, y_pred):.4f}\")\n",
    "print(f\"Recall score : {recall_score(y_test, y_pred):.4f}\")\n",
    "print(f\"Precision score : {precision_score(y_test, y_pred):.4f}\")"
   ]
  },
  {
   "cell_type": "code",
   "execution_count": 20,
   "metadata": {},
   "outputs": [
    {
     "data": {
      "text/plain": [
       "<AxesSubplot:>"
      ]
     },
     "execution_count": 20,
     "metadata": {},
     "output_type": "execute_result"
    },
    {
     "data": {
      "image/png": "[encoded data removed]",
      "text/plain": [
       "<Figure size 432x288 with 2 Axes>"
      ]
     },
     "metadata": {
      "needs_background": "light"
     },
     "output_type": "display_data"
    }
   ],
   "source": [
    "sns.heatmap(confusion_matrix(y_test,y_pred),annot=True,fmt='',cmap='Blues')"
   ]
  },
  {
   "cell_type": "markdown",
   "metadata": {},
   "source": [
    "### Feature Selection"
   ]
  },
  {
   "cell_type": "code",
   "execution_count": 21,
   "metadata": {},
   "outputs": [
    {
     "data": {
      "text/html": [
       "<div>\n",
       "<style scoped>\n",
       "    .dataframe tbody tr th:only-of-type {\n",
       "        vertical-align: middle;\n",
       "    }\n",
       "\n",
       "    .dataframe tbody tr th {\n",
       "        vertical-align: top;\n",
       "    }\n",
       "\n",
       "    .dataframe thead th {\n",
       "        text-align: right;\n",
       "    }\n",
       "</style>\n",
       "<table border=\"1\" class=\"dataframe\">\n",
       "  <thead>\n",
       "    <tr style=\"text-align: right;\">\n",
       "      <th></th>\n",
       "      <th>Col</th>\n",
       "      <th>Coef</th>\n",
       "      <th>FeatImp</th>\n",
       "    </tr>\n",
       "  </thead>\n",
       "  <tbody>\n",
       "    <tr>\n",
       "      <th>40</th>\n",
       "      <td>ps_ind_08_bin</td>\n",
       "      <td>0.166379</td>\n",
       "      <td>1.0000</td>\n",
       "    </tr>\n",
       "    <tr>\n",
       "      <th>51</th>\n",
       "      <td>ps_reg_01</td>\n",
       "      <td>0.095528</td>\n",
       "      <td>0.5741</td>\n",
       "    </tr>\n",
       "    <tr>\n",
       "      <th>39</th>\n",
       "      <td>ps_ind_07_bin</td>\n",
       "      <td>0.083065</td>\n",
       "      <td>0.4992</td>\n",
       "    </tr>\n",
       "    <tr>\n",
       "      <th>52</th>\n",
       "      <td>ps_reg_02</td>\n",
       "      <td>0.075730</td>\n",
       "      <td>0.4551</td>\n",
       "    </tr>\n",
       "    <tr>\n",
       "      <th>41</th>\n",
       "      <td>ps_ind_09_bin</td>\n",
       "      <td>0.073537</td>\n",
       "      <td>0.4419</td>\n",
       "    </tr>\n",
       "    <tr>\n",
       "      <th>38</th>\n",
       "      <td>ps_ind_06_bin</td>\n",
       "      <td>0.066082</td>\n",
       "      <td>0.3971</td>\n",
       "    </tr>\n",
       "    <tr>\n",
       "      <th>26</th>\n",
       "      <td>ps_car_09_cat</td>\n",
       "      <td>0.042680</td>\n",
       "      <td>0.2565</td>\n",
       "    </tr>\n",
       "    <tr>\n",
       "      <th>29</th>\n",
       "      <td>ps_car_11_cat</td>\n",
       "      <td>0.035997</td>\n",
       "      <td>0.2163</td>\n",
       "    </tr>\n",
       "    <tr>\n",
       "      <th>49</th>\n",
       "      <td>ps_ind_17_bin</td>\n",
       "      <td>0.032109</td>\n",
       "      <td>0.1929</td>\n",
       "    </tr>\n",
       "    <tr>\n",
       "      <th>32</th>\n",
       "      <td>ps_car_15</td>\n",
       "      <td>0.031222</td>\n",
       "      <td>0.1876</td>\n",
       "    </tr>\n",
       "    <tr>\n",
       "      <th>47</th>\n",
       "      <td>ps_ind_15</td>\n",
       "      <td>0.018422</td>\n",
       "      <td>0.1106</td>\n",
       "    </tr>\n",
       "    <tr>\n",
       "      <th>50</th>\n",
       "      <td>ps_ind_18_bin</td>\n",
       "      <td>0.018035</td>\n",
       "      <td>0.1083</td>\n",
       "    </tr>\n",
       "    <tr>\n",
       "      <th>48</th>\n",
       "      <td>ps_ind_16_bin</td>\n",
       "      <td>0.016030</td>\n",
       "      <td>0.0963</td>\n",
       "    </tr>\n",
       "    <tr>\n",
       "      <th>1</th>\n",
       "      <td>ps_calc_02</td>\n",
       "      <td>0.015945</td>\n",
       "      <td>0.0958</td>\n",
       "    </tr>\n",
       "    <tr>\n",
       "      <th>2</th>\n",
       "      <td>ps_calc_03</td>\n",
       "      <td>0.015294</td>\n",
       "      <td>0.0918</td>\n",
       "    </tr>\n",
       "    <tr>\n",
       "      <th>18</th>\n",
       "      <td>ps_calc_19_bin</td>\n",
       "      <td>0.014643</td>\n",
       "      <td>0.0879</td>\n",
       "    </tr>\n",
       "    <tr>\n",
       "      <th>17</th>\n",
       "      <td>ps_calc_18_bin</td>\n",
       "      <td>0.012996</td>\n",
       "      <td>0.0780</td>\n",
       "    </tr>\n",
       "    <tr>\n",
       "      <th>16</th>\n",
       "      <td>ps_calc_17_bin</td>\n",
       "      <td>0.012981</td>\n",
       "      <td>0.0779</td>\n",
       "    </tr>\n",
       "    <tr>\n",
       "      <th>20</th>\n",
       "      <td>ps_car_01_cat</td>\n",
       "      <td>0.012293</td>\n",
       "      <td>0.0738</td>\n",
       "    </tr>\n",
       "    <tr>\n",
       "      <th>21</th>\n",
       "      <td>ps_car_02_cat</td>\n",
       "      <td>0.011509</td>\n",
       "      <td>0.0691</td>\n",
       "    </tr>\n",
       "    <tr>\n",
       "      <th>0</th>\n",
       "      <td>ps_calc_01</td>\n",
       "      <td>0.010319</td>\n",
       "      <td>0.0619</td>\n",
       "    </tr>\n",
       "    <tr>\n",
       "      <th>30</th>\n",
       "      <td>ps_car_13</td>\n",
       "      <td>0.009681</td>\n",
       "      <td>0.0581</td>\n",
       "    </tr>\n",
       "    <tr>\n",
       "      <th>31</th>\n",
       "      <td>ps_car_14</td>\n",
       "      <td>0.008777</td>\n",
       "      <td>0.0527</td>\n",
       "    </tr>\n",
       "    <tr>\n",
       "      <th>23</th>\n",
       "      <td>ps_car_06_cat</td>\n",
       "      <td>0.008447</td>\n",
       "      <td>0.0507</td>\n",
       "    </tr>\n",
       "    <tr>\n",
       "      <th>35</th>\n",
       "      <td>ps_ind_03</td>\n",
       "      <td>0.007521</td>\n",
       "      <td>0.0451</td>\n",
       "    </tr>\n",
       "    <tr>\n",
       "      <th>9</th>\n",
       "      <td>ps_calc_10</td>\n",
       "      <td>0.007203</td>\n",
       "      <td>0.0432</td>\n",
       "    </tr>\n",
       "    <tr>\n",
       "      <th>10</th>\n",
       "      <td>ps_calc_11</td>\n",
       "      <td>0.006996</td>\n",
       "      <td>0.0420</td>\n",
       "    </tr>\n",
       "    <tr>\n",
       "      <th>13</th>\n",
       "      <td>ps_calc_14</td>\n",
       "      <td>0.006861</td>\n",
       "      <td>0.0412</td>\n",
       "    </tr>\n",
       "    <tr>\n",
       "      <th>7</th>\n",
       "      <td>ps_calc_08</td>\n",
       "      <td>0.006073</td>\n",
       "      <td>0.0364</td>\n",
       "    </tr>\n",
       "    <tr>\n",
       "      <th>15</th>\n",
       "      <td>ps_calc_16_bin</td>\n",
       "      <td>0.006042</td>\n",
       "      <td>0.0362</td>\n",
       "    </tr>\n",
       "    <tr>\n",
       "      <th>5</th>\n",
       "      <td>ps_calc_06</td>\n",
       "      <td>0.005695</td>\n",
       "      <td>0.0341</td>\n",
       "    </tr>\n",
       "    <tr>\n",
       "      <th>8</th>\n",
       "      <td>ps_calc_09</td>\n",
       "      <td>0.005683</td>\n",
       "      <td>0.0341</td>\n",
       "    </tr>\n",
       "    <tr>\n",
       "      <th>25</th>\n",
       "      <td>ps_car_08_cat</td>\n",
       "      <td>0.005409</td>\n",
       "      <td>0.0324</td>\n",
       "    </tr>\n",
       "    <tr>\n",
       "      <th>6</th>\n",
       "      <td>ps_calc_07</td>\n",
       "      <td>0.005192</td>\n",
       "      <td>0.0311</td>\n",
       "    </tr>\n",
       "    <tr>\n",
       "      <th>12</th>\n",
       "      <td>ps_calc_13</td>\n",
       "      <td>0.005186</td>\n",
       "      <td>0.0311</td>\n",
       "    </tr>\n",
       "    <tr>\n",
       "      <th>36</th>\n",
       "      <td>ps_ind_04_cat</td>\n",
       "      <td>0.004878</td>\n",
       "      <td>0.0292</td>\n",
       "    </tr>\n",
       "    <tr>\n",
       "      <th>3</th>\n",
       "      <td>ps_calc_04</td>\n",
       "      <td>0.004871</td>\n",
       "      <td>0.0292</td>\n",
       "    </tr>\n",
       "    <tr>\n",
       "      <th>11</th>\n",
       "      <td>ps_calc_12</td>\n",
       "      <td>0.004714</td>\n",
       "      <td>0.0282</td>\n",
       "    </tr>\n",
       "    <tr>\n",
       "      <th>33</th>\n",
       "      <td>ps_ind_01</td>\n",
       "      <td>0.004629</td>\n",
       "      <td>0.0277</td>\n",
       "    </tr>\n",
       "    <tr>\n",
       "      <th>4</th>\n",
       "      <td>ps_calc_05</td>\n",
       "      <td>0.004538</td>\n",
       "      <td>0.0272</td>\n",
       "    </tr>\n",
       "    <tr>\n",
       "      <th>37</th>\n",
       "      <td>ps_ind_05_cat</td>\n",
       "      <td>0.004103</td>\n",
       "      <td>0.0246</td>\n",
       "    </tr>\n",
       "    <tr>\n",
       "      <th>19</th>\n",
       "      <td>ps_calc_20_bin</td>\n",
       "      <td>0.003066</td>\n",
       "      <td>0.0183</td>\n",
       "    </tr>\n",
       "    <tr>\n",
       "      <th>34</th>\n",
       "      <td>ps_ind_02_cat</td>\n",
       "      <td>0.002704</td>\n",
       "      <td>0.0162</td>\n",
       "    </tr>\n",
       "    <tr>\n",
       "      <th>22</th>\n",
       "      <td>ps_car_04_cat</td>\n",
       "      <td>0.002627</td>\n",
       "      <td>0.0157</td>\n",
       "    </tr>\n",
       "    <tr>\n",
       "      <th>24</th>\n",
       "      <td>ps_car_07_cat</td>\n",
       "      <td>0.002562</td>\n",
       "      <td>0.0153</td>\n",
       "    </tr>\n",
       "    <tr>\n",
       "      <th>14</th>\n",
       "      <td>ps_calc_15_bin</td>\n",
       "      <td>0.002485</td>\n",
       "      <td>0.0149</td>\n",
       "    </tr>\n",
       "    <tr>\n",
       "      <th>28</th>\n",
       "      <td>ps_car_11</td>\n",
       "      <td>0.002005</td>\n",
       "      <td>0.0120</td>\n",
       "    </tr>\n",
       "    <tr>\n",
       "      <th>27</th>\n",
       "      <td>ps_car_10_cat</td>\n",
       "      <td>0.000783</td>\n",
       "      <td>0.0046</td>\n",
       "    </tr>\n",
       "    <tr>\n",
       "      <th>46</th>\n",
       "      <td>ps_ind_14</td>\n",
       "      <td>0.000206</td>\n",
       "      <td>0.0012</td>\n",
       "    </tr>\n",
       "    <tr>\n",
       "      <th>44</th>\n",
       "      <td>ps_ind_12_bin</td>\n",
       "      <td>0.000189</td>\n",
       "      <td>0.0011</td>\n",
       "    </tr>\n",
       "    <tr>\n",
       "      <th>45</th>\n",
       "      <td>ps_ind_13_bin</td>\n",
       "      <td>0.000044</td>\n",
       "      <td>0.0002</td>\n",
       "    </tr>\n",
       "    <tr>\n",
       "      <th>43</th>\n",
       "      <td>ps_ind_11_bin</td>\n",
       "      <td>0.000022</td>\n",
       "      <td>0.0000</td>\n",
       "    </tr>\n",
       "    <tr>\n",
       "      <th>42</th>\n",
       "      <td>ps_ind_10_bin</td>\n",
       "      <td>0.000014</td>\n",
       "      <td>0.0000</td>\n",
       "    </tr>\n",
       "  </tbody>\n",
       "</table>\n",
       "</div>"
      ],
      "text/plain": [
       "               Col      Coef  FeatImp\n",
       "40   ps_ind_08_bin  0.166379   1.0000\n",
       "51       ps_reg_01  0.095528   0.5741\n",
       "39   ps_ind_07_bin  0.083065   0.4992\n",
       "52       ps_reg_02  0.075730   0.4551\n",
       "41   ps_ind_09_bin  0.073537   0.4419\n",
       "38   ps_ind_06_bin  0.066082   0.3971\n",
       "26   ps_car_09_cat  0.042680   0.2565\n",
       "29   ps_car_11_cat  0.035997   0.2163\n",
       "49   ps_ind_17_bin  0.032109   0.1929\n",
       "32       ps_car_15  0.031222   0.1876\n",
       "47       ps_ind_15  0.018422   0.1106\n",
       "50   ps_ind_18_bin  0.018035   0.1083\n",
       "48   ps_ind_16_bin  0.016030   0.0963\n",
       "1       ps_calc_02  0.015945   0.0958\n",
       "2       ps_calc_03  0.015294   0.0918\n",
       "18  ps_calc_19_bin  0.014643   0.0879\n",
       "17  ps_calc_18_bin  0.012996   0.0780\n",
       "16  ps_calc_17_bin  0.012981   0.0779\n",
       "20   ps_car_01_cat  0.012293   0.0738\n",
       "21   ps_car_02_cat  0.011509   0.0691\n",
       "0       ps_calc_01  0.010319   0.0619\n",
       "30       ps_car_13  0.009681   0.0581\n",
       "31       ps_car_14  0.008777   0.0527\n",
       "23   ps_car_06_cat  0.008447   0.0507\n",
       "35       ps_ind_03  0.007521   0.0451\n",
       "9       ps_calc_10  0.007203   0.0432\n",
       "10      ps_calc_11  0.006996   0.0420\n",
       "13      ps_calc_14  0.006861   0.0412\n",
       "7       ps_calc_08  0.006073   0.0364\n",
       "15  ps_calc_16_bin  0.006042   0.0362\n",
       "5       ps_calc_06  0.005695   0.0341\n",
       "8       ps_calc_09  0.005683   0.0341\n",
       "25   ps_car_08_cat  0.005409   0.0324\n",
       "6       ps_calc_07  0.005192   0.0311\n",
       "12      ps_calc_13  0.005186   0.0311\n",
       "36   ps_ind_04_cat  0.004878   0.0292\n",
       "3       ps_calc_04  0.004871   0.0292\n",
       "11      ps_calc_12  0.004714   0.0282\n",
       "33       ps_ind_01  0.004629   0.0277\n",
       "4       ps_calc_05  0.004538   0.0272\n",
       "37   ps_ind_05_cat  0.004103   0.0246\n",
       "19  ps_calc_20_bin  0.003066   0.0183\n",
       "34   ps_ind_02_cat  0.002704   0.0162\n",
       "22   ps_car_04_cat  0.002627   0.0157\n",
       "24   ps_car_07_cat  0.002562   0.0153\n",
       "14  ps_calc_15_bin  0.002485   0.0149\n",
       "28       ps_car_11  0.002005   0.0120\n",
       "27   ps_car_10_cat  0.000783   0.0046\n",
       "46       ps_ind_14  0.000206   0.0012\n",
       "44   ps_ind_12_bin  0.000189   0.0011\n",
       "45   ps_ind_13_bin  0.000044   0.0002\n",
       "43   ps_ind_11_bin  0.000022   0.0000\n",
       "42   ps_ind_10_bin  0.000014   0.0000"
      ]
     },
     "execution_count": 21,
     "metadata": {},
     "output_type": "execute_result"
    }
   ],
   "source": [
    "feat_imp = pd.DataFrame({\"Col\": x_resampled_encoding.columns})\n",
    "feat_imp[\"Coef\"] = model.feature_importances_\n",
    "#Grouping Encoding Features\n",
    "feat_imp[\"Col\"] = feat_imp[\"Col\"].apply(lambda x: (x.split('cat')[0]+'cat') if 'cat' in x else x)\n",
    "feat_imp = feat_imp.groupby(\"Col\",as_index=False).sum().sort_values(\"Coef\", ascending=False)\n",
    "#Scaling Weights\n",
    "feat_imp[\"FeatImp\"] = (\n",
    "        (feat_imp[\"Coef\"] - feat_imp[\"Coef\"].min())\n",
    "        / (feat_imp[\"Coef\"].max() - feat_imp[\"Coef\"].min())\n",
    "    ).round(4)\n",
    "feat_imp"
   ]
  },
  {
   "cell_type": "code",
   "execution_count": 22,
   "metadata": {},
   "outputs": [
    {
     "data": {
      "image/png": "[encoded data removed]",
      "text/plain": [
       "<Figure size 720x720 with 1 Axes>"
      ]
     },
     "metadata": {
      "needs_background": "light"
     },
     "output_type": "display_data"
    }
   ],
   "source": [
    "# customized number \n",
    "num_features = 10 \n",
    "\n",
    "pyplot.figure(figsize=(10,10))\n",
    "pyplot.title('Feature Importances')\n",
    "\n",
    "# only plot the customized number of features\n",
    "pyplot.barh(range(num_features), feat_imp['FeatImp'][:num_features][::-1], color='b', align='center')\n",
    "pyplot.yticks(range(num_features), feat_imp['Col'][:num_features][::-1])\n",
    "pyplot.xlabel('Relative Importance')\n",
    "pyplot.show()"
   ]
  },
  {
   "cell_type": "markdown",
   "metadata": {},
   "source": [
    "### Hyperparameter Tuning\n",
    "* Finding the best parameters"
   ]
  },
  {
   "cell_type": "code",
   "execution_count": 24,
   "metadata": {},
   "outputs": [
    {
     "name": "stdout",
     "output_type": "stream",
     "text": [
      "Time taken to fit the model in sec is  27493.8706873\n"
     ]
    }
   ],
   "source": [
    "clf_tree = DecisionTreeClassifier(random_state=23)\n",
    "grid_cv = GridSearchCV(clf_tree, #instance of ML Model\n",
    "                       param_grid= {\"criterion\" : [\"gini\",\"entropy\"] ,\n",
    "                                    \"max_depth\" : range(10,70,5) ,\n",
    "                                    \"splitter\" : [\"best\",\"random\"],\n",
    "                                    \"min_samples_split\": range(2,5),\n",
    "                                    \"min_samples_leaf\": range(1,5),\n",
    "                                   'max_features': ['sqrt', 'log2'],} ,\n",
    "                       cv = 5, \n",
    "                       scoring=\"roc_auc\",\n",
    "                       )\n",
    "\n",
    "start_time = timeit.default_timer()\n",
    "grid_cv.fit(train_sc,y_train)\n",
    "elapsed = timeit.default_timer() - start_time\n",
    "print(\"Time taken to fit the model in sec is \",elapsed)"
   ]
  },
  {
   "cell_type": "code",
   "execution_count": 28,
   "metadata": {},
   "outputs": [
    {
     "data": {
      "text/plain": [
       "{'criterion': 'entropy',\n",
       " 'max_depth': 35,\n",
       " 'max_features': 'sqrt',\n",
       " 'min_samples_leaf': 4,\n",
       " 'min_samples_split': 2,\n",
       " 'splitter': 'best'}"
      ]
     },
     "execution_count": 28,
     "metadata": {},
     "output_type": "execute_result"
    }
   ],
   "source": [
    "grid_cv.best_params_"
   ]
  },
  {
   "cell_type": "code",
   "execution_count": 29,
   "metadata": {},
   "outputs": [],
   "source": [
    "clf_tree_1 = DecisionTreeClassifier(criterion=\"entropy\", max_depth=35, splitter=\"best\",min_samples_leaf=4,min_samples_split=2)\n",
    "clf_tree_1.fit(train_sc,y_train)\n",
    "y_pred=clf_tree_1.predict(test_sc)"
   ]
  },
  {
   "cell_type": "code",
   "execution_count": 30,
   "metadata": {},
   "outputs": [
    {
     "data": {
      "text/plain": [
       "array([[108844,   5542],\n",
       "       [  5828, 109194]], dtype=int64)"
      ]
     },
     "execution_count": 30,
     "metadata": {},
     "output_type": "execute_result"
    }
   ],
   "source": [
    "cnf_matrix = confusion_matrix(y_test, y_pred)\n",
    "cnf_matrix"
   ]
  },
  {
   "cell_type": "code",
   "execution_count": 31,
   "metadata": {},
   "outputs": [
    {
     "name": "stdout",
     "output_type": "stream",
     "text": [
      "Accuracy score:0.9504\n",
      "F1 score : 0.9505\n",
      "Recall score : 0.9517\n",
      "Precision score : 0.9493\n"
     ]
    }
   ],
   "source": [
    "print(f\"Accuracy score:{accuracy_score(y_test, y_pred):.4f}\")\n",
    "print(f\"F1 score : {f1_score(y_test, y_pred):.4f}\")\n",
    "print(f\"Recall score : {recall_score(y_test, y_pred):.4f}\")\n",
    "print(f\"Precision score : {precision_score(y_test, y_pred):.4f}\")"
   ]
  },
  {
   "cell_type": "code",
   "execution_count": 39,
   "metadata": {},
   "outputs": [
    {
     "data": {
      "text/plain": [
       "<AxesSubplot:>"
      ]
     },
     "execution_count": 39,
     "metadata": {},
     "output_type": "execute_result"
    },
    {
     "data": {
      "image/png": "[encoded data removed]",
      "text/plain": [
       "<Figure size 432x288 with 2 Axes>"
      ]
     },
     "metadata": {
      "needs_background": "light"
     },
     "output_type": "display_data"
    }
   ],
   "source": [
    "sns.heatmap(confusion_matrix(y_test,y_pred),annot=True,fmt='',cmap='Blues')"
   ]
  },
  {
   "cell_type": "code",
   "execution_count": 34,
   "metadata": {
    "id": "m4m9v1x5xlLw"
   },
   "outputs": [
    {
     "name": "stdout",
     "output_type": "stream",
     "text": [
      "              precision    recall  f1-score   support\n",
      "\n",
      "           0       0.95      0.95      0.95    114386\n",
      "           1       0.95      0.95      0.95    115022\n",
      "\n",
      "    accuracy                           0.95    229408\n",
      "   macro avg       0.95      0.95      0.95    229408\n",
      "weighted avg       0.95      0.95      0.95    229408\n",
      "\n"
     ]
    }
   ],
   "source": [
    "print(classification_report(y_test, y_pred))"
   ]
  },
  {
   "cell_type": "markdown",
   "metadata": {},
   "source": [
    "### There is approximately same accuracy with and without OneHotEncoding"
   ]
  },
  {
   "cell_type": "markdown",
   "metadata": {},
   "source": [
    "### Performing Cross Validation"
   ]
  },
  {
   "cell_type": "code",
   "execution_count": 44,
   "metadata": {},
   "outputs": [
    {
     "name": "stdout",
     "output_type": "stream",
     "text": [
      "Time taken to fit the model in sec is  56.111048199999914\n",
      "Time taken to perform cv for the model in sec is  645.5209166\n",
      "Cv2 scores: [0.23134328 0.8711466  0.8668573  0.86996094 0.86985633 0.8692635\n",
      " 0.87100599 0.87020392 0.87016905 0.86947159]\n",
      "Mean 5-Fold R Squared: 0.8059278498099616\n"
     ]
    }
   ],
   "source": [
    "import numpy as np\n",
    "clf_tree = DecisionTreeClassifier(criterion=\"entropy\", max_depth=35, splitter=\"best\",min_samples_leaf=4,min_samples_split=2)\n",
    "\n",
    "start_time = timeit.default_timer()\n",
    "clf_tree.fit(train_sc,y_train)\n",
    "elapsed = timeit.default_timer() - start_time\n",
    "print(\"Time taken to fit the model in sec is \",elapsed)\n",
    "\n",
    "start_time = timeit.default_timer()\n",
    "#perform k fold\n",
    "cv_r2_scores_rf = cross_val_score(clf_tree, X, Y, cv=10,scoring='r2')\n",
    "elapsed = timeit.default_timer() - start_time\n",
    "print(\"Time taken to perform cv for the model in sec is \",elapsed)\n",
    "\n",
    "print(\"Cv2 scores:\",cv_r2_scores_rf)\n",
    "print(\"Mean 5-Fold R Squared: {}\".format(np.mean(cv_r2_scores_rf)))"
   ]
  },
  {
   "cell_type": "code",
   "execution_count": null,
   "metadata": {},
   "outputs": [],
   "source": []
  }
 ],
 "metadata": {
  "colab": {
   "provenance": []
  },
  "kernelspec": {
   "display_name": "Python 3 (ipykernel)",
   "language": "python",
   "name": "python3"
  },
  "language_info": {
   "codemirror_mode": {
    "name": "ipython",
    "version": 3
   },
   "file_extension": ".py",
   "mimetype": "text/x-python",
   "name": "python",
   "nbconvert_exporter": "python",
   "pygments_lexer": "ipython3",
   "version": "3.9.7"
  }
 },
 "nbformat": 4,
 "nbformat_minor": 1
}
